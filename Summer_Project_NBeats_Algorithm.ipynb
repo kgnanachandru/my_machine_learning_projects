{
  "cells": [
    {
      "cell_type": "markdown",
      "metadata": {
        "id": "view-in-github",
        "colab_type": "text"
      },
      "source": [
        "<a href=\"https://colab.research.google.com/github/kgnanachandru/my_machine_learning_projects/blob/main/Summer_Project_NBeats_Algorithm.ipynb\" target=\"_parent\"><img src=\"https://colab.research.google.com/assets/colab-badge.svg\" alt=\"Open In Colab\"/></a>"
      ]
    },
    {
      "cell_type": "markdown",
      "metadata": {
        "id": "O_ENgm_Yzwyf"
      },
      "source": [
        "##Downloading the data"
      ]
    },
    {
      "cell_type": "code",
      "execution_count": null,
      "metadata": {
        "colab": {
          "base_uri": "https://localhost:8080/"
        },
        "id": "Q1uVYYW6z-CY",
        "outputId": "9a1dbcde-4123-4aba-9ea2-8320d9a3b8f6"
      },
      "outputs": [
        {
          "output_type": "stream",
          "name": "stdout",
          "text": [
            "Requirement already satisfied: kaggle in /usr/local/lib/python3.11/dist-packages (1.6.17)\n",
            "Requirement already satisfied: six>=1.10 in /usr/local/lib/python3.11/dist-packages (from kaggle) (1.17.0)\n",
            "Requirement already satisfied: certifi>=2023.7.22 in /usr/local/lib/python3.11/dist-packages (from kaggle) (2024.12.14)\n",
            "Requirement already satisfied: python-dateutil in /usr/local/lib/python3.11/dist-packages (from kaggle) (2.8.2)\n",
            "Requirement already satisfied: requests in /usr/local/lib/python3.11/dist-packages (from kaggle) (2.32.3)\n",
            "Requirement already satisfied: tqdm in /usr/local/lib/python3.11/dist-packages (from kaggle) (4.67.1)\n",
            "Requirement already satisfied: python-slugify in /usr/local/lib/python3.11/dist-packages (from kaggle) (8.0.4)\n",
            "Requirement already satisfied: urllib3 in /usr/local/lib/python3.11/dist-packages (from kaggle) (2.3.0)\n",
            "Requirement already satisfied: bleach in /usr/local/lib/python3.11/dist-packages (from kaggle) (6.2.0)\n",
            "Requirement already satisfied: webencodings in /usr/local/lib/python3.11/dist-packages (from bleach->kaggle) (0.5.1)\n",
            "Requirement already satisfied: text-unidecode>=1.3 in /usr/local/lib/python3.11/dist-packages (from python-slugify->kaggle) (1.3)\n",
            "Requirement already satisfied: charset-normalizer<4,>=2 in /usr/local/lib/python3.11/dist-packages (from requests->kaggle) (3.4.1)\n",
            "Requirement already satisfied: idna<4,>=2.5 in /usr/local/lib/python3.11/dist-packages (from requests->kaggle) (3.10)\n"
          ]
        }
      ],
      "source": [
        "!pip install kaggle"
      ]
    },
    {
      "cell_type": "code",
      "execution_count": null,
      "metadata": {
        "colab": {
          "base_uri": "https://localhost:8080/"
        },
        "id": "1F_VMdwU0AOG",
        "outputId": "61f31294-427c-4b21-dac5-148c5e4d4497"
      },
      "outputs": [
        {
          "output_type": "stream",
          "name": "stdout",
          "text": [
            "Dataset URL: https://www.kaggle.com/datasets/rohanrao/nifty50-stock-market-data\n",
            "License(s): CC0-1.0\n",
            "Downloading nifty50-stock-market-data.zip to /content\n",
            " 92% 17.0M/18.4M [00:01<00:00, 20.1MB/s]\n",
            "100% 18.4M/18.4M [00:01<00:00, 10.2MB/s]\n"
          ]
        }
      ],
      "source": [
        "\n",
        "!kaggle datasets download -d rohanrao/nifty50-stock-market-data"
      ]
    },
    {
      "cell_type": "code",
      "execution_count": null,
      "metadata": {
        "id": "okQUmnmy0Nhu"
      },
      "outputs": [],
      "source": [
        "import zipfile\n",
        "zip_ref=zipfile.ZipFile(\"/content/nifty50-stock-market-data.zip\")\n",
        "zip_ref.extractall()"
      ]
    },
    {
      "cell_type": "code",
      "execution_count": null,
      "metadata": {
        "colab": {
          "base_uri": "https://localhost:8080/"
        },
        "id": "NWyDAjil1DHL",
        "outputId": "bb74d3f4-042b-4278-83a2-4589ae4da8ee"
      },
      "outputs": [
        {
          "output_type": "stream",
          "name": "stdout",
          "text": [
            "50\n"
          ]
        },
        {
          "output_type": "execute_result",
          "data": {
            "text/plain": [
              "['TITAN.csv',\n",
              " 'CIPLA.csv',\n",
              " 'INFRATEL.csv',\n",
              " 'LT.csv',\n",
              " 'ASIANPAINT.csv',\n",
              " 'ZEEL.csv',\n",
              " 'BHARTIARTL.csv',\n",
              " 'AXISBANK.csv',\n",
              " 'HDFC.csv',\n",
              " 'VEDL.csv',\n",
              " 'TECHM.csv',\n",
              " 'BAJAJ-AUTO.csv',\n",
              " 'HCLTECH.csv',\n",
              " 'TATASTEEL.csv',\n",
              " 'HEROMOTOCO.csv',\n",
              " 'GRASIM.csv',\n",
              " 'HDFCBANK.csv',\n",
              " 'SBIN.csv',\n",
              " 'NESTLEIND.csv',\n",
              " 'BPCL.csv',\n",
              " 'COALINDIA.csv',\n",
              " 'BAJAJFINSV.csv',\n",
              " 'HINDUNILVR.csv',\n",
              " 'BRITANNIA.csv',\n",
              " 'ONGC.csv',\n",
              " 'DRREDDY.csv',\n",
              " 'ULTRACEMCO.csv',\n",
              " 'BAJFINANCE.csv',\n",
              " 'TCS.csv',\n",
              " 'GAIL.csv',\n",
              " 'HINDALCO.csv',\n",
              " 'ITC.csv',\n",
              " 'UPL.csv',\n",
              " 'MARUTI.csv',\n",
              " 'ICICIBANK.csv',\n",
              " 'ADANIPORTS.csv',\n",
              " 'IOC.csv',\n",
              " 'POWERGRID.csv',\n",
              " 'TATAMOTORS.csv',\n",
              " 'KOTAKBANK.csv',\n",
              " 'JSWSTEEL.csv',\n",
              " 'INFY.csv',\n",
              " 'NTPC.csv',\n",
              " 'SHREECEM.csv',\n",
              " 'EICHERMOT.csv',\n",
              " 'SUNPHARMA.csv',\n",
              " 'WIPRO.csv',\n",
              " 'RELIANCE.csv',\n",
              " 'INDUSINDBK.csv',\n",
              " 'MM.csv']"
            ]
          },
          "metadata": {},
          "execution_count": 11
        }
      ],
      "source": [
        "import os\n",
        "company=[]\n",
        "for i in os.listdir(\"/content/\"):\n",
        "  company.append(i)\n",
        "company.remove(\".config\")\n",
        "company.remove(\"nifty50-stock-market-data.zip\")\n",
        "company.remove(\"stock_metadata.csv\")\n",
        "company.remove(\"sample_data\")\n",
        "company.remove(\"NIFTY50_all.csv\")\n",
        "print(len(company))\n",
        "company"
      ]
    },
    {
      "cell_type": "code",
      "execution_count": null,
      "metadata": {
        "colab": {
          "base_uri": "https://localhost:8080/",
          "height": 275
        },
        "id": "rCKXMtH70aiz",
        "outputId": "cd6c8731-6c8f-43bf-a298-07982b2120f1"
      },
      "outputs": [
        {
          "name": "stdout",
          "output_type": "stream",
          "text": [
            "Enter your choice among['TITAN.csv', 'CIPLA.csv', 'INFRATEL.csv', 'LT.csv', 'ASIANPAINT.csv', 'ZEEL.csv', 'BHARTIARTL.csv', 'AXISBANK.csv', 'HDFC.csv', 'VEDL.csv', 'TECHM.csv', 'BAJAJ-AUTO.csv', 'HCLTECH.csv', 'TATASTEEL.csv', 'HEROMOTOCO.csv', 'GRASIM.csv', 'HDFCBANK.csv', 'SBIN.csv', 'NESTLEIND.csv', 'BPCL.csv', 'COALINDIA.csv', 'BAJAJFINSV.csv', 'HINDUNILVR.csv', 'BRITANNIA.csv', 'ONGC.csv', 'DRREDDY.csv', 'ULTRACEMCO.csv', 'BAJFINANCE.csv', 'TCS.csv', 'GAIL.csv', 'HINDALCO.csv', 'ITC.csv', 'UPL.csv', 'MARUTI.csv', 'ICICIBANK.csv', 'ADANIPORTS.csv', 'IOC.csv', 'POWERGRID.csv', 'TATAMOTORS.csv', 'KOTAKBANK.csv', 'JSWSTEEL.csv', 'INFY.csv', 'NTPC.csv', 'SHREECEM.csv', 'EICHERMOT.csv', 'SUNPHARMA.csv', 'WIPRO.csv', 'RELIANCE.csv', 'INDUSINDBK.csv', 'MM.csv']wipro\n"
          ]
        },
        {
          "output_type": "execute_result",
          "data": {
            "text/plain": [
              "           Symbol Series  Prev Close     Open     High      Low     Last  \\\n",
              "Date                                                                       \n",
              "2000-01-03  WIPRO     EQ     2522.40  2724.00  2724.20  2724.00  2724.20   \n",
              "2000-01-04  WIPRO     EQ     2724.20  2942.15  2942.15  2942.15  2942.15   \n",
              "2000-01-05  WIPRO     EQ     2942.15  2942.15  3177.55  2715.00  3000.00   \n",
              "2000-01-06  WIPRO     EQ     2990.10  3144.70  3183.00  2790.00  2915.00   \n",
              "2000-01-07  WIPRO     EQ     2932.25  2751.00  2751.00  2697.70  2697.70   \n",
              "\n",
              "              Close     VWAP  Volume      Turnover  Trades  \\\n",
              "Date                                                         \n",
              "2000-01-03  2724.20  2724.17    1599  4.355942e+11     NaN   \n",
              "2000-01-04  2942.15  2942.15    4392  1.292192e+12     NaN   \n",
              "2000-01-05  2990.10  3063.86  132297  4.053390e+13     NaN   \n",
              "2000-01-06  2932.25  2962.41   72840  2.157822e+13     NaN   \n",
              "2000-01-07  2697.70  2697.95   10110  2.727630e+12     NaN   \n",
              "\n",
              "            Deliverable Volume  %Deliverble  \n",
              "Date                                         \n",
              "2000-01-03                 NaN          NaN  \n",
              "2000-01-04                 NaN          NaN  \n",
              "2000-01-05                 NaN          NaN  \n",
              "2000-01-06                 NaN          NaN  \n",
              "2000-01-07                 NaN          NaN  "
            ],
            "text/html": [
              "\n",
              "  <div id=\"df-14ce8b78-60a7-4ee4-913d-f73d05837e22\" class=\"colab-df-container\">\n",
              "    <div>\n",
              "<style scoped>\n",
              "    .dataframe tbody tr th:only-of-type {\n",
              "        vertical-align: middle;\n",
              "    }\n",
              "\n",
              "    .dataframe tbody tr th {\n",
              "        vertical-align: top;\n",
              "    }\n",
              "\n",
              "    .dataframe thead th {\n",
              "        text-align: right;\n",
              "    }\n",
              "</style>\n",
              "<table border=\"1\" class=\"dataframe\">\n",
              "  <thead>\n",
              "    <tr style=\"text-align: right;\">\n",
              "      <th></th>\n",
              "      <th>Symbol</th>\n",
              "      <th>Series</th>\n",
              "      <th>Prev Close</th>\n",
              "      <th>Open</th>\n",
              "      <th>High</th>\n",
              "      <th>Low</th>\n",
              "      <th>Last</th>\n",
              "      <th>Close</th>\n",
              "      <th>VWAP</th>\n",
              "      <th>Volume</th>\n",
              "      <th>Turnover</th>\n",
              "      <th>Trades</th>\n",
              "      <th>Deliverable Volume</th>\n",
              "      <th>%Deliverble</th>\n",
              "    </tr>\n",
              "    <tr>\n",
              "      <th>Date</th>\n",
              "      <th></th>\n",
              "      <th></th>\n",
              "      <th></th>\n",
              "      <th></th>\n",
              "      <th></th>\n",
              "      <th></th>\n",
              "      <th></th>\n",
              "      <th></th>\n",
              "      <th></th>\n",
              "      <th></th>\n",
              "      <th></th>\n",
              "      <th></th>\n",
              "      <th></th>\n",
              "      <th></th>\n",
              "    </tr>\n",
              "  </thead>\n",
              "  <tbody>\n",
              "    <tr>\n",
              "      <th>2000-01-03</th>\n",
              "      <td>WIPRO</td>\n",
              "      <td>EQ</td>\n",
              "      <td>2522.40</td>\n",
              "      <td>2724.00</td>\n",
              "      <td>2724.20</td>\n",
              "      <td>2724.00</td>\n",
              "      <td>2724.20</td>\n",
              "      <td>2724.20</td>\n",
              "      <td>2724.17</td>\n",
              "      <td>1599</td>\n",
              "      <td>4.355942e+11</td>\n",
              "      <td>NaN</td>\n",
              "      <td>NaN</td>\n",
              "      <td>NaN</td>\n",
              "    </tr>\n",
              "    <tr>\n",
              "      <th>2000-01-04</th>\n",
              "      <td>WIPRO</td>\n",
              "      <td>EQ</td>\n",
              "      <td>2724.20</td>\n",
              "      <td>2942.15</td>\n",
              "      <td>2942.15</td>\n",
              "      <td>2942.15</td>\n",
              "      <td>2942.15</td>\n",
              "      <td>2942.15</td>\n",
              "      <td>2942.15</td>\n",
              "      <td>4392</td>\n",
              "      <td>1.292192e+12</td>\n",
              "      <td>NaN</td>\n",
              "      <td>NaN</td>\n",
              "      <td>NaN</td>\n",
              "    </tr>\n",
              "    <tr>\n",
              "      <th>2000-01-05</th>\n",
              "      <td>WIPRO</td>\n",
              "      <td>EQ</td>\n",
              "      <td>2942.15</td>\n",
              "      <td>2942.15</td>\n",
              "      <td>3177.55</td>\n",
              "      <td>2715.00</td>\n",
              "      <td>3000.00</td>\n",
              "      <td>2990.10</td>\n",
              "      <td>3063.86</td>\n",
              "      <td>132297</td>\n",
              "      <td>4.053390e+13</td>\n",
              "      <td>NaN</td>\n",
              "      <td>NaN</td>\n",
              "      <td>NaN</td>\n",
              "    </tr>\n",
              "    <tr>\n",
              "      <th>2000-01-06</th>\n",
              "      <td>WIPRO</td>\n",
              "      <td>EQ</td>\n",
              "      <td>2990.10</td>\n",
              "      <td>3144.70</td>\n",
              "      <td>3183.00</td>\n",
              "      <td>2790.00</td>\n",
              "      <td>2915.00</td>\n",
              "      <td>2932.25</td>\n",
              "      <td>2962.41</td>\n",
              "      <td>72840</td>\n",
              "      <td>2.157822e+13</td>\n",
              "      <td>NaN</td>\n",
              "      <td>NaN</td>\n",
              "      <td>NaN</td>\n",
              "    </tr>\n",
              "    <tr>\n",
              "      <th>2000-01-07</th>\n",
              "      <td>WIPRO</td>\n",
              "      <td>EQ</td>\n",
              "      <td>2932.25</td>\n",
              "      <td>2751.00</td>\n",
              "      <td>2751.00</td>\n",
              "      <td>2697.70</td>\n",
              "      <td>2697.70</td>\n",
              "      <td>2697.70</td>\n",
              "      <td>2697.95</td>\n",
              "      <td>10110</td>\n",
              "      <td>2.727630e+12</td>\n",
              "      <td>NaN</td>\n",
              "      <td>NaN</td>\n",
              "      <td>NaN</td>\n",
              "    </tr>\n",
              "  </tbody>\n",
              "</table>\n",
              "</div>\n",
              "    <div class=\"colab-df-buttons\">\n",
              "\n",
              "  <div class=\"colab-df-container\">\n",
              "    <button class=\"colab-df-convert\" onclick=\"convertToInteractive('df-14ce8b78-60a7-4ee4-913d-f73d05837e22')\"\n",
              "            title=\"Convert this dataframe to an interactive table.\"\n",
              "            style=\"display:none;\">\n",
              "\n",
              "  <svg xmlns=\"http://www.w3.org/2000/svg\" height=\"24px\" viewBox=\"0 -960 960 960\">\n",
              "    <path d=\"M120-120v-720h720v720H120Zm60-500h600v-160H180v160Zm220 220h160v-160H400v160Zm0 220h160v-160H400v160ZM180-400h160v-160H180v160Zm440 0h160v-160H620v160ZM180-180h160v-160H180v160Zm440 0h160v-160H620v160Z\"/>\n",
              "  </svg>\n",
              "    </button>\n",
              "\n",
              "  <style>\n",
              "    .colab-df-container {\n",
              "      display:flex;\n",
              "      gap: 12px;\n",
              "    }\n",
              "\n",
              "    .colab-df-convert {\n",
              "      background-color: #E8F0FE;\n",
              "      border: none;\n",
              "      border-radius: 50%;\n",
              "      cursor: pointer;\n",
              "      display: none;\n",
              "      fill: #1967D2;\n",
              "      height: 32px;\n",
              "      padding: 0 0 0 0;\n",
              "      width: 32px;\n",
              "    }\n",
              "\n",
              "    .colab-df-convert:hover {\n",
              "      background-color: #E2EBFA;\n",
              "      box-shadow: 0px 1px 2px rgba(60, 64, 67, 0.3), 0px 1px 3px 1px rgba(60, 64, 67, 0.15);\n",
              "      fill: #174EA6;\n",
              "    }\n",
              "\n",
              "    .colab-df-buttons div {\n",
              "      margin-bottom: 4px;\n",
              "    }\n",
              "\n",
              "    [theme=dark] .colab-df-convert {\n",
              "      background-color: #3B4455;\n",
              "      fill: #D2E3FC;\n",
              "    }\n",
              "\n",
              "    [theme=dark] .colab-df-convert:hover {\n",
              "      background-color: #434B5C;\n",
              "      box-shadow: 0px 1px 3px 1px rgba(0, 0, 0, 0.15);\n",
              "      filter: drop-shadow(0px 1px 2px rgba(0, 0, 0, 0.3));\n",
              "      fill: #FFFFFF;\n",
              "    }\n",
              "  </style>\n",
              "\n",
              "    <script>\n",
              "      const buttonEl =\n",
              "        document.querySelector('#df-14ce8b78-60a7-4ee4-913d-f73d05837e22 button.colab-df-convert');\n",
              "      buttonEl.style.display =\n",
              "        google.colab.kernel.accessAllowed ? 'block' : 'none';\n",
              "\n",
              "      async function convertToInteractive(key) {\n",
              "        const element = document.querySelector('#df-14ce8b78-60a7-4ee4-913d-f73d05837e22');\n",
              "        const dataTable =\n",
              "          await google.colab.kernel.invokeFunction('convertToInteractive',\n",
              "                                                    [key], {});\n",
              "        if (!dataTable) return;\n",
              "\n",
              "        const docLinkHtml = 'Like what you see? Visit the ' +\n",
              "          '<a target=\"_blank\" href=https://colab.research.google.com/notebooks/data_table.ipynb>data table notebook</a>'\n",
              "          + ' to learn more about interactive tables.';\n",
              "        element.innerHTML = '';\n",
              "        dataTable['output_type'] = 'display_data';\n",
              "        await google.colab.output.renderOutput(dataTable, element);\n",
              "        const docLink = document.createElement('div');\n",
              "        docLink.innerHTML = docLinkHtml;\n",
              "        element.appendChild(docLink);\n",
              "      }\n",
              "    </script>\n",
              "  </div>\n",
              "\n",
              "\n",
              "<div id=\"df-9c613aa7-fa38-46c4-9fed-5fc04df6adc8\">\n",
              "  <button class=\"colab-df-quickchart\" onclick=\"quickchart('df-9c613aa7-fa38-46c4-9fed-5fc04df6adc8')\"\n",
              "            title=\"Suggest charts\"\n",
              "            style=\"display:none;\">\n",
              "\n",
              "<svg xmlns=\"http://www.w3.org/2000/svg\" height=\"24px\"viewBox=\"0 0 24 24\"\n",
              "     width=\"24px\">\n",
              "    <g>\n",
              "        <path d=\"M19 3H5c-1.1 0-2 .9-2 2v14c0 1.1.9 2 2 2h14c1.1 0 2-.9 2-2V5c0-1.1-.9-2-2-2zM9 17H7v-7h2v7zm4 0h-2V7h2v10zm4 0h-2v-4h2v4z\"/>\n",
              "    </g>\n",
              "</svg>\n",
              "  </button>\n",
              "\n",
              "<style>\n",
              "  .colab-df-quickchart {\n",
              "      --bg-color: #E8F0FE;\n",
              "      --fill-color: #1967D2;\n",
              "      --hover-bg-color: #E2EBFA;\n",
              "      --hover-fill-color: #174EA6;\n",
              "      --disabled-fill-color: #AAA;\n",
              "      --disabled-bg-color: #DDD;\n",
              "  }\n",
              "\n",
              "  [theme=dark] .colab-df-quickchart {\n",
              "      --bg-color: #3B4455;\n",
              "      --fill-color: #D2E3FC;\n",
              "      --hover-bg-color: #434B5C;\n",
              "      --hover-fill-color: #FFFFFF;\n",
              "      --disabled-bg-color: #3B4455;\n",
              "      --disabled-fill-color: #666;\n",
              "  }\n",
              "\n",
              "  .colab-df-quickchart {\n",
              "    background-color: var(--bg-color);\n",
              "    border: none;\n",
              "    border-radius: 50%;\n",
              "    cursor: pointer;\n",
              "    display: none;\n",
              "    fill: var(--fill-color);\n",
              "    height: 32px;\n",
              "    padding: 0;\n",
              "    width: 32px;\n",
              "  }\n",
              "\n",
              "  .colab-df-quickchart:hover {\n",
              "    background-color: var(--hover-bg-color);\n",
              "    box-shadow: 0 1px 2px rgba(60, 64, 67, 0.3), 0 1px 3px 1px rgba(60, 64, 67, 0.15);\n",
              "    fill: var(--button-hover-fill-color);\n",
              "  }\n",
              "\n",
              "  .colab-df-quickchart-complete:disabled,\n",
              "  .colab-df-quickchart-complete:disabled:hover {\n",
              "    background-color: var(--disabled-bg-color);\n",
              "    fill: var(--disabled-fill-color);\n",
              "    box-shadow: none;\n",
              "  }\n",
              "\n",
              "  .colab-df-spinner {\n",
              "    border: 2px solid var(--fill-color);\n",
              "    border-color: transparent;\n",
              "    border-bottom-color: var(--fill-color);\n",
              "    animation:\n",
              "      spin 1s steps(1) infinite;\n",
              "  }\n",
              "\n",
              "  @keyframes spin {\n",
              "    0% {\n",
              "      border-color: transparent;\n",
              "      border-bottom-color: var(--fill-color);\n",
              "      border-left-color: var(--fill-color);\n",
              "    }\n",
              "    20% {\n",
              "      border-color: transparent;\n",
              "      border-left-color: var(--fill-color);\n",
              "      border-top-color: var(--fill-color);\n",
              "    }\n",
              "    30% {\n",
              "      border-color: transparent;\n",
              "      border-left-color: var(--fill-color);\n",
              "      border-top-color: var(--fill-color);\n",
              "      border-right-color: var(--fill-color);\n",
              "    }\n",
              "    40% {\n",
              "      border-color: transparent;\n",
              "      border-right-color: var(--fill-color);\n",
              "      border-top-color: var(--fill-color);\n",
              "    }\n",
              "    60% {\n",
              "      border-color: transparent;\n",
              "      border-right-color: var(--fill-color);\n",
              "    }\n",
              "    80% {\n",
              "      border-color: transparent;\n",
              "      border-right-color: var(--fill-color);\n",
              "      border-bottom-color: var(--fill-color);\n",
              "    }\n",
              "    90% {\n",
              "      border-color: transparent;\n",
              "      border-bottom-color: var(--fill-color);\n",
              "    }\n",
              "  }\n",
              "</style>\n",
              "\n",
              "  <script>\n",
              "    async function quickchart(key) {\n",
              "      const quickchartButtonEl =\n",
              "        document.querySelector('#' + key + ' button');\n",
              "      quickchartButtonEl.disabled = true;  // To prevent multiple clicks.\n",
              "      quickchartButtonEl.classList.add('colab-df-spinner');\n",
              "      try {\n",
              "        const charts = await google.colab.kernel.invokeFunction(\n",
              "            'suggestCharts', [key], {});\n",
              "      } catch (error) {\n",
              "        console.error('Error during call to suggestCharts:', error);\n",
              "      }\n",
              "      quickchartButtonEl.classList.remove('colab-df-spinner');\n",
              "      quickchartButtonEl.classList.add('colab-df-quickchart-complete');\n",
              "    }\n",
              "    (() => {\n",
              "      let quickchartButtonEl =\n",
              "        document.querySelector('#df-9c613aa7-fa38-46c4-9fed-5fc04df6adc8 button');\n",
              "      quickchartButtonEl.style.display =\n",
              "        google.colab.kernel.accessAllowed ? 'block' : 'none';\n",
              "    })();\n",
              "  </script>\n",
              "</div>\n",
              "\n",
              "    </div>\n",
              "  </div>\n"
            ],
            "application/vnd.google.colaboratory.intrinsic+json": {
              "type": "dataframe",
              "variable_name": "df",
              "summary": "{\n  \"name\": \"df\",\n  \"rows\": 5306,\n  \"fields\": [\n    {\n      \"column\": \"Date\",\n      \"properties\": {\n        \"dtype\": \"date\",\n        \"min\": \"2000-01-03 00:00:00\",\n        \"max\": \"2021-04-30 00:00:00\",\n        \"num_unique_values\": 5306,\n        \"samples\": [\n          \"2003-04-01 00:00:00\",\n          \"2016-03-16 00:00:00\",\n          \"2021-01-20 00:00:00\"\n        ],\n        \"semantic_type\": \"\",\n        \"description\": \"\"\n      }\n    },\n    {\n      \"column\": \"Symbol\",\n      \"properties\": {\n        \"dtype\": \"category\",\n        \"num_unique_values\": 1,\n        \"samples\": [\n          \"WIPRO\"\n        ],\n        \"semantic_type\": \"\",\n        \"description\": \"\"\n      }\n    },\n    {\n      \"column\": \"Series\",\n      \"properties\": {\n        \"dtype\": \"category\",\n        \"num_unique_values\": 1,\n        \"samples\": [\n          \"EQ\"\n        ],\n        \"semantic_type\": \"\",\n        \"description\": \"\"\n      }\n    },\n    {\n      \"column\": \"Prev Close\",\n      \"properties\": {\n        \"dtype\": \"number\",\n        \"std\": 794.5218966808159,\n        \"min\": 162.35,\n        \"max\": 9587.45,\n        \"num_unique_values\": 4441,\n        \"samples\": [\n          2845.55\n        ],\n        \"semantic_type\": \"\",\n        \"description\": \"\"\n      }\n    },\n    {\n      \"column\": \"Open\",\n      \"properties\": {\n        \"dtype\": \"number\",\n        \"std\": 803.3715668401279,\n        \"min\": 163.1,\n        \"max\": 10350.0,\n        \"num_unique_values\": 3271,\n        \"samples\": [\n          385.1\n        ],\n        \"semantic_type\": \"\",\n        \"description\": \"\"\n      }\n    },\n    {\n      \"column\": \"High\",\n      \"properties\": {\n        \"dtype\": \"number\",\n        \"std\": 825.2595126074833,\n        \"min\": 171.35,\n        \"max\": 10350.0,\n        \"num_unique_values\": 3700,\n        \"samples\": [\n          759.8\n        ],\n        \"semantic_type\": \"\",\n        \"description\": \"\"\n      }\n    },\n    {\n      \"column\": \"Low\",\n      \"properties\": {\n        \"dtype\": \"number\",\n        \"std\": 768.6132722765503,\n        \"min\": 159.4,\n        \"max\": 8928.35,\n        \"num_unique_values\": 3898,\n        \"samples\": [\n          235.0\n        ],\n        \"semantic_type\": \"\",\n        \"description\": \"\"\n      }\n    },\n    {\n      \"column\": \"Last\",\n      \"properties\": {\n        \"dtype\": \"number\",\n        \"std\": 794.3834789026142,\n        \"min\": 161.8,\n        \"max\": 9640.0,\n        \"num_unique_values\": 3791,\n        \"samples\": [\n          541.3\n        ],\n        \"semantic_type\": \"\",\n        \"description\": \"\"\n      }\n    },\n    {\n      \"column\": \"Close\",\n      \"properties\": {\n        \"dtype\": \"number\",\n        \"std\": 794.159260209815,\n        \"min\": 162.35,\n        \"max\": 9587.45,\n        \"num_unique_values\": 4441,\n        \"samples\": [\n          2768.85\n        ],\n        \"semantic_type\": \"\",\n        \"description\": \"\"\n      }\n    },\n    {\n      \"column\": \"VWAP\",\n      \"properties\": {\n        \"dtype\": \"number\",\n        \"std\": 795.8256821940314,\n        \"min\": 166.44,\n        \"max\": 9607.14,\n        \"num_unique_values\": 5083,\n        \"samples\": [\n          479.97\n        ],\n        \"semantic_type\": \"\",\n        \"description\": \"\"\n      }\n    },\n    {\n      \"column\": \"Volume\",\n      \"properties\": {\n        \"dtype\": \"number\",\n        \"std\": 4827183,\n        \"min\": 1003,\n        \"max\": 130367693,\n        \"num_unique_values\": 5304,\n        \"samples\": [\n          409130\n        ],\n        \"semantic_type\": \"\",\n        \"description\": \"\"\n      }\n    },\n    {\n      \"column\": \"Turnover\",\n      \"properties\": {\n        \"dtype\": \"number\",\n        \"std\": 174158525881886.16,\n        \"min\": 435594205000.0,\n        \"max\": 5075003233510000.0,\n        \"num_unique_values\": 5306,\n        \"samples\": [\n          42084410835000.0\n        ],\n        \"semantic_type\": \"\",\n        \"description\": \"\"\n      }\n    },\n    {\n      \"column\": \"Trades\",\n      \"properties\": {\n        \"dtype\": \"number\",\n        \"std\": 46662.5020482222,\n        \"min\": 692.0,\n        \"max\": 793471.0,\n        \"num_unique_values\": 2412,\n        \"samples\": [\n          31685.0\n        ],\n        \"semantic_type\": \"\",\n        \"description\": \"\"\n      }\n    },\n    {\n      \"column\": \"Deliverable Volume\",\n      \"properties\": {\n        \"dtype\": \"number\",\n        \"std\": 1324730.8062075863,\n        \"min\": 8242.0,\n        \"max\": 35541399.0,\n        \"num_unique_values\": 4793,\n        \"samples\": [\n          215408.0\n        ],\n        \"semantic_type\": \"\",\n        \"description\": \"\"\n      }\n    },\n    {\n      \"column\": \"%Deliverble\",\n      \"properties\": {\n        \"dtype\": \"number\",\n        \"std\": 0.18519209651430185,\n        \"min\": 0.0364,\n        \"max\": 0.9394,\n        \"num_unique_values\": 3447,\n        \"samples\": [\n          0.2249\n        ],\n        \"semantic_type\": \"\",\n        \"description\": \"\"\n      }\n    }\n  ]\n}"
            }
          },
          "metadata": {},
          "execution_count": 12
        }
      ],
      "source": [
        "import pandas as pd\n",
        "choice_of_company=input(f\"Enter your choice among{company}\")\n",
        "df=pd.read_csv(\"/content/\"+choice_of_company.upper()+\".csv\",\n",
        "               parse_dates=[\"Date\"],\n",
        "               index_col=\"Date\")\n",
        "df.head()"
      ]
    },
    {
      "cell_type": "code",
      "execution_count": null,
      "metadata": {
        "colab": {
          "base_uri": "https://localhost:8080/",
          "height": 237
        },
        "id": "xe5UyKyz2N_B",
        "outputId": "1f31ae18-7b31-4013-9ef8-3b668cd81176"
      },
      "outputs": [
        {
          "output_type": "execute_result",
          "data": {
            "text/plain": [
              "            Closing Price\n",
              "Date                     \n",
              "2000-01-03        2724.20\n",
              "2000-01-04        2942.15\n",
              "2000-01-05        2990.10\n",
              "2000-01-06        2932.25\n",
              "2000-01-07        2697.70"
            ],
            "text/html": [
              "\n",
              "  <div id=\"df-9caca372-ff5e-4b5d-8f50-604df351d528\" class=\"colab-df-container\">\n",
              "    <div>\n",
              "<style scoped>\n",
              "    .dataframe tbody tr th:only-of-type {\n",
              "        vertical-align: middle;\n",
              "    }\n",
              "\n",
              "    .dataframe tbody tr th {\n",
              "        vertical-align: top;\n",
              "    }\n",
              "\n",
              "    .dataframe thead th {\n",
              "        text-align: right;\n",
              "    }\n",
              "</style>\n",
              "<table border=\"1\" class=\"dataframe\">\n",
              "  <thead>\n",
              "    <tr style=\"text-align: right;\">\n",
              "      <th></th>\n",
              "      <th>Closing Price</th>\n",
              "    </tr>\n",
              "    <tr>\n",
              "      <th>Date</th>\n",
              "      <th></th>\n",
              "    </tr>\n",
              "  </thead>\n",
              "  <tbody>\n",
              "    <tr>\n",
              "      <th>2000-01-03</th>\n",
              "      <td>2724.20</td>\n",
              "    </tr>\n",
              "    <tr>\n",
              "      <th>2000-01-04</th>\n",
              "      <td>2942.15</td>\n",
              "    </tr>\n",
              "    <tr>\n",
              "      <th>2000-01-05</th>\n",
              "      <td>2990.10</td>\n",
              "    </tr>\n",
              "    <tr>\n",
              "      <th>2000-01-06</th>\n",
              "      <td>2932.25</td>\n",
              "    </tr>\n",
              "    <tr>\n",
              "      <th>2000-01-07</th>\n",
              "      <td>2697.70</td>\n",
              "    </tr>\n",
              "  </tbody>\n",
              "</table>\n",
              "</div>\n",
              "    <div class=\"colab-df-buttons\">\n",
              "\n",
              "  <div class=\"colab-df-container\">\n",
              "    <button class=\"colab-df-convert\" onclick=\"convertToInteractive('df-9caca372-ff5e-4b5d-8f50-604df351d528')\"\n",
              "            title=\"Convert this dataframe to an interactive table.\"\n",
              "            style=\"display:none;\">\n",
              "\n",
              "  <svg xmlns=\"http://www.w3.org/2000/svg\" height=\"24px\" viewBox=\"0 -960 960 960\">\n",
              "    <path d=\"M120-120v-720h720v720H120Zm60-500h600v-160H180v160Zm220 220h160v-160H400v160Zm0 220h160v-160H400v160ZM180-400h160v-160H180v160Zm440 0h160v-160H620v160ZM180-180h160v-160H180v160Zm440 0h160v-160H620v160Z\"/>\n",
              "  </svg>\n",
              "    </button>\n",
              "\n",
              "  <style>\n",
              "    .colab-df-container {\n",
              "      display:flex;\n",
              "      gap: 12px;\n",
              "    }\n",
              "\n",
              "    .colab-df-convert {\n",
              "      background-color: #E8F0FE;\n",
              "      border: none;\n",
              "      border-radius: 50%;\n",
              "      cursor: pointer;\n",
              "      display: none;\n",
              "      fill: #1967D2;\n",
              "      height: 32px;\n",
              "      padding: 0 0 0 0;\n",
              "      width: 32px;\n",
              "    }\n",
              "\n",
              "    .colab-df-convert:hover {\n",
              "      background-color: #E2EBFA;\n",
              "      box-shadow: 0px 1px 2px rgba(60, 64, 67, 0.3), 0px 1px 3px 1px rgba(60, 64, 67, 0.15);\n",
              "      fill: #174EA6;\n",
              "    }\n",
              "\n",
              "    .colab-df-buttons div {\n",
              "      margin-bottom: 4px;\n",
              "    }\n",
              "\n",
              "    [theme=dark] .colab-df-convert {\n",
              "      background-color: #3B4455;\n",
              "      fill: #D2E3FC;\n",
              "    }\n",
              "\n",
              "    [theme=dark] .colab-df-convert:hover {\n",
              "      background-color: #434B5C;\n",
              "      box-shadow: 0px 1px 3px 1px rgba(0, 0, 0, 0.15);\n",
              "      filter: drop-shadow(0px 1px 2px rgba(0, 0, 0, 0.3));\n",
              "      fill: #FFFFFF;\n",
              "    }\n",
              "  </style>\n",
              "\n",
              "    <script>\n",
              "      const buttonEl =\n",
              "        document.querySelector('#df-9caca372-ff5e-4b5d-8f50-604df351d528 button.colab-df-convert');\n",
              "      buttonEl.style.display =\n",
              "        google.colab.kernel.accessAllowed ? 'block' : 'none';\n",
              "\n",
              "      async function convertToInteractive(key) {\n",
              "        const element = document.querySelector('#df-9caca372-ff5e-4b5d-8f50-604df351d528');\n",
              "        const dataTable =\n",
              "          await google.colab.kernel.invokeFunction('convertToInteractive',\n",
              "                                                    [key], {});\n",
              "        if (!dataTable) return;\n",
              "\n",
              "        const docLinkHtml = 'Like what you see? Visit the ' +\n",
              "          '<a target=\"_blank\" href=https://colab.research.google.com/notebooks/data_table.ipynb>data table notebook</a>'\n",
              "          + ' to learn more about interactive tables.';\n",
              "        element.innerHTML = '';\n",
              "        dataTable['output_type'] = 'display_data';\n",
              "        await google.colab.output.renderOutput(dataTable, element);\n",
              "        const docLink = document.createElement('div');\n",
              "        docLink.innerHTML = docLinkHtml;\n",
              "        element.appendChild(docLink);\n",
              "      }\n",
              "    </script>\n",
              "  </div>\n",
              "\n",
              "\n",
              "<div id=\"df-8d12f5d4-4db5-49c7-9b6f-281211fc07e6\">\n",
              "  <button class=\"colab-df-quickchart\" onclick=\"quickchart('df-8d12f5d4-4db5-49c7-9b6f-281211fc07e6')\"\n",
              "            title=\"Suggest charts\"\n",
              "            style=\"display:none;\">\n",
              "\n",
              "<svg xmlns=\"http://www.w3.org/2000/svg\" height=\"24px\"viewBox=\"0 0 24 24\"\n",
              "     width=\"24px\">\n",
              "    <g>\n",
              "        <path d=\"M19 3H5c-1.1 0-2 .9-2 2v14c0 1.1.9 2 2 2h14c1.1 0 2-.9 2-2V5c0-1.1-.9-2-2-2zM9 17H7v-7h2v7zm4 0h-2V7h2v10zm4 0h-2v-4h2v4z\"/>\n",
              "    </g>\n",
              "</svg>\n",
              "  </button>\n",
              "\n",
              "<style>\n",
              "  .colab-df-quickchart {\n",
              "      --bg-color: #E8F0FE;\n",
              "      --fill-color: #1967D2;\n",
              "      --hover-bg-color: #E2EBFA;\n",
              "      --hover-fill-color: #174EA6;\n",
              "      --disabled-fill-color: #AAA;\n",
              "      --disabled-bg-color: #DDD;\n",
              "  }\n",
              "\n",
              "  [theme=dark] .colab-df-quickchart {\n",
              "      --bg-color: #3B4455;\n",
              "      --fill-color: #D2E3FC;\n",
              "      --hover-bg-color: #434B5C;\n",
              "      --hover-fill-color: #FFFFFF;\n",
              "      --disabled-bg-color: #3B4455;\n",
              "      --disabled-fill-color: #666;\n",
              "  }\n",
              "\n",
              "  .colab-df-quickchart {\n",
              "    background-color: var(--bg-color);\n",
              "    border: none;\n",
              "    border-radius: 50%;\n",
              "    cursor: pointer;\n",
              "    display: none;\n",
              "    fill: var(--fill-color);\n",
              "    height: 32px;\n",
              "    padding: 0;\n",
              "    width: 32px;\n",
              "  }\n",
              "\n",
              "  .colab-df-quickchart:hover {\n",
              "    background-color: var(--hover-bg-color);\n",
              "    box-shadow: 0 1px 2px rgba(60, 64, 67, 0.3), 0 1px 3px 1px rgba(60, 64, 67, 0.15);\n",
              "    fill: var(--button-hover-fill-color);\n",
              "  }\n",
              "\n",
              "  .colab-df-quickchart-complete:disabled,\n",
              "  .colab-df-quickchart-complete:disabled:hover {\n",
              "    background-color: var(--disabled-bg-color);\n",
              "    fill: var(--disabled-fill-color);\n",
              "    box-shadow: none;\n",
              "  }\n",
              "\n",
              "  .colab-df-spinner {\n",
              "    border: 2px solid var(--fill-color);\n",
              "    border-color: transparent;\n",
              "    border-bottom-color: var(--fill-color);\n",
              "    animation:\n",
              "      spin 1s steps(1) infinite;\n",
              "  }\n",
              "\n",
              "  @keyframes spin {\n",
              "    0% {\n",
              "      border-color: transparent;\n",
              "      border-bottom-color: var(--fill-color);\n",
              "      border-left-color: var(--fill-color);\n",
              "    }\n",
              "    20% {\n",
              "      border-color: transparent;\n",
              "      border-left-color: var(--fill-color);\n",
              "      border-top-color: var(--fill-color);\n",
              "    }\n",
              "    30% {\n",
              "      border-color: transparent;\n",
              "      border-left-color: var(--fill-color);\n",
              "      border-top-color: var(--fill-color);\n",
              "      border-right-color: var(--fill-color);\n",
              "    }\n",
              "    40% {\n",
              "      border-color: transparent;\n",
              "      border-right-color: var(--fill-color);\n",
              "      border-top-color: var(--fill-color);\n",
              "    }\n",
              "    60% {\n",
              "      border-color: transparent;\n",
              "      border-right-color: var(--fill-color);\n",
              "    }\n",
              "    80% {\n",
              "      border-color: transparent;\n",
              "      border-right-color: var(--fill-color);\n",
              "      border-bottom-color: var(--fill-color);\n",
              "    }\n",
              "    90% {\n",
              "      border-color: transparent;\n",
              "      border-bottom-color: var(--fill-color);\n",
              "    }\n",
              "  }\n",
              "</style>\n",
              "\n",
              "  <script>\n",
              "    async function quickchart(key) {\n",
              "      const quickchartButtonEl =\n",
              "        document.querySelector('#' + key + ' button');\n",
              "      quickchartButtonEl.disabled = true;  // To prevent multiple clicks.\n",
              "      quickchartButtonEl.classList.add('colab-df-spinner');\n",
              "      try {\n",
              "        const charts = await google.colab.kernel.invokeFunction(\n",
              "            'suggestCharts', [key], {});\n",
              "      } catch (error) {\n",
              "        console.error('Error during call to suggestCharts:', error);\n",
              "      }\n",
              "      quickchartButtonEl.classList.remove('colab-df-spinner');\n",
              "      quickchartButtonEl.classList.add('colab-df-quickchart-complete');\n",
              "    }\n",
              "    (() => {\n",
              "      let quickchartButtonEl =\n",
              "        document.querySelector('#df-8d12f5d4-4db5-49c7-9b6f-281211fc07e6 button');\n",
              "      quickchartButtonEl.style.display =\n",
              "        google.colab.kernel.accessAllowed ? 'block' : 'none';\n",
              "    })();\n",
              "  </script>\n",
              "</div>\n",
              "\n",
              "    </div>\n",
              "  </div>\n"
            ],
            "application/vnd.google.colaboratory.intrinsic+json": {
              "type": "dataframe",
              "variable_name": "stock_prices",
              "summary": "{\n  \"name\": \"stock_prices\",\n  \"rows\": 5306,\n  \"fields\": [\n    {\n      \"column\": \"Date\",\n      \"properties\": {\n        \"dtype\": \"date\",\n        \"min\": \"2000-01-03 00:00:00\",\n        \"max\": \"2021-04-30 00:00:00\",\n        \"num_unique_values\": 5306,\n        \"samples\": [\n          \"2003-04-01 00:00:00\",\n          \"2016-03-16 00:00:00\",\n          \"2021-01-20 00:00:00\"\n        ],\n        \"semantic_type\": \"\",\n        \"description\": \"\"\n      }\n    },\n    {\n      \"column\": \"Closing Price\",\n      \"properties\": {\n        \"dtype\": \"number\",\n        \"std\": 794.159260209815,\n        \"min\": 162.35,\n        \"max\": 9587.45,\n        \"num_unique_values\": 4441,\n        \"samples\": [\n          2768.85,\n          257.2,\n          736.55\n        ],\n        \"semantic_type\": \"\",\n        \"description\": \"\"\n      }\n    }\n  ]\n}"
            }
          },
          "metadata": {},
          "execution_count": 13
        }
      ],
      "source": [
        "stock_prices=pd.DataFrame(df[\"Close\"]).rename(columns={\"Close\":\"Closing Price\"})\n",
        "stock_prices.head()\n"
      ]
    },
    {
      "cell_type": "code",
      "execution_count": null,
      "metadata": {
        "colab": {
          "base_uri": "https://localhost:8080/",
          "height": 237
        },
        "id": "QCr9aUObvmth",
        "outputId": "042990c7-1255-4287-8dfe-b4f357f47903"
      },
      "outputs": [
        {
          "output_type": "execute_result",
          "data": {
            "text/plain": [
              "            Closing Price\n",
              "Date                     \n",
              "2021-04-26         480.30\n",
              "2021-04-27         485.05\n",
              "2021-04-28         489.30\n",
              "2021-04-29         489.85\n",
              "2021-04-30         492.75"
            ],
            "text/html": [
              "\n",
              "  <div id=\"df-bbefc571-9a38-4a4f-8b24-e3f9e062c0f6\" class=\"colab-df-container\">\n",
              "    <div>\n",
              "<style scoped>\n",
              "    .dataframe tbody tr th:only-of-type {\n",
              "        vertical-align: middle;\n",
              "    }\n",
              "\n",
              "    .dataframe tbody tr th {\n",
              "        vertical-align: top;\n",
              "    }\n",
              "\n",
              "    .dataframe thead th {\n",
              "        text-align: right;\n",
              "    }\n",
              "</style>\n",
              "<table border=\"1\" class=\"dataframe\">\n",
              "  <thead>\n",
              "    <tr style=\"text-align: right;\">\n",
              "      <th></th>\n",
              "      <th>Closing Price</th>\n",
              "    </tr>\n",
              "    <tr>\n",
              "      <th>Date</th>\n",
              "      <th></th>\n",
              "    </tr>\n",
              "  </thead>\n",
              "  <tbody>\n",
              "    <tr>\n",
              "      <th>2021-04-26</th>\n",
              "      <td>480.30</td>\n",
              "    </tr>\n",
              "    <tr>\n",
              "      <th>2021-04-27</th>\n",
              "      <td>485.05</td>\n",
              "    </tr>\n",
              "    <tr>\n",
              "      <th>2021-04-28</th>\n",
              "      <td>489.30</td>\n",
              "    </tr>\n",
              "    <tr>\n",
              "      <th>2021-04-29</th>\n",
              "      <td>489.85</td>\n",
              "    </tr>\n",
              "    <tr>\n",
              "      <th>2021-04-30</th>\n",
              "      <td>492.75</td>\n",
              "    </tr>\n",
              "  </tbody>\n",
              "</table>\n",
              "</div>\n",
              "    <div class=\"colab-df-buttons\">\n",
              "\n",
              "  <div class=\"colab-df-container\">\n",
              "    <button class=\"colab-df-convert\" onclick=\"convertToInteractive('df-bbefc571-9a38-4a4f-8b24-e3f9e062c0f6')\"\n",
              "            title=\"Convert this dataframe to an interactive table.\"\n",
              "            style=\"display:none;\">\n",
              "\n",
              "  <svg xmlns=\"http://www.w3.org/2000/svg\" height=\"24px\" viewBox=\"0 -960 960 960\">\n",
              "    <path d=\"M120-120v-720h720v720H120Zm60-500h600v-160H180v160Zm220 220h160v-160H400v160Zm0 220h160v-160H400v160ZM180-400h160v-160H180v160Zm440 0h160v-160H620v160ZM180-180h160v-160H180v160Zm440 0h160v-160H620v160Z\"/>\n",
              "  </svg>\n",
              "    </button>\n",
              "\n",
              "  <style>\n",
              "    .colab-df-container {\n",
              "      display:flex;\n",
              "      gap: 12px;\n",
              "    }\n",
              "\n",
              "    .colab-df-convert {\n",
              "      background-color: #E8F0FE;\n",
              "      border: none;\n",
              "      border-radius: 50%;\n",
              "      cursor: pointer;\n",
              "      display: none;\n",
              "      fill: #1967D2;\n",
              "      height: 32px;\n",
              "      padding: 0 0 0 0;\n",
              "      width: 32px;\n",
              "    }\n",
              "\n",
              "    .colab-df-convert:hover {\n",
              "      background-color: #E2EBFA;\n",
              "      box-shadow: 0px 1px 2px rgba(60, 64, 67, 0.3), 0px 1px 3px 1px rgba(60, 64, 67, 0.15);\n",
              "      fill: #174EA6;\n",
              "    }\n",
              "\n",
              "    .colab-df-buttons div {\n",
              "      margin-bottom: 4px;\n",
              "    }\n",
              "\n",
              "    [theme=dark] .colab-df-convert {\n",
              "      background-color: #3B4455;\n",
              "      fill: #D2E3FC;\n",
              "    }\n",
              "\n",
              "    [theme=dark] .colab-df-convert:hover {\n",
              "      background-color: #434B5C;\n",
              "      box-shadow: 0px 1px 3px 1px rgba(0, 0, 0, 0.15);\n",
              "      filter: drop-shadow(0px 1px 2px rgba(0, 0, 0, 0.3));\n",
              "      fill: #FFFFFF;\n",
              "    }\n",
              "  </style>\n",
              "\n",
              "    <script>\n",
              "      const buttonEl =\n",
              "        document.querySelector('#df-bbefc571-9a38-4a4f-8b24-e3f9e062c0f6 button.colab-df-convert');\n",
              "      buttonEl.style.display =\n",
              "        google.colab.kernel.accessAllowed ? 'block' : 'none';\n",
              "\n",
              "      async function convertToInteractive(key) {\n",
              "        const element = document.querySelector('#df-bbefc571-9a38-4a4f-8b24-e3f9e062c0f6');\n",
              "        const dataTable =\n",
              "          await google.colab.kernel.invokeFunction('convertToInteractive',\n",
              "                                                    [key], {});\n",
              "        if (!dataTable) return;\n",
              "\n",
              "        const docLinkHtml = 'Like what you see? Visit the ' +\n",
              "          '<a target=\"_blank\" href=https://colab.research.google.com/notebooks/data_table.ipynb>data table notebook</a>'\n",
              "          + ' to learn more about interactive tables.';\n",
              "        element.innerHTML = '';\n",
              "        dataTable['output_type'] = 'display_data';\n",
              "        await google.colab.output.renderOutput(dataTable, element);\n",
              "        const docLink = document.createElement('div');\n",
              "        docLink.innerHTML = docLinkHtml;\n",
              "        element.appendChild(docLink);\n",
              "      }\n",
              "    </script>\n",
              "  </div>\n",
              "\n",
              "\n",
              "<div id=\"df-7c79bcce-5b5f-4288-b48f-95e0b52f1fc9\">\n",
              "  <button class=\"colab-df-quickchart\" onclick=\"quickchart('df-7c79bcce-5b5f-4288-b48f-95e0b52f1fc9')\"\n",
              "            title=\"Suggest charts\"\n",
              "            style=\"display:none;\">\n",
              "\n",
              "<svg xmlns=\"http://www.w3.org/2000/svg\" height=\"24px\"viewBox=\"0 0 24 24\"\n",
              "     width=\"24px\">\n",
              "    <g>\n",
              "        <path d=\"M19 3H5c-1.1 0-2 .9-2 2v14c0 1.1.9 2 2 2h14c1.1 0 2-.9 2-2V5c0-1.1-.9-2-2-2zM9 17H7v-7h2v7zm4 0h-2V7h2v10zm4 0h-2v-4h2v4z\"/>\n",
              "    </g>\n",
              "</svg>\n",
              "  </button>\n",
              "\n",
              "<style>\n",
              "  .colab-df-quickchart {\n",
              "      --bg-color: #E8F0FE;\n",
              "      --fill-color: #1967D2;\n",
              "      --hover-bg-color: #E2EBFA;\n",
              "      --hover-fill-color: #174EA6;\n",
              "      --disabled-fill-color: #AAA;\n",
              "      --disabled-bg-color: #DDD;\n",
              "  }\n",
              "\n",
              "  [theme=dark] .colab-df-quickchart {\n",
              "      --bg-color: #3B4455;\n",
              "      --fill-color: #D2E3FC;\n",
              "      --hover-bg-color: #434B5C;\n",
              "      --hover-fill-color: #FFFFFF;\n",
              "      --disabled-bg-color: #3B4455;\n",
              "      --disabled-fill-color: #666;\n",
              "  }\n",
              "\n",
              "  .colab-df-quickchart {\n",
              "    background-color: var(--bg-color);\n",
              "    border: none;\n",
              "    border-radius: 50%;\n",
              "    cursor: pointer;\n",
              "    display: none;\n",
              "    fill: var(--fill-color);\n",
              "    height: 32px;\n",
              "    padding: 0;\n",
              "    width: 32px;\n",
              "  }\n",
              "\n",
              "  .colab-df-quickchart:hover {\n",
              "    background-color: var(--hover-bg-color);\n",
              "    box-shadow: 0 1px 2px rgba(60, 64, 67, 0.3), 0 1px 3px 1px rgba(60, 64, 67, 0.15);\n",
              "    fill: var(--button-hover-fill-color);\n",
              "  }\n",
              "\n",
              "  .colab-df-quickchart-complete:disabled,\n",
              "  .colab-df-quickchart-complete:disabled:hover {\n",
              "    background-color: var(--disabled-bg-color);\n",
              "    fill: var(--disabled-fill-color);\n",
              "    box-shadow: none;\n",
              "  }\n",
              "\n",
              "  .colab-df-spinner {\n",
              "    border: 2px solid var(--fill-color);\n",
              "    border-color: transparent;\n",
              "    border-bottom-color: var(--fill-color);\n",
              "    animation:\n",
              "      spin 1s steps(1) infinite;\n",
              "  }\n",
              "\n",
              "  @keyframes spin {\n",
              "    0% {\n",
              "      border-color: transparent;\n",
              "      border-bottom-color: var(--fill-color);\n",
              "      border-left-color: var(--fill-color);\n",
              "    }\n",
              "    20% {\n",
              "      border-color: transparent;\n",
              "      border-left-color: var(--fill-color);\n",
              "      border-top-color: var(--fill-color);\n",
              "    }\n",
              "    30% {\n",
              "      border-color: transparent;\n",
              "      border-left-color: var(--fill-color);\n",
              "      border-top-color: var(--fill-color);\n",
              "      border-right-color: var(--fill-color);\n",
              "    }\n",
              "    40% {\n",
              "      border-color: transparent;\n",
              "      border-right-color: var(--fill-color);\n",
              "      border-top-color: var(--fill-color);\n",
              "    }\n",
              "    60% {\n",
              "      border-color: transparent;\n",
              "      border-right-color: var(--fill-color);\n",
              "    }\n",
              "    80% {\n",
              "      border-color: transparent;\n",
              "      border-right-color: var(--fill-color);\n",
              "      border-bottom-color: var(--fill-color);\n",
              "    }\n",
              "    90% {\n",
              "      border-color: transparent;\n",
              "      border-bottom-color: var(--fill-color);\n",
              "    }\n",
              "  }\n",
              "</style>\n",
              "\n",
              "  <script>\n",
              "    async function quickchart(key) {\n",
              "      const quickchartButtonEl =\n",
              "        document.querySelector('#' + key + ' button');\n",
              "      quickchartButtonEl.disabled = true;  // To prevent multiple clicks.\n",
              "      quickchartButtonEl.classList.add('colab-df-spinner');\n",
              "      try {\n",
              "        const charts = await google.colab.kernel.invokeFunction(\n",
              "            'suggestCharts', [key], {});\n",
              "      } catch (error) {\n",
              "        console.error('Error during call to suggestCharts:', error);\n",
              "      }\n",
              "      quickchartButtonEl.classList.remove('colab-df-spinner');\n",
              "      quickchartButtonEl.classList.add('colab-df-quickchart-complete');\n",
              "    }\n",
              "    (() => {\n",
              "      let quickchartButtonEl =\n",
              "        document.querySelector('#df-7c79bcce-5b5f-4288-b48f-95e0b52f1fc9 button');\n",
              "      quickchartButtonEl.style.display =\n",
              "        google.colab.kernel.accessAllowed ? 'block' : 'none';\n",
              "    })();\n",
              "  </script>\n",
              "</div>\n",
              "\n",
              "    </div>\n",
              "  </div>\n"
            ],
            "application/vnd.google.colaboratory.intrinsic+json": {
              "type": "dataframe",
              "summary": "{\n  \"name\": \"stock_prices\",\n  \"rows\": 5,\n  \"fields\": [\n    {\n      \"column\": \"Date\",\n      \"properties\": {\n        \"dtype\": \"date\",\n        \"min\": \"2021-04-26 00:00:00\",\n        \"max\": \"2021-04-30 00:00:00\",\n        \"num_unique_values\": 5,\n        \"samples\": [\n          \"2021-04-27 00:00:00\",\n          \"2021-04-30 00:00:00\",\n          \"2021-04-28 00:00:00\"\n        ],\n        \"semantic_type\": \"\",\n        \"description\": \"\"\n      }\n    },\n    {\n      \"column\": \"Closing Price\",\n      \"properties\": {\n        \"dtype\": \"number\",\n        \"std\": 4.8516749685031435,\n        \"min\": 480.3,\n        \"max\": 492.75,\n        \"num_unique_values\": 5,\n        \"samples\": [\n          485.05,\n          492.75,\n          489.3\n        ],\n        \"semantic_type\": \"\",\n        \"description\": \"\"\n      }\n    }\n  ]\n}"
            }
          },
          "metadata": {},
          "execution_count": 14
        }
      ],
      "source": [
        "stock_prices.tail()"
      ]
    },
    {
      "cell_type": "markdown",
      "metadata": {
        "id": "o49Dv5hK5BaG"
      },
      "source": [
        "##Plot the data"
      ]
    },
    {
      "cell_type": "code",
      "execution_count": null,
      "metadata": {
        "colab": {
          "base_uri": "https://localhost:8080/",
          "height": 472
        },
        "id": "EvVf1K3X5a64",
        "outputId": "4d58e12f-7bc0-47f0-c18d-adebf7686ccd"
      },
      "outputs": [
        {
          "output_type": "display_data",
          "data": {
            "text/plain": [
              "<Figure size 640x480 with 1 Axes>"
            ],
            "image/png": "[encoded data removed]"
          },
          "metadata": {}
        }
      ],
      "source": [
        "import matplotlib.pyplot as plt\n",
        "plt.plot(stock_prices)\n",
        "plt.xlabel(\"Date\")\n",
        "plt.ylabel(\"Closing Price\")\n",
        "plt.title(f\"Stock Price of {choice_of_company}\")\n",
        "plt.show()"
      ]
    },
    {
      "cell_type": "markdown",
      "metadata": {
        "id": "1GqNxhLS5v11"
      },
      "source": [
        "##Creating train and test splits for our data"
      ]
    },
    {
      "cell_type": "code",
      "execution_count": null,
      "metadata": {
        "colab": {
          "base_uri": "https://localhost:8080/"
        },
        "id": "kw83H3KQ6Rqv",
        "outputId": "86930bbc-5c1f-42bc-ee37-42eafc9796d8"
      },
      "outputs": [
        {
          "output_type": "execute_result",
          "data": {
            "text/plain": [
              "([datetime.datetime(2000, 1, 3, 0, 0),\n",
              "  datetime.datetime(2000, 1, 4, 0, 0),\n",
              "  datetime.datetime(2000, 1, 5, 0, 0),\n",
              "  datetime.datetime(2000, 1, 6, 0, 0),\n",
              "  datetime.datetime(2000, 1, 7, 0, 0),\n",
              "  datetime.datetime(2000, 1, 10, 0, 0),\n",
              "  datetime.datetime(2000, 1, 11, 0, 0),\n",
              "  datetime.datetime(2000, 1, 12, 0, 0),\n",
              "  datetime.datetime(2000, 1, 13, 0, 0),\n",
              "  datetime.datetime(2000, 1, 14, 0, 0)],\n",
              " [2724.2,\n",
              "  2942.15,\n",
              "  2990.1,\n",
              "  2932.25,\n",
              "  2697.7,\n",
              "  2701.35,\n",
              "  2485.45,\n",
              "  2562.9,\n",
              "  2480.25,\n",
              "  2497.85])"
            ]
          },
          "metadata": {},
          "execution_count": 16
        }
      ],
      "source": [
        "import csv\n",
        "import datetime as dt\n",
        "timesteps=[]\n",
        "price=[]\n",
        "with open(f\"/content/\"+choice_of_company.upper()+\".csv\") as f:\n",
        "  csv_reader=csv.reader(f,delimiter=\",\")\n",
        "  next(csv_reader)\n",
        "  for line in csv_reader:\n",
        "    timesteps.append(dt.datetime.strptime(line[0],\"%Y-%m-%d\"))\n",
        "    price.append(float(line[8]))\n",
        "timesteps[:10],price[:10]"
      ]
    },
    {
      "cell_type": "code",
      "execution_count": null,
      "metadata": {
        "colab": {
          "base_uri": "https://localhost:8080/",
          "height": 472
        },
        "id": "9ybYNLGI8Knx",
        "outputId": "27a9c294-82de-4c66-fc61-ca1a09cff004"
      },
      "outputs": [
        {
          "output_type": "display_data",
          "data": {
            "text/plain": [
              "<Figure size 640x480 with 1 Axes>"
            ],
            "image/png": "[encoded data removed]"
          },
          "metadata": {}
        }
      ],
      "source": [
        "import matplotlib.pyplot as plt\n",
        "plt.plot(timesteps,price)\n",
        "plt.xlabel(\"Date\")\n",
        "plt.ylabel(\"Closing Price\")\n",
        "plt.title(f\"Stock Price of {choice_of_company}\")\n",
        "plt.show()"
      ]
    },
    {
      "cell_type": "code",
      "execution_count": null,
      "metadata": {
        "colab": {
          "base_uri": "https://localhost:8080/"
        },
        "id": "bQlA1w8f53Kb",
        "outputId": "e4ff65c8-d48d-4844-9732-92f269bf08f4"
      },
      "outputs": [
        {
          "output_type": "execute_result",
          "data": {
            "text/plain": [
              "(4244, 1062, 4244, 1062)"
            ]
          },
          "metadata": {},
          "execution_count": 18
        }
      ],
      "source": [
        "split_size=int(len(stock_prices)*0.8)\n",
        "X_train,y_train=timesteps[:split_size],price[:split_size]\n",
        "X_test,y_test=timesteps[split_size:],price[split_size:]\n",
        "len(X_train),len(X_test),len(y_train),len(y_test)"
      ]
    },
    {
      "cell_type": "code",
      "execution_count": null,
      "metadata": {
        "colab": {
          "base_uri": "https://localhost:8080/",
          "height": 621
        },
        "id": "_nkLGt-w59Xb",
        "outputId": "a3817136-125e-4d94-8801-8c0abaf4806f"
      },
      "outputs": [
        {
          "output_type": "display_data",
          "data": {
            "text/plain": [
              "<Figure size 1000x700 with 1 Axes>"
            ],
            "image/png": "[encoded data removed]"
          },
          "metadata": {}
        }
      ],
      "source": [
        "plt.figure(figsize=(10,7))\n",
        "plt.scatter(X_train,y_train,s=5,label=\"Training Data\")\n",
        "plt.scatter(X_test,y_test,s=5,label=\"Testing Data\")\n",
        "plt.xlabel(\"Date\")\n",
        "plt.ylabel(\"Closing Price\")\n",
        "plt.legend()\n",
        "plt.show()"
      ]
    },
    {
      "cell_type": "markdown",
      "metadata": {
        "id": "c6cIcNBFDEXA"
      },
      "source": [
        "##Preparing data"
      ]
    },
    {
      "cell_type": "code",
      "execution_count": null,
      "metadata": {
        "id": "w4DEKNZ0GB3w"
      },
      "outputs": [],
      "source": [
        "WINDOW_SIZE=7\n",
        "HORIZON=1"
      ]
    },
    {
      "cell_type": "code",
      "execution_count": null,
      "metadata": {
        "colab": {
          "base_uri": "https://localhost:8080/",
          "height": 551
        },
        "id": "MmC1o2LQGF3I",
        "outputId": "a45cd3e0-b5f9-467b-94ea-7479ceacd92c"
      },
      "outputs": [
        {
          "output_type": "execute_result",
          "data": {
            "text/plain": [
              "            Closing Price  Closing Price1  Closing Price2  Closing Price3  \\\n",
              "Date                                                                        \n",
              "2000-01-03        2724.20             NaN             NaN             NaN   \n",
              "2000-01-04        2942.15         2724.20             NaN             NaN   \n",
              "2000-01-05        2990.10         2942.15         2724.20             NaN   \n",
              "2000-01-06        2932.25         2990.10         2942.15         2724.20   \n",
              "2000-01-07        2697.70         2932.25         2990.10         2942.15   \n",
              "2000-01-10        2701.35         2697.70         2932.25         2990.10   \n",
              "2000-01-11        2485.45         2701.35         2697.70         2932.25   \n",
              "2000-01-12        2562.90         2485.45         2701.35         2697.70   \n",
              "2000-01-13        2480.25         2562.90         2485.45         2701.35   \n",
              "2000-01-14        2497.85         2480.25         2562.90         2485.45   \n",
              "2000-01-17        2697.70         2497.85         2480.25         2562.90   \n",
              "2000-01-18        2677.15         2697.70         2497.85         2480.25   \n",
              "2000-01-19        2784.50         2677.15         2697.70         2497.85   \n",
              "2000-01-20        2796.40         2784.50         2677.15         2697.70   \n",
              "2000-01-21        2989.70         2796.40         2784.50         2677.15   \n",
              "\n",
              "            Closing Price4  Closing Price5  Closing Price6  Closing Price7  \n",
              "Date                                                                        \n",
              "2000-01-03             NaN             NaN             NaN             NaN  \n",
              "2000-01-04             NaN             NaN             NaN             NaN  \n",
              "2000-01-05             NaN             NaN             NaN             NaN  \n",
              "2000-01-06             NaN             NaN             NaN             NaN  \n",
              "2000-01-07         2724.20             NaN             NaN             NaN  \n",
              "2000-01-10         2942.15         2724.20             NaN             NaN  \n",
              "2000-01-11         2990.10         2942.15         2724.20             NaN  \n",
              "2000-01-12         2932.25         2990.10         2942.15         2724.20  \n",
              "2000-01-13         2697.70         2932.25         2990.10         2942.15  \n",
              "2000-01-14         2701.35         2697.70         2932.25         2990.10  \n",
              "2000-01-17         2485.45         2701.35         2697.70         2932.25  \n",
              "2000-01-18         2562.90         2485.45         2701.35         2697.70  \n",
              "2000-01-19         2480.25         2562.90         2485.45         2701.35  \n",
              "2000-01-20         2497.85         2480.25         2562.90         2485.45  \n",
              "2000-01-21         2697.70         2497.85         2480.25         2562.90  "
            ],
            "text/html": [
              "\n",
              "  <div id=\"df-b954dedc-287e-45e8-aef8-3cdcc278ad97\" class=\"colab-df-container\">\n",
              "    <div>\n",
              "<style scoped>\n",
              "    .dataframe tbody tr th:only-of-type {\n",
              "        vertical-align: middle;\n",
              "    }\n",
              "\n",
              "    .dataframe tbody tr th {\n",
              "        vertical-align: top;\n",
              "    }\n",
              "\n",
              "    .dataframe thead th {\n",
              "        text-align: right;\n",
              "    }\n",
              "</style>\n",
              "<table border=\"1\" class=\"dataframe\">\n",
              "  <thead>\n",
              "    <tr style=\"text-align: right;\">\n",
              "      <th></th>\n",
              "      <th>Closing Price</th>\n",
              "      <th>Closing Price1</th>\n",
              "      <th>Closing Price2</th>\n",
              "      <th>Closing Price3</th>\n",
              "      <th>Closing Price4</th>\n",
              "      <th>Closing Price5</th>\n",
              "      <th>Closing Price6</th>\n",
              "      <th>Closing Price7</th>\n",
              "    </tr>\n",
              "    <tr>\n",
              "      <th>Date</th>\n",
              "      <th></th>\n",
              "      <th></th>\n",
              "      <th></th>\n",
              "      <th></th>\n",
              "      <th></th>\n",
              "      <th></th>\n",
              "      <th></th>\n",
              "      <th></th>\n",
              "    </tr>\n",
              "  </thead>\n",
              "  <tbody>\n",
              "    <tr>\n",
              "      <th>2000-01-03</th>\n",
              "      <td>2724.20</td>\n",
              "      <td>NaN</td>\n",
              "      <td>NaN</td>\n",
              "      <td>NaN</td>\n",
              "      <td>NaN</td>\n",
              "      <td>NaN</td>\n",
              "      <td>NaN</td>\n",
              "      <td>NaN</td>\n",
              "    </tr>\n",
              "    <tr>\n",
              "      <th>2000-01-04</th>\n",
              "      <td>2942.15</td>\n",
              "      <td>2724.20</td>\n",
              "      <td>NaN</td>\n",
              "      <td>NaN</td>\n",
              "      <td>NaN</td>\n",
              "      <td>NaN</td>\n",
              "      <td>NaN</td>\n",
              "      <td>NaN</td>\n",
              "    </tr>\n",
              "    <tr>\n",
              "      <th>2000-01-05</th>\n",
              "      <td>2990.10</td>\n",
              "      <td>2942.15</td>\n",
              "      <td>2724.20</td>\n",
              "      <td>NaN</td>\n",
              "      <td>NaN</td>\n",
              "      <td>NaN</td>\n",
              "      <td>NaN</td>\n",
              "      <td>NaN</td>\n",
              "    </tr>\n",
              "    <tr>\n",
              "      <th>2000-01-06</th>\n",
              "      <td>2932.25</td>\n",
              "      <td>2990.10</td>\n",
              "      <td>2942.15</td>\n",
              "      <td>2724.20</td>\n",
              "      <td>NaN</td>\n",
              "      <td>NaN</td>\n",
              "      <td>NaN</td>\n",
              "      <td>NaN</td>\n",
              "    </tr>\n",
              "    <tr>\n",
              "      <th>2000-01-07</th>\n",
              "      <td>2697.70</td>\n",
              "      <td>2932.25</td>\n",
              "      <td>2990.10</td>\n",
              "      <td>2942.15</td>\n",
              "      <td>2724.20</td>\n",
              "      <td>NaN</td>\n",
              "      <td>NaN</td>\n",
              "      <td>NaN</td>\n",
              "    </tr>\n",
              "    <tr>\n",
              "      <th>2000-01-10</th>\n",
              "      <td>2701.35</td>\n",
              "      <td>2697.70</td>\n",
              "      <td>2932.25</td>\n",
              "      <td>2990.10</td>\n",
              "      <td>2942.15</td>\n",
              "      <td>2724.20</td>\n",
              "      <td>NaN</td>\n",
              "      <td>NaN</td>\n",
              "    </tr>\n",
              "    <tr>\n",
              "      <th>2000-01-11</th>\n",
              "      <td>2485.45</td>\n",
              "      <td>2701.35</td>\n",
              "      <td>2697.70</td>\n",
              "      <td>2932.25</td>\n",
              "      <td>2990.10</td>\n",
              "      <td>2942.15</td>\n",
              "      <td>2724.20</td>\n",
              "      <td>NaN</td>\n",
              "    </tr>\n",
              "    <tr>\n",
              "      <th>2000-01-12</th>\n",
              "      <td>2562.90</td>\n",
              "      <td>2485.45</td>\n",
              "      <td>2701.35</td>\n",
              "      <td>2697.70</td>\n",
              "      <td>2932.25</td>\n",
              "      <td>2990.10</td>\n",
              "      <td>2942.15</td>\n",
              "      <td>2724.20</td>\n",
              "    </tr>\n",
              "    <tr>\n",
              "      <th>2000-01-13</th>\n",
              "      <td>2480.25</td>\n",
              "      <td>2562.90</td>\n",
              "      <td>2485.45</td>\n",
              "      <td>2701.35</td>\n",
              "      <td>2697.70</td>\n",
              "      <td>2932.25</td>\n",
              "      <td>2990.10</td>\n",
              "      <td>2942.15</td>\n",
              "    </tr>\n",
              "    <tr>\n",
              "      <th>2000-01-14</th>\n",
              "      <td>2497.85</td>\n",
              "      <td>2480.25</td>\n",
              "      <td>2562.90</td>\n",
              "      <td>2485.45</td>\n",
              "      <td>2701.35</td>\n",
              "      <td>2697.70</td>\n",
              "      <td>2932.25</td>\n",
              "      <td>2990.10</td>\n",
              "    </tr>\n",
              "    <tr>\n",
              "      <th>2000-01-17</th>\n",
              "      <td>2697.70</td>\n",
              "      <td>2497.85</td>\n",
              "      <td>2480.25</td>\n",
              "      <td>2562.90</td>\n",
              "      <td>2485.45</td>\n",
              "      <td>2701.35</td>\n",
              "      <td>2697.70</td>\n",
              "      <td>2932.25</td>\n",
              "    </tr>\n",
              "    <tr>\n",
              "      <th>2000-01-18</th>\n",
              "      <td>2677.15</td>\n",
              "      <td>2697.70</td>\n",
              "      <td>2497.85</td>\n",
              "      <td>2480.25</td>\n",
              "      <td>2562.90</td>\n",
              "      <td>2485.45</td>\n",
              "      <td>2701.35</td>\n",
              "      <td>2697.70</td>\n",
              "    </tr>\n",
              "    <tr>\n",
              "      <th>2000-01-19</th>\n",
              "      <td>2784.50</td>\n",
              "      <td>2677.15</td>\n",
              "      <td>2697.70</td>\n",
              "      <td>2497.85</td>\n",
              "      <td>2480.25</td>\n",
              "      <td>2562.90</td>\n",
              "      <td>2485.45</td>\n",
              "      <td>2701.35</td>\n",
              "    </tr>\n",
              "    <tr>\n",
              "      <th>2000-01-20</th>\n",
              "      <td>2796.40</td>\n",
              "      <td>2784.50</td>\n",
              "      <td>2677.15</td>\n",
              "      <td>2697.70</td>\n",
              "      <td>2497.85</td>\n",
              "      <td>2480.25</td>\n",
              "      <td>2562.90</td>\n",
              "      <td>2485.45</td>\n",
              "    </tr>\n",
              "    <tr>\n",
              "      <th>2000-01-21</th>\n",
              "      <td>2989.70</td>\n",
              "      <td>2796.40</td>\n",
              "      <td>2784.50</td>\n",
              "      <td>2677.15</td>\n",
              "      <td>2697.70</td>\n",
              "      <td>2497.85</td>\n",
              "      <td>2480.25</td>\n",
              "      <td>2562.90</td>\n",
              "    </tr>\n",
              "  </tbody>\n",
              "</table>\n",
              "</div>\n",
              "    <div class=\"colab-df-buttons\">\n",
              "\n",
              "  <div class=\"colab-df-container\">\n",
              "    <button class=\"colab-df-convert\" onclick=\"convertToInteractive('df-b954dedc-287e-45e8-aef8-3cdcc278ad97')\"\n",
              "            title=\"Convert this dataframe to an interactive table.\"\n",
              "            style=\"display:none;\">\n",
              "\n",
              "  <svg xmlns=\"http://www.w3.org/2000/svg\" height=\"24px\" viewBox=\"0 -960 960 960\">\n",
              "    <path d=\"M120-120v-720h720v720H120Zm60-500h600v-160H180v160Zm220 220h160v-160H400v160Zm0 220h160v-160H400v160ZM180-400h160v-160H180v160Zm440 0h160v-160H620v160ZM180-180h160v-160H180v160Zm440 0h160v-160H620v160Z\"/>\n",
              "  </svg>\n",
              "    </button>\n",
              "\n",
              "  <style>\n",
              "    .colab-df-container {\n",
              "      display:flex;\n",
              "      gap: 12px;\n",
              "    }\n",
              "\n",
              "    .colab-df-convert {\n",
              "      background-color: #E8F0FE;\n",
              "      border: none;\n",
              "      border-radius: 50%;\n",
              "      cursor: pointer;\n",
              "      display: none;\n",
              "      fill: #1967D2;\n",
              "      height: 32px;\n",
              "      padding: 0 0 0 0;\n",
              "      width: 32px;\n",
              "    }\n",
              "\n",
              "    .colab-df-convert:hover {\n",
              "      background-color: #E2EBFA;\n",
              "      box-shadow: 0px 1px 2px rgba(60, 64, 67, 0.3), 0px 1px 3px 1px rgba(60, 64, 67, 0.15);\n",
              "      fill: #174EA6;\n",
              "    }\n",
              "\n",
              "    .colab-df-buttons div {\n",
              "      margin-bottom: 4px;\n",
              "    }\n",
              "\n",
              "    [theme=dark] .colab-df-convert {\n",
              "      background-color: #3B4455;\n",
              "      fill: #D2E3FC;\n",
              "    }\n",
              "\n",
              "    [theme=dark] .colab-df-convert:hover {\n",
              "      background-color: #434B5C;\n",
              "      box-shadow: 0px 1px 3px 1px rgba(0, 0, 0, 0.15);\n",
              "      filter: drop-shadow(0px 1px 2px rgba(0, 0, 0, 0.3));\n",
              "      fill: #FFFFFF;\n",
              "    }\n",
              "  </style>\n",
              "\n",
              "    <script>\n",
              "      const buttonEl =\n",
              "        document.querySelector('#df-b954dedc-287e-45e8-aef8-3cdcc278ad97 button.colab-df-convert');\n",
              "      buttonEl.style.display =\n",
              "        google.colab.kernel.accessAllowed ? 'block' : 'none';\n",
              "\n",
              "      async function convertToInteractive(key) {\n",
              "        const element = document.querySelector('#df-b954dedc-287e-45e8-aef8-3cdcc278ad97');\n",
              "        const dataTable =\n",
              "          await google.colab.kernel.invokeFunction('convertToInteractive',\n",
              "                                                    [key], {});\n",
              "        if (!dataTable) return;\n",
              "\n",
              "        const docLinkHtml = 'Like what you see? Visit the ' +\n",
              "          '<a target=\"_blank\" href=https://colab.research.google.com/notebooks/data_table.ipynb>data table notebook</a>'\n",
              "          + ' to learn more about interactive tables.';\n",
              "        element.innerHTML = '';\n",
              "        dataTable['output_type'] = 'display_data';\n",
              "        await google.colab.output.renderOutput(dataTable, element);\n",
              "        const docLink = document.createElement('div');\n",
              "        docLink.innerHTML = docLinkHtml;\n",
              "        element.appendChild(docLink);\n",
              "      }\n",
              "    </script>\n",
              "  </div>\n",
              "\n",
              "\n",
              "<div id=\"df-1edcd7b4-3670-4955-a51a-05b77d92a158\">\n",
              "  <button class=\"colab-df-quickchart\" onclick=\"quickchart('df-1edcd7b4-3670-4955-a51a-05b77d92a158')\"\n",
              "            title=\"Suggest charts\"\n",
              "            style=\"display:none;\">\n",
              "\n",
              "<svg xmlns=\"http://www.w3.org/2000/svg\" height=\"24px\"viewBox=\"0 0 24 24\"\n",
              "     width=\"24px\">\n",
              "    <g>\n",
              "        <path d=\"M19 3H5c-1.1 0-2 .9-2 2v14c0 1.1.9 2 2 2h14c1.1 0 2-.9 2-2V5c0-1.1-.9-2-2-2zM9 17H7v-7h2v7zm4 0h-2V7h2v10zm4 0h-2v-4h2v4z\"/>\n",
              "    </g>\n",
              "</svg>\n",
              "  </button>\n",
              "\n",
              "<style>\n",
              "  .colab-df-quickchart {\n",
              "      --bg-color: #E8F0FE;\n",
              "      --fill-color: #1967D2;\n",
              "      --hover-bg-color: #E2EBFA;\n",
              "      --hover-fill-color: #174EA6;\n",
              "      --disabled-fill-color: #AAA;\n",
              "      --disabled-bg-color: #DDD;\n",
              "  }\n",
              "\n",
              "  [theme=dark] .colab-df-quickchart {\n",
              "      --bg-color: #3B4455;\n",
              "      --fill-color: #D2E3FC;\n",
              "      --hover-bg-color: #434B5C;\n",
              "      --hover-fill-color: #FFFFFF;\n",
              "      --disabled-bg-color: #3B4455;\n",
              "      --disabled-fill-color: #666;\n",
              "  }\n",
              "\n",
              "  .colab-df-quickchart {\n",
              "    background-color: var(--bg-color);\n",
              "    border: none;\n",
              "    border-radius: 50%;\n",
              "    cursor: pointer;\n",
              "    display: none;\n",
              "    fill: var(--fill-color);\n",
              "    height: 32px;\n",
              "    padding: 0;\n",
              "    width: 32px;\n",
              "  }\n",
              "\n",
              "  .colab-df-quickchart:hover {\n",
              "    background-color: var(--hover-bg-color);\n",
              "    box-shadow: 0 1px 2px rgba(60, 64, 67, 0.3), 0 1px 3px 1px rgba(60, 64, 67, 0.15);\n",
              "    fill: var(--button-hover-fill-color);\n",
              "  }\n",
              "\n",
              "  .colab-df-quickchart-complete:disabled,\n",
              "  .colab-df-quickchart-complete:disabled:hover {\n",
              "    background-color: var(--disabled-bg-color);\n",
              "    fill: var(--disabled-fill-color);\n",
              "    box-shadow: none;\n",
              "  }\n",
              "\n",
              "  .colab-df-spinner {\n",
              "    border: 2px solid var(--fill-color);\n",
              "    border-color: transparent;\n",
              "    border-bottom-color: var(--fill-color);\n",
              "    animation:\n",
              "      spin 1s steps(1) infinite;\n",
              "  }\n",
              "\n",
              "  @keyframes spin {\n",
              "    0% {\n",
              "      border-color: transparent;\n",
              "      border-bottom-color: var(--fill-color);\n",
              "      border-left-color: var(--fill-color);\n",
              "    }\n",
              "    20% {\n",
              "      border-color: transparent;\n",
              "      border-left-color: var(--fill-color);\n",
              "      border-top-color: var(--fill-color);\n",
              "    }\n",
              "    30% {\n",
              "      border-color: transparent;\n",
              "      border-left-color: var(--fill-color);\n",
              "      border-top-color: var(--fill-color);\n",
              "      border-right-color: var(--fill-color);\n",
              "    }\n",
              "    40% {\n",
              "      border-color: transparent;\n",
              "      border-right-color: var(--fill-color);\n",
              "      border-top-color: var(--fill-color);\n",
              "    }\n",
              "    60% {\n",
              "      border-color: transparent;\n",
              "      border-right-color: var(--fill-color);\n",
              "    }\n",
              "    80% {\n",
              "      border-color: transparent;\n",
              "      border-right-color: var(--fill-color);\n",
              "      border-bottom-color: var(--fill-color);\n",
              "    }\n",
              "    90% {\n",
              "      border-color: transparent;\n",
              "      border-bottom-color: var(--fill-color);\n",
              "    }\n",
              "  }\n",
              "</style>\n",
              "\n",
              "  <script>\n",
              "    async function quickchart(key) {\n",
              "      const quickchartButtonEl =\n",
              "        document.querySelector('#' + key + ' button');\n",
              "      quickchartButtonEl.disabled = true;  // To prevent multiple clicks.\n",
              "      quickchartButtonEl.classList.add('colab-df-spinner');\n",
              "      try {\n",
              "        const charts = await google.colab.kernel.invokeFunction(\n",
              "            'suggestCharts', [key], {});\n",
              "      } catch (error) {\n",
              "        console.error('Error during call to suggestCharts:', error);\n",
              "      }\n",
              "      quickchartButtonEl.classList.remove('colab-df-spinner');\n",
              "      quickchartButtonEl.classList.add('colab-df-quickchart-complete');\n",
              "    }\n",
              "    (() => {\n",
              "      let quickchartButtonEl =\n",
              "        document.querySelector('#df-1edcd7b4-3670-4955-a51a-05b77d92a158 button');\n",
              "      quickchartButtonEl.style.display =\n",
              "        google.colab.kernel.accessAllowed ? 'block' : 'none';\n",
              "    })();\n",
              "  </script>\n",
              "</div>\n",
              "\n",
              "    </div>\n",
              "  </div>\n"
            ],
            "application/vnd.google.colaboratory.intrinsic+json": {
              "type": "dataframe",
              "variable_name": "stock_price_nbeats",
              "summary": "{\n  \"name\": \"stock_price_nbeats\",\n  \"rows\": 5306,\n  \"fields\": [\n    {\n      \"column\": \"Date\",\n      \"properties\": {\n        \"dtype\": \"date\",\n        \"min\": \"2000-01-03 00:00:00\",\n        \"max\": \"2021-04-30 00:00:00\",\n        \"num_unique_values\": 5306,\n        \"samples\": [\n          \"2003-04-01 00:00:00\",\n          \"2016-03-16 00:00:00\",\n          \"2021-01-20 00:00:00\"\n        ],\n        \"semantic_type\": \"\",\n        \"description\": \"\"\n      }\n    },\n    {\n      \"column\": \"Closing Price\",\n      \"properties\": {\n        \"dtype\": \"number\",\n        \"std\": 794.159260209815,\n        \"min\": 162.35,\n        \"max\": 9587.45,\n        \"num_unique_values\": 4441,\n        \"samples\": [\n          2768.85,\n          257.2,\n          736.55\n        ],\n        \"semantic_type\": \"\",\n        \"description\": \"\"\n      }\n    },\n    {\n      \"column\": \"Closing Price1\",\n      \"properties\": {\n        \"dtype\": \"number\",\n        \"std\": 794.2259889708066,\n        \"min\": 162.35,\n        \"max\": 9587.45,\n        \"num_unique_values\": 4440,\n        \"samples\": [\n          408.8,\n          291.3,\n          417.95\n        ],\n        \"semantic_type\": \"\",\n        \"description\": \"\"\n      }\n    },\n    {\n      \"column\": \"Closing Price2\",\n      \"properties\": {\n        \"dtype\": \"number\",\n        \"std\": 794.2925529618938,\n        \"min\": 162.35,\n        \"max\": 9587.45,\n        \"num_unique_values\": 4439,\n        \"samples\": [\n          408.8,\n          271.85,\n          417.95\n        ],\n        \"semantic_type\": \"\",\n        \"description\": \"\"\n      }\n    },\n    {\n      \"column\": \"Closing Price3\",\n      \"properties\": {\n        \"dtype\": \"number\",\n        \"std\": 794.3590987315209,\n        \"min\": 162.35,\n        \"max\": 9587.45,\n        \"num_unique_values\": 4438,\n        \"samples\": [\n          408.8,\n          271.85,\n          417.95\n        ],\n        \"semantic_type\": \"\",\n        \"description\": \"\"\n      }\n    },\n    {\n      \"column\": \"Closing Price4\",\n      \"properties\": {\n        \"dtype\": \"number\",\n        \"std\": 794.4253909174433,\n        \"min\": 162.35,\n        \"max\": 9587.45,\n        \"num_unique_values\": 4438,\n        \"samples\": [\n          408.8,\n          271.85,\n          417.95\n        ],\n        \"semantic_type\": \"\",\n        \"description\": \"\"\n      }\n    },\n    {\n      \"column\": \"Closing Price5\",\n      \"properties\": {\n        \"dtype\": \"number\",\n        \"std\": 794.491392441086,\n        \"min\": 162.35,\n        \"max\": 9587.45,\n        \"num_unique_values\": 4438,\n        \"samples\": [\n          408.8,\n          271.85,\n          417.95\n        ],\n        \"semantic_type\": \"\",\n        \"description\": \"\"\n      }\n    },\n    {\n      \"column\": \"Closing Price6\",\n      \"properties\": {\n        \"dtype\": \"number\",\n        \"std\": 794.5571076228479,\n        \"min\": 162.35,\n        \"max\": 9587.45,\n        \"num_unique_values\": 4437,\n        \"samples\": [\n          536.15,\n          1345.85,\n          709.2\n        ],\n        \"semantic_type\": \"\",\n        \"description\": \"\"\n      }\n    },\n    {\n      \"column\": \"Closing Price7\",\n      \"properties\": {\n        \"dtype\": \"number\",\n        \"std\": 794.6235504637957,\n        \"min\": 162.35,\n        \"max\": 9587.45,\n        \"num_unique_values\": 4436,\n        \"samples\": [\n          288.65,\n          1365.85,\n          545.1\n        ],\n        \"semantic_type\": \"\",\n        \"description\": \"\"\n      }\n    }\n  ]\n}"
            }
          },
          "metadata": {},
          "execution_count": 21
        }
      ],
      "source": [
        "stock_price_nbeats=stock_prices.copy()\n",
        "for i in range(WINDOW_SIZE):\n",
        "  stock_price_nbeats[f\"Closing Price{i+1}\"]=stock_price_nbeats[\"Closing Price\"].shift(i+1)\n",
        "stock_price_nbeats.head(15)"
      ]
    },
    {
      "cell_type": "code",
      "execution_count": null,
      "metadata": {
        "colab": {
          "base_uri": "https://localhost:8080/"
        },
        "id": "m-nRwTqTGczz",
        "outputId": "70639f4e-a156-4b37-8142-50608135e4c3"
      },
      "outputs": [
        {
          "output_type": "execute_result",
          "data": {
            "text/plain": [
              "((4239, 7), (4239,))"
            ]
          },
          "metadata": {},
          "execution_count": 22
        }
      ],
      "source": [
        "X=stock_price_nbeats.dropna().drop(columns=[\"Closing Price\"])\n",
        "y=stock_price_nbeats.dropna()[\"Closing Price\"]\n",
        "split_size=int(len(X)*0.8)\n",
        "X_train,y_train=X[:split_size],y[:split_size]\n",
        "X_test,y_test=X[split_size:],y[split_size:]\n",
        "len(X_train),len(X_test),len(y_train),len(y_test)\n",
        "X_train.shape,y_train.shape\n"
      ]
    },
    {
      "cell_type": "code",
      "execution_count": null,
      "metadata": {
        "id": "91gpWqFOyc56"
      },
      "outputs": [],
      "source": [
        "import tensorflow as tf"
      ]
    },
    {
      "cell_type": "code",
      "execution_count": null,
      "metadata": {
        "colab": {
          "base_uri": "https://localhost:8080/"
        },
        "id": "Jmi4QNdqIUyl",
        "outputId": "235a2757-aff8-4949-cc74-b563a065fa4d"
      },
      "outputs": [
        {
          "output_type": "execute_result",
          "data": {
            "text/plain": [
              "(<_PrefetchDataset element_spec=(TensorSpec(shape=(None, 7), dtype=tf.float64, name=None), TensorSpec(shape=(None,), dtype=tf.float64, name=None))>,\n",
              " <_PrefetchDataset element_spec=(TensorSpec(shape=(None, 7), dtype=tf.float64, name=None), TensorSpec(shape=(None,), dtype=tf.float64, name=None))>)"
            ]
          },
          "metadata": {},
          "execution_count": 24
        }
      ],
      "source": [
        "#slices the first dimension\n",
        "train_features_dataset=tf.data.Dataset.from_tensor_slices(X_train)\n",
        "train_labels_dataset=tf.data.Dataset.from_tensor_slices(y_train)\n",
        "\n",
        "t\n",
        "test_features_dataset=tf.data.Dataset.from_tensor_slices(X_test)\n",
        "test_labels_dataset=tf.data.Dataset.from_tensor_slices(y_test)\n",
        "\n",
        "#combining features and labels\n",
        "train_dataset=tf.data.Dataset.zip(train_features_dataset,train_labels_dataset)\n",
        "test_dataset=tf.data.Dataset.zip(test_features_dataset,test_labels_dataset)\n",
        "\n",
        "#preprocessing and batch\n",
        "BATCH_SIZE=1024\n",
        "train_dataset=train_dataset.batch(BATCH_SIZE).prefetch(tf.data.AUTOTUNE)\n",
        "test_dataset=test_dataset.batch(BATCH_SIZE).prefetch(tf.data.AUTOTUNE)\n",
        "train_dataset,test_dataset"
      ]
    },
    {
      "cell_type": "markdown",
      "metadata": {
        "id": "XsDxQOWa_SZ4"
      },
      "source": [
        "##Creating NBeats Block Layer"
      ]
    },
    {
      "cell_type": "code",
      "execution_count": null,
      "metadata": {
        "id": "iNam6eqM_ckh"
      },
      "outputs": [],
      "source": [
        "import tensorflow as tf\n"
      ]
    },
    {
      "cell_type": "code",
      "execution_count": null,
      "metadata": {
        "id": "O9aiVnpe_fFd"
      },
      "outputs": [],
      "source": [
        "WINDOW_SIZE=7\n",
        "HORIZON=1"
      ]
    },
    {
      "cell_type": "code",
      "execution_count": null,
      "metadata": {
        "id": "7AUy7YEf_j88"
      },
      "outputs": [],
      "source": [
        "class NBeatsBlock(tf.keras.layers.Layer):\n",
        "  def __init__(self,\n",
        "               input_size:int,\n",
        "               theta_size:int,\n",
        "               horizon:int,\n",
        "               n_neurons:int,\n",
        "               n_layers:int,\n",
        "               **kwargs):\n",
        "    super().__init__(**kwargs)\n",
        "    self.input_size=input_size\n",
        "    self.theta_size=theta_size\n",
        "    self.horizon=horizon\n",
        "    self.n_neurons=n_neurons\n",
        "    self.n_layers=n_layers\n",
        "\n",
        "    #4 fully connected layers with relu activation\n",
        "    self.hidden=[tf.keras.layers.Dense(n_neurons,activation=\"relu\") for _ in range(n_layers)]\n",
        "\n",
        "    #output of block:theta layer with linear activation\n",
        "    self.theta_layer=tf.keras.layers.Dense(theta_size,activation=\"relu\",name=\"theta\")\n",
        "\n",
        "  def call(self,inputs):\n",
        "    x=inputs\n",
        "    for layer in self.hidden:\n",
        "      x=layer(x)\n",
        "    theta=self.theta_layer(x)\n",
        "\n",
        "    backcast,forecast=theta[:,:self.input_size],theta[:,-self.horizon:]\n",
        "    return backcast,forecast"
      ]
    },
    {
      "cell_type": "markdown",
      "metadata": {
        "id": "1R2lQytDc3Zv"
      },
      "source": [
        "##Setting up hyperparameters of NBeats Algorithm"
      ]
    },
    {
      "cell_type": "code",
      "execution_count": null,
      "metadata": {
        "colab": {
          "base_uri": "https://localhost:8080/"
        },
        "id": "_crJzUI_ejyS",
        "outputId": "79a9de91-beec-4fec-9311-ed5a0e4e36f1"
      },
      "outputs": [
        {
          "output_type": "execute_result",
          "data": {
            "text/plain": [
              "(7, 8)"
            ]
          },
          "metadata": {},
          "execution_count": 30
        }
      ],
      "source": [
        "N_EPOCHS=5000\n",
        "N_NEURONS=512\n",
        "N_LAYERS=4\n",
        "N_STACKS=30\n",
        "\n",
        "INPUT_SIZE=WINDOW_SIZE*HORIZON\n",
        "THETA_SIZE=WINDOW_SIZE+HORIZON\n",
        "\n",
        "INPUT_SIZE,THETA_SIZE"
      ]
    },
    {
      "cell_type": "markdown",
      "metadata": {
        "id": "ti3rF2Dge-45"
      },
      "source": [
        "##Building,compiling and fitting the NBeats Model"
      ]
    },
    {
      "cell_type": "code",
      "execution_count": null,
      "metadata": {
        "colab": {
          "base_uri": "https://localhost:8080/"
        },
        "id": "FBhmYE2zxy-C",
        "outputId": "607f110f-6108-461b-ec09-be1b629bfc64"
      },
      "outputs": [
        {
          "output_type": "stream",
          "name": "stdout",
          "text": [
            "Epoch 1/5000\n",
            "\u001b[1m5/5\u001b[0m \u001b[32m━━━━━━━━━━━━━━━━━━━━\u001b[0m\u001b[37m\u001b[0m \u001b[1m74s\u001b[0m 6s/step - loss: 1034.3528 - val_loss: 52.5447 - learning_rate: 0.0010\n",
            "Epoch 2/5000\n",
            "\u001b[1m5/5\u001b[0m \u001b[32m━━━━━━━━━━━━━━━━━━━━\u001b[0m\u001b[37m\u001b[0m \u001b[1m0s\u001b[0m 69ms/step - loss: 359.6043 - val_loss: 64.8332 - learning_rate: 0.0010\n",
            "Epoch 3/5000\n",
            "\u001b[1m5/5\u001b[0m \u001b[32m━━━━━━━━━━━━━━━━━━━━\u001b[0m\u001b[37m\u001b[0m \u001b[1m1s\u001b[0m 90ms/step - loss: 214.1838 - val_loss: 49.2384 - learning_rate: 0.0010\n",
            "Epoch 4/5000\n",
            "\u001b[1m5/5\u001b[0m \u001b[32m━━━━━━━━━━━━━━━━━━━━\u001b[0m\u001b[37m\u001b[0m \u001b[1m0s\u001b[0m 99ms/step - loss: 169.8840 - val_loss: 41.2865 - learning_rate: 0.0010\n",
            "Epoch 5/5000\n",
            "\u001b[1m5/5\u001b[0m \u001b[32m━━━━━━━━━━━━━━━━━━━━\u001b[0m\u001b[37m\u001b[0m \u001b[1m1s\u001b[0m 105ms/step - loss: 137.3831 - val_loss: 7.2099 - learning_rate: 0.0010\n",
            "Epoch 6/5000\n",
            "\u001b[1m5/5\u001b[0m \u001b[32m━━━━━━━━━━━━━━━━━━━━\u001b[0m\u001b[37m\u001b[0m \u001b[1m0s\u001b[0m 56ms/step - loss: 81.1016 - val_loss: 15.9969 - learning_rate: 0.0010\n",
            "Epoch 7/5000\n",
            "\u001b[1m5/5\u001b[0m \u001b[32m━━━━━━━━━━━━━━━━━━━━\u001b[0m\u001b[37m\u001b[0m \u001b[1m0s\u001b[0m 97ms/step - loss: 81.2057 - val_loss: 6.8107 - learning_rate: 0.0010\n",
            "Epoch 8/5000\n",
            "\u001b[1m5/5\u001b[0m \u001b[32m━━━━━━━━━━━━━━━━━━━━\u001b[0m\u001b[37m\u001b[0m \u001b[1m0s\u001b[0m 89ms/step - loss: 62.0326 - val_loss: 6.2839 - learning_rate: 0.0010\n",
            "Epoch 9/5000\n",
            "\u001b[1m5/5\u001b[0m \u001b[32m━━━━━━━━━━━━━━━━━━━━\u001b[0m\u001b[37m\u001b[0m \u001b[1m1s\u001b[0m 62ms/step - loss: 56.2318 - val_loss: 6.7518 - learning_rate: 0.0010\n",
            "Epoch 10/5000\n",
            "\u001b[1m5/5\u001b[0m \u001b[32m━━━━━━━━━━━━━━━━━━━━\u001b[0m\u001b[37m\u001b[0m \u001b[1m1s\u001b[0m 98ms/step - loss: 52.5394 - val_loss: 5.5006 - learning_rate: 0.0010\n",
            "Epoch 11/5000\n",
            "\u001b[1m5/5\u001b[0m \u001b[32m━━━━━━━━━━━━━━━━━━━━\u001b[0m\u001b[37m\u001b[0m \u001b[1m0s\u001b[0m 53ms/step - loss: 48.7845 - val_loss: 5.5205 - learning_rate: 0.0010\n",
            "Epoch 12/5000\n",
            "\u001b[1m5/5\u001b[0m \u001b[32m━━━━━━━━━━━━━━━━━━━━\u001b[0m\u001b[37m\u001b[0m \u001b[1m0s\u001b[0m 53ms/step - loss: 49.4220 - val_loss: 11.1035 - learning_rate: 0.0010\n",
            "Epoch 13/5000\n",
            "\u001b[1m5/5\u001b[0m \u001b[32m━━━━━━━━━━━━━━━━━━━━\u001b[0m\u001b[37m\u001b[0m \u001b[1m0s\u001b[0m 63ms/step - loss: 62.9153 - val_loss: 23.0542 - learning_rate: 0.0010\n",
            "Epoch 14/5000\n",
            "\u001b[1m5/5\u001b[0m \u001b[32m━━━━━━━━━━━━━━━━━━━━\u001b[0m\u001b[37m\u001b[0m \u001b[1m1s\u001b[0m 53ms/step - loss: 87.8242 - val_loss: 15.1317 - learning_rate: 0.0010\n",
            "Epoch 15/5000\n",
            "\u001b[1m5/5\u001b[0m \u001b[32m━━━━━━━━━━━━━━━━━━━━\u001b[0m\u001b[37m\u001b[0m \u001b[1m0s\u001b[0m 63ms/step - loss: 61.5562 - val_loss: 16.2316 - learning_rate: 0.0010\n",
            "Epoch 16/5000\n",
            "\u001b[1m5/5\u001b[0m \u001b[32m━━━━━━━━━━━━━━━━━━━━\u001b[0m\u001b[37m\u001b[0m \u001b[1m0s\u001b[0m 54ms/step - loss: 61.8139 - val_loss: 15.2411 - learning_rate: 0.0010\n",
            "Epoch 17/5000\n",
            "\u001b[1m5/5\u001b[0m \u001b[32m━━━━━━━━━━━━━━━━━━━━\u001b[0m\u001b[37m\u001b[0m \u001b[1m0s\u001b[0m 54ms/step - loss: 59.2426 - val_loss: 10.4976 - learning_rate: 0.0010\n",
            "Epoch 18/5000\n",
            "\u001b[1m5/5\u001b[0m \u001b[32m━━━━━━━━━━━━━━━━━━━━\u001b[0m\u001b[37m\u001b[0m \u001b[1m0s\u001b[0m 62ms/step - loss: 52.0891 - val_loss: 12.3073 - learning_rate: 0.0010\n",
            "Epoch 19/5000\n",
            "\u001b[1m5/5\u001b[0m \u001b[32m━━━━━━━━━━━━━━━━━━━━\u001b[0m\u001b[37m\u001b[0m \u001b[1m1s\u001b[0m 63ms/step - loss: 63.4819 - val_loss: 19.8891 - learning_rate: 0.0010\n",
            "Epoch 20/5000\n",
            "\u001b[1m5/5\u001b[0m \u001b[32m━━━━━━━━━━━━━━━━━━━━\u001b[0m\u001b[37m\u001b[0m \u001b[1m1s\u001b[0m 61ms/step - loss: 71.1122 - val_loss: 5.8098 - learning_rate: 0.0010\n",
            "Epoch 21/5000\n",
            "\u001b[1m5/5\u001b[0m \u001b[32m━━━━━━━━━━━━━━━━━━━━\u001b[0m\u001b[37m\u001b[0m \u001b[1m0s\u001b[0m 69ms/step - loss: 49.3390 - val_loss: 7.7434 - learning_rate: 0.0010\n",
            "Epoch 22/5000\n",
            "\u001b[1m5/5\u001b[0m \u001b[32m━━━━━━━━━━━━━━━━━━━━\u001b[0m\u001b[37m\u001b[0m \u001b[1m1s\u001b[0m 69ms/step - loss: 63.9511 - val_loss: 15.7439 - learning_rate: 0.0010\n",
            "Epoch 23/5000\n",
            "\u001b[1m5/5\u001b[0m \u001b[32m━━━━━━━━━━━━━━━━━━━━\u001b[0m\u001b[37m\u001b[0m \u001b[1m1s\u001b[0m 71ms/step - loss: 66.4792 - val_loss: 6.9044 - learning_rate: 0.0010\n",
            "Epoch 24/5000\n",
            "\u001b[1m5/5\u001b[0m \u001b[32m━━━━━━━━━━━━━━━━━━━━\u001b[0m\u001b[37m\u001b[0m \u001b[1m1s\u001b[0m 106ms/step - loss: 46.9866 - val_loss: 5.2276 - learning_rate: 0.0010\n",
            "Epoch 25/5000\n",
            "\u001b[1m5/5\u001b[0m \u001b[32m━━━━━━━━━━━━━━━━━━━━\u001b[0m\u001b[37m\u001b[0m \u001b[1m0s\u001b[0m 96ms/step - loss: 46.6577 - val_loss: 4.5517 - learning_rate: 0.0010\n",
            "Epoch 26/5000\n",
            "\u001b[1m5/5\u001b[0m \u001b[32m━━━━━━━━━━━━━━━━━━━━\u001b[0m\u001b[37m\u001b[0m \u001b[1m0s\u001b[0m 53ms/step - loss: 44.6227 - val_loss: 7.9924 - learning_rate: 0.0010\n",
            "Epoch 27/5000\n",
            "\u001b[1m5/5\u001b[0m \u001b[32m━━━━━━━━━━━━━━━━━━━━\u001b[0m\u001b[37m\u001b[0m \u001b[1m0s\u001b[0m 53ms/step - loss: 43.6306 - val_loss: 4.8722 - learning_rate: 0.0010\n",
            "Epoch 28/5000\n",
            "\u001b[1m5/5\u001b[0m \u001b[32m━━━━━━━━━━━━━━━━━━━━\u001b[0m\u001b[37m\u001b[0m \u001b[1m0s\u001b[0m 54ms/step - loss: 40.8149 - val_loss: 4.6659 - learning_rate: 0.0010\n",
            "Epoch 29/5000\n",
            "\u001b[1m5/5\u001b[0m \u001b[32m━━━━━━━━━━━━━━━━━━━━\u001b[0m\u001b[37m\u001b[0m \u001b[1m0s\u001b[0m 55ms/step - loss: 43.2128 - val_loss: 9.9967 - learning_rate: 0.0010\n",
            "Epoch 30/5000\n",
            "\u001b[1m5/5\u001b[0m \u001b[32m━━━━━━━━━━━━━━━━━━━━\u001b[0m\u001b[37m\u001b[0m \u001b[1m0s\u001b[0m 88ms/step - loss: 47.0277 - val_loss: 4.4820 - learning_rate: 0.0010\n",
            "Epoch 31/5000\n",
            "\u001b[1m5/5\u001b[0m \u001b[32m━━━━━━━━━━━━━━━━━━━━\u001b[0m\u001b[37m\u001b[0m \u001b[1m0s\u001b[0m 63ms/step - loss: 39.7179 - val_loss: 4.5809 - learning_rate: 0.0010\n",
            "Epoch 32/5000\n",
            "\u001b[1m5/5\u001b[0m \u001b[32m━━━━━━━━━━━━━━━━━━━━\u001b[0m\u001b[37m\u001b[0m \u001b[1m1s\u001b[0m 63ms/step - loss: 39.7091 - val_loss: 4.9355 - learning_rate: 0.0010\n",
            "Epoch 33/5000\n",
            "\u001b[1m5/5\u001b[0m \u001b[32m━━━━━━━━━━━━━━━━━━━━\u001b[0m\u001b[37m\u001b[0m \u001b[1m0s\u001b[0m 53ms/step - loss: 39.1734 - val_loss: 4.7502 - learning_rate: 0.0010\n",
            "Epoch 34/5000\n",
            "\u001b[1m5/5\u001b[0m \u001b[32m━━━━━━━━━━━━━━━━━━━━\u001b[0m\u001b[37m\u001b[0m \u001b[1m0s\u001b[0m 94ms/step - loss: 38.8928 - val_loss: 4.4819 - learning_rate: 0.0010\n",
            "Epoch 35/5000\n",
            "\u001b[1m5/5\u001b[0m \u001b[32m━━━━━━━━━━━━━━━━━━━━\u001b[0m\u001b[37m\u001b[0m \u001b[1m0s\u001b[0m 53ms/step - loss: 40.1711 - val_loss: 5.9355 - learning_rate: 0.0010\n",
            "Epoch 36/5000\n",
            "\u001b[1m5/5\u001b[0m \u001b[32m━━━━━━━━━━━━━━━━━━━━\u001b[0m\u001b[37m\u001b[0m \u001b[1m0s\u001b[0m 55ms/step - loss: 41.3428 - val_loss: 7.7193 - learning_rate: 0.0010\n",
            "Epoch 37/5000\n",
            "\u001b[1m5/5\u001b[0m \u001b[32m━━━━━━━━━━━━━━━━━━━━\u001b[0m\u001b[37m\u001b[0m \u001b[1m0s\u001b[0m 62ms/step - loss: 50.3323 - val_loss: 15.8357 - learning_rate: 0.0010\n",
            "Epoch 38/5000\n",
            "\u001b[1m5/5\u001b[0m \u001b[32m━━━━━━━━━━━━━━━━━━━━\u001b[0m\u001b[37m\u001b[0m \u001b[1m1s\u001b[0m 53ms/step - loss: 87.9740 - val_loss: 24.4002 - learning_rate: 0.0010\n",
            "Epoch 39/5000\n",
            "\u001b[1m5/5\u001b[0m \u001b[32m━━━━━━━━━━━━━━━━━━━━\u001b[0m\u001b[37m\u001b[0m \u001b[1m0s\u001b[0m 59ms/step - loss: 124.1948 - val_loss: 69.0570 - learning_rate: 0.0010\n",
            "Epoch 40/5000\n",
            "\u001b[1m5/5\u001b[0m \u001b[32m━━━━━━━━━━━━━━━━━━━━\u001b[0m\u001b[37m\u001b[0m \u001b[1m0s\u001b[0m 53ms/step - loss: 220.4223 - val_loss: 111.5568 - learning_rate: 0.0010\n",
            "Epoch 41/5000\n",
            "\u001b[1m5/5\u001b[0m \u001b[32m━━━━━━━━━━━━━━━━━━━━\u001b[0m\u001b[37m\u001b[0m \u001b[1m0s\u001b[0m 53ms/step - loss: 360.7029 - val_loss: 49.9414 - learning_rate: 0.0010\n",
            "Epoch 42/5000\n",
            "\u001b[1m5/5\u001b[0m \u001b[32m━━━━━━━━━━━━━━━━━━━━\u001b[0m\u001b[37m\u001b[0m \u001b[1m0s\u001b[0m 66ms/step - loss: 155.4507 - val_loss: 39.2599 - learning_rate: 0.0010\n",
            "Epoch 43/5000\n",
            "\u001b[1m5/5\u001b[0m \u001b[32m━━━━━━━━━━━━━━━━━━━━\u001b[0m\u001b[37m\u001b[0m \u001b[1m1s\u001b[0m 55ms/step - loss: 128.8875 - val_loss: 69.8652 - learning_rate: 0.0010\n",
            "Epoch 44/5000\n",
            "\u001b[1m5/5\u001b[0m \u001b[32m━━━━━━━━━━━━━━━━━━━━\u001b[0m\u001b[37m\u001b[0m \u001b[1m0s\u001b[0m 63ms/step - loss: 217.9363 - val_loss: 104.5232 - learning_rate: 0.0010\n",
            "Epoch 45/5000\n",
            "\u001b[1m5/5\u001b[0m \u001b[32m━━━━━━━━━━━━━━━━━━━━\u001b[0m\u001b[37m\u001b[0m \u001b[1m0s\u001b[0m 53ms/step - loss: 355.5192 - val_loss: 6.8351 - learning_rate: 0.0010\n",
            "Epoch 46/5000\n",
            "\u001b[1m5/5\u001b[0m \u001b[32m━━━━━━━━━━━━━━━━━━━━\u001b[0m\u001b[37m\u001b[0m \u001b[1m0s\u001b[0m 53ms/step - loss: 70.3060 - val_loss: 13.4344 - learning_rate: 0.0010\n",
            "Epoch 47/5000\n",
            "\u001b[1m5/5\u001b[0m \u001b[32m━━━━━━━━━━━━━━━━━━━━\u001b[0m\u001b[37m\u001b[0m \u001b[1m0s\u001b[0m 62ms/step - loss: 60.6171 - val_loss: 5.6521 - learning_rate: 0.0010\n",
            "Epoch 48/5000\n",
            "\u001b[1m5/5\u001b[0m \u001b[32m━━━━━━━━━━━━━━━━━━━━\u001b[0m\u001b[37m\u001b[0m \u001b[1m0s\u001b[0m 57ms/step - loss: 54.0422 - val_loss: 8.2842 - learning_rate: 0.0010\n",
            "Epoch 49/5000\n",
            "\u001b[1m5/5\u001b[0m \u001b[32m━━━━━━━━━━━━━━━━━━━━\u001b[0m\u001b[37m\u001b[0m \u001b[1m0s\u001b[0m 62ms/step - loss: 55.4135 - val_loss: 8.0596 - learning_rate: 0.0010\n",
            "Epoch 50/5000\n",
            "\u001b[1m5/5\u001b[0m \u001b[32m━━━━━━━━━━━━━━━━━━━━\u001b[0m\u001b[37m\u001b[0m \u001b[1m0s\u001b[0m 53ms/step - loss: 53.1147 - val_loss: 7.4185 - learning_rate: 0.0010\n",
            "Epoch 51/5000\n",
            "\u001b[1m5/5\u001b[0m \u001b[32m━━━━━━━━━━━━━━━━━━━━\u001b[0m\u001b[37m\u001b[0m \u001b[1m0s\u001b[0m 55ms/step - loss: 53.1919 - val_loss: 8.1626 - learning_rate: 0.0010\n",
            "Epoch 52/5000\n",
            "\u001b[1m5/5\u001b[0m \u001b[32m━━━━━━━━━━━━━━━━━━━━\u001b[0m\u001b[37m\u001b[0m \u001b[1m0s\u001b[0m 54ms/step - loss: 53.8624 - val_loss: 8.9491 - learning_rate: 0.0010\n",
            "Epoch 53/5000\n",
            "\u001b[1m5/5\u001b[0m \u001b[32m━━━━━━━━━━━━━━━━━━━━\u001b[0m\u001b[37m\u001b[0m \u001b[1m0s\u001b[0m 71ms/step - loss: 51.5580 - val_loss: 7.5286 - learning_rate: 0.0010\n",
            "Epoch 54/5000\n",
            "\u001b[1m5/5\u001b[0m \u001b[32m━━━━━━━━━━━━━━━━━━━━\u001b[0m\u001b[37m\u001b[0m \u001b[1m1s\u001b[0m 66ms/step - loss: 50.1213 - val_loss: 8.3865 - learning_rate: 0.0010\n",
            "Epoch 55/5000\n",
            "\u001b[1m5/5\u001b[0m \u001b[32m━━━━━━━━━━━━━━━━━━━━\u001b[0m\u001b[37m\u001b[0m \u001b[1m0s\u001b[0m 60ms/step - loss: 51.2235 - val_loss: 8.2491 - learning_rate: 0.0010\n",
            "Epoch 56/5000\n",
            "\u001b[1m5/5\u001b[0m \u001b[32m━━━━━━━━━━━━━━━━━━━━\u001b[0m\u001b[37m\u001b[0m \u001b[1m0s\u001b[0m 69ms/step - loss: 49.5372 - val_loss: 7.9878 - learning_rate: 0.0010\n",
            "Epoch 57/5000\n",
            "\u001b[1m5/5\u001b[0m \u001b[32m━━━━━━━━━━━━━━━━━━━━\u001b[0m\u001b[37m\u001b[0m \u001b[1m1s\u001b[0m 72ms/step - loss: 49.0412 - val_loss: 7.9898 - learning_rate: 0.0010\n",
            "Epoch 58/5000\n",
            "\u001b[1m5/5\u001b[0m \u001b[32m━━━━━━━━━━━━━━━━━━━━\u001b[0m\u001b[37m\u001b[0m \u001b[1m1s\u001b[0m 55ms/step - loss: 48.1153 - val_loss: 8.9833 - learning_rate: 0.0010\n",
            "Epoch 59/5000\n",
            "\u001b[1m5/5\u001b[0m \u001b[32m━━━━━━━━━━━━━━━━━━━━\u001b[0m\u001b[37m\u001b[0m \u001b[1m0s\u001b[0m 53ms/step - loss: 55.4612 - val_loss: 15.4321 - learning_rate: 0.0010\n",
            "Epoch 60/5000\n",
            "\u001b[1m5/5\u001b[0m \u001b[32m━━━━━━━━━━━━━━━━━━━━\u001b[0m\u001b[37m\u001b[0m \u001b[1m0s\u001b[0m 52ms/step - loss: 61.3610 - val_loss: 4.6458 - learning_rate: 0.0010\n",
            "Epoch 61/5000\n",
            "\u001b[1m5/5\u001b[0m \u001b[32m━━━━━━━━━━━━━━━━━━━━\u001b[0m\u001b[37m\u001b[0m \u001b[1m0s\u001b[0m 93ms/step - loss: 43.4281 - val_loss: 4.4309 - learning_rate: 0.0010\n",
            "Epoch 62/5000\n",
            "\u001b[1m5/5\u001b[0m \u001b[32m━━━━━━━━━━━━━━━━━━━━\u001b[0m\u001b[37m\u001b[0m \u001b[1m0s\u001b[0m 55ms/step - loss: 40.4808 - val_loss: 4.7895 - learning_rate: 0.0010\n",
            "Epoch 63/5000\n",
            "\u001b[1m5/5\u001b[0m \u001b[32m━━━━━━━━━━━━━━━━━━━━\u001b[0m\u001b[37m\u001b[0m \u001b[1m0s\u001b[0m 53ms/step - loss: 40.1437 - val_loss: 4.5702 - learning_rate: 0.0010\n",
            "Epoch 64/5000\n",
            "\u001b[1m5/5\u001b[0m \u001b[32m━━━━━━━━━━━━━━━━━━━━\u001b[0m\u001b[37m\u001b[0m \u001b[1m0s\u001b[0m 63ms/step - loss: 39.5208 - val_loss: 4.6735 - learning_rate: 0.0010\n",
            "Epoch 65/5000\n",
            "\u001b[1m5/5\u001b[0m \u001b[32m━━━━━━━━━━━━━━━━━━━━\u001b[0m\u001b[37m\u001b[0m \u001b[1m1s\u001b[0m 54ms/step - loss: 39.6384 - val_loss: 4.4533 - learning_rate: 0.0010\n",
            "Epoch 66/5000\n",
            "\u001b[1m5/5\u001b[0m \u001b[32m━━━━━━━━━━━━━━━━━━━━\u001b[0m\u001b[37m\u001b[0m \u001b[1m0s\u001b[0m 62ms/step - loss: 39.1432 - val_loss: 4.8996 - learning_rate: 0.0010\n",
            "Epoch 67/5000\n",
            "\u001b[1m5/5\u001b[0m \u001b[32m━━━━━━━━━━━━━━━━━━━━\u001b[0m\u001b[37m\u001b[0m \u001b[1m0s\u001b[0m 96ms/step - loss: 39.1685 - val_loss: 4.2719 - learning_rate: 0.0010\n",
            "Epoch 68/5000\n",
            "\u001b[1m5/5\u001b[0m \u001b[32m━━━━━━━━━━━━━━━━━━━━\u001b[0m\u001b[37m\u001b[0m \u001b[1m0s\u001b[0m 53ms/step - loss: 38.4334 - val_loss: 4.4053 - learning_rate: 0.0010\n",
            "Epoch 69/5000\n",
            "\u001b[1m5/5\u001b[0m \u001b[32m━━━━━━━━━━━━━━━━━━━━\u001b[0m\u001b[37m\u001b[0m \u001b[1m0s\u001b[0m 90ms/step - loss: 38.2958 - val_loss: 4.2443 - learning_rate: 0.0010\n",
            "Epoch 70/5000\n",
            "\u001b[1m5/5\u001b[0m \u001b[32m━━━━━━━━━━━━━━━━━━━━\u001b[0m\u001b[37m\u001b[0m \u001b[1m1s\u001b[0m 91ms/step - loss: 38.0188 - val_loss: 4.2310 - learning_rate: 0.0010\n",
            "Epoch 71/5000\n",
            "\u001b[1m5/5\u001b[0m \u001b[32m━━━━━━━━━━━━━━━━━━━━\u001b[0m\u001b[37m\u001b[0m \u001b[1m0s\u001b[0m 54ms/step - loss: 37.8283 - val_loss: 4.3163 - learning_rate: 0.0010\n",
            "Epoch 72/5000\n",
            "\u001b[1m5/5\u001b[0m \u001b[32m━━━━━━━━━━━━━━━━━━━━\u001b[0m\u001b[37m\u001b[0m \u001b[1m0s\u001b[0m 62ms/step - loss: 37.9654 - val_loss: 4.2872 - learning_rate: 0.0010\n",
            "Epoch 73/5000\n",
            "\u001b[1m5/5\u001b[0m \u001b[32m━━━━━━━━━━━━━━━━━━━━\u001b[0m\u001b[37m\u001b[0m \u001b[1m1s\u001b[0m 54ms/step - loss: 37.4390 - val_loss: 4.3713 - learning_rate: 0.0010\n",
            "Epoch 74/5000\n",
            "\u001b[1m5/5\u001b[0m \u001b[32m━━━━━━━━━━━━━━━━━━━━\u001b[0m\u001b[37m\u001b[0m \u001b[1m0s\u001b[0m 52ms/step - loss: 37.3821 - val_loss: 4.4845 - learning_rate: 0.0010\n",
            "Epoch 75/5000\n",
            "\u001b[1m5/5\u001b[0m \u001b[32m━━━━━━━━━━━━━━━━━━━━\u001b[0m\u001b[37m\u001b[0m \u001b[1m0s\u001b[0m 52ms/step - loss: 37.2515 - val_loss: 4.2402 - learning_rate: 0.0010\n",
            "Epoch 76/5000\n",
            "\u001b[1m5/5\u001b[0m \u001b[32m━━━━━━━━━━━━━━━━━━━━\u001b[0m\u001b[37m\u001b[0m \u001b[1m0s\u001b[0m 99ms/step - loss: 36.8093 - val_loss: 4.1657 - learning_rate: 0.0010\n",
            "Epoch 77/5000\n",
            "\u001b[1m5/5\u001b[0m \u001b[32m━━━━━━━━━━━━━━━━━━━━\u001b[0m\u001b[37m\u001b[0m \u001b[1m0s\u001b[0m 88ms/step - loss: 36.7184 - val_loss: 4.1436 - learning_rate: 0.0010\n",
            "Epoch 78/5000\n",
            "\u001b[1m5/5\u001b[0m \u001b[32m━━━━━━━━━━━━━━━━━━━━\u001b[0m\u001b[37m\u001b[0m \u001b[1m1s\u001b[0m 92ms/step - loss: 36.4607 - val_loss: 4.1339 - learning_rate: 0.0010\n",
            "Epoch 79/5000\n",
            "\u001b[1m5/5\u001b[0m \u001b[32m━━━━━━━━━━━━━━━━━━━━\u001b[0m\u001b[37m\u001b[0m \u001b[1m0s\u001b[0m 53ms/step - loss: 36.4082 - val_loss: 4.1401 - learning_rate: 0.0010\n",
            "Epoch 80/5000\n",
            "\u001b[1m5/5\u001b[0m \u001b[32m━━━━━━━━━━━━━━━━━━━━\u001b[0m\u001b[37m\u001b[0m \u001b[1m0s\u001b[0m 94ms/step - loss: 36.3365 - val_loss: 4.1130 - learning_rate: 0.0010\n",
            "Epoch 81/5000\n",
            "\u001b[1m5/5\u001b[0m \u001b[32m━━━━━━━━━━━━━━━━━━━━\u001b[0m\u001b[37m\u001b[0m \u001b[1m0s\u001b[0m 63ms/step - loss: 36.0685 - val_loss: 4.1434 - learning_rate: 0.0010\n",
            "Epoch 82/5000\n",
            "\u001b[1m5/5\u001b[0m \u001b[32m━━━━━━━━━━━━━━━━━━━━\u001b[0m\u001b[37m\u001b[0m \u001b[1m0s\u001b[0m 65ms/step - loss: 36.6148 - val_loss: 4.1775 - learning_rate: 0.0010\n",
            "Epoch 83/5000\n",
            "\u001b[1m5/5\u001b[0m \u001b[32m━━━━━━━━━━━━━━━━━━━━\u001b[0m\u001b[37m\u001b[0m \u001b[1m1s\u001b[0m 111ms/step - loss: 36.0247 - val_loss: 4.1001 - learning_rate: 0.0010\n",
            "Epoch 84/5000\n",
            "\u001b[1m5/5\u001b[0m \u001b[32m━━━━━━━━━━━━━━━━━━━━\u001b[0m\u001b[37m\u001b[0m \u001b[1m0s\u001b[0m 69ms/step - loss: 35.9873 - val_loss: 5.1609 - learning_rate: 0.0010\n",
            "Epoch 85/5000\n",
            "\u001b[1m5/5\u001b[0m \u001b[32m━━━━━━━━━━━━━━━━━━━━\u001b[0m\u001b[37m\u001b[0m \u001b[1m1s\u001b[0m 73ms/step - loss: 41.0819 - val_loss: 12.6711 - learning_rate: 0.0010\n",
            "Epoch 86/5000\n",
            "\u001b[1m5/5\u001b[0m \u001b[32m━━━━━━━━━━━━━━━━━━━━\u001b[0m\u001b[37m\u001b[0m \u001b[1m1s\u001b[0m 74ms/step - loss: 53.6908 - val_loss: 16.0113 - learning_rate: 0.0010\n",
            "Epoch 87/5000\n",
            "\u001b[1m5/5\u001b[0m \u001b[32m━━━━━━━━━━━━━━━━━━━━\u001b[0m\u001b[37m\u001b[0m \u001b[1m1s\u001b[0m 55ms/step - loss: 76.2219 - val_loss: 12.3401 - learning_rate: 0.0010\n",
            "Epoch 88/5000\n",
            "\u001b[1m5/5\u001b[0m \u001b[32m━━━━━━━━━━━━━━━━━━━━\u001b[0m\u001b[37m\u001b[0m \u001b[1m0s\u001b[0m 54ms/step - loss: 51.7878 - val_loss: 17.4024 - learning_rate: 0.0010\n",
            "Epoch 89/5000\n",
            "\u001b[1m5/5\u001b[0m \u001b[32m━━━━━━━━━━━━━━━━━━━━\u001b[0m\u001b[37m\u001b[0m \u001b[1m0s\u001b[0m 65ms/step - loss: 61.2611 - val_loss: 17.7778 - learning_rate: 0.0010\n",
            "Epoch 90/5000\n",
            "\u001b[1m5/5\u001b[0m \u001b[32m━━━━━━━━━━━━━━━━━━━━\u001b[0m\u001b[37m\u001b[0m \u001b[1m1s\u001b[0m 57ms/step - loss: 62.9457 - val_loss: 13.2568 - learning_rate: 0.0010\n",
            "Epoch 91/5000\n",
            "\u001b[1m5/5\u001b[0m \u001b[32m━━━━━━━━━━━━━━━━━━━━\u001b[0m\u001b[37m\u001b[0m \u001b[1m0s\u001b[0m 53ms/step - loss: 51.9553 - val_loss: 14.2012 - learning_rate: 0.0010\n",
            "Epoch 92/5000\n",
            "\u001b[1m5/5\u001b[0m \u001b[32m━━━━━━━━━━━━━━━━━━━━\u001b[0m\u001b[37m\u001b[0m \u001b[1m0s\u001b[0m 54ms/step - loss: 52.8079 - val_loss: 9.5431 - learning_rate: 0.0010\n",
            "Epoch 93/5000\n",
            "\u001b[1m5/5\u001b[0m \u001b[32m━━━━━━━━━━━━━━━━━━━━\u001b[0m\u001b[37m\u001b[0m \u001b[1m0s\u001b[0m 57ms/step - loss: 49.5545 - val_loss: 15.4037 - learning_rate: 0.0010\n",
            "Epoch 94/5000\n",
            "\u001b[1m5/5\u001b[0m \u001b[32m━━━━━━━━━━━━━━━━━━━━\u001b[0m\u001b[37m\u001b[0m \u001b[1m0s\u001b[0m 55ms/step - loss: 61.6551 - val_loss: 18.4446 - learning_rate: 0.0010\n",
            "Epoch 95/5000\n",
            "\u001b[1m5/5\u001b[0m \u001b[32m━━━━━━━━━━━━━━━━━━━━\u001b[0m\u001b[37m\u001b[0m \u001b[1m0s\u001b[0m 63ms/step - loss: 64.8856 - val_loss: 4.4186 - learning_rate: 0.0010\n",
            "Epoch 96/5000\n",
            "\u001b[1m5/5\u001b[0m \u001b[32m━━━━━━━━━━━━━━━━━━━━\u001b[0m\u001b[37m\u001b[0m \u001b[1m0s\u001b[0m 53ms/step - loss: 48.6650 - val_loss: 15.3779 - learning_rate: 0.0010\n",
            "Epoch 97/5000\n",
            "\u001b[1m5/5\u001b[0m \u001b[32m━━━━━━━━━━━━━━━━━━━━\u001b[0m\u001b[37m\u001b[0m \u001b[1m0s\u001b[0m 64ms/step - loss: 73.7427 - val_loss: 5.1035 - learning_rate: 0.0010\n",
            "Epoch 98/5000\n",
            "\u001b[1m5/5\u001b[0m \u001b[32m━━━━━━━━━━━━━━━━━━━━\u001b[0m\u001b[37m\u001b[0m \u001b[1m1s\u001b[0m 54ms/step - loss: 53.1623 - val_loss: 14.1948 - learning_rate: 0.0010\n",
            "Epoch 99/5000\n",
            "\u001b[1m5/5\u001b[0m \u001b[32m━━━━━━━━━━━━━━━━━━━━\u001b[0m\u001b[37m\u001b[0m \u001b[1m0s\u001b[0m 55ms/step - loss: 53.6736 - val_loss: 9.5174 - learning_rate: 0.0010\n",
            "Epoch 100/5000\n",
            "\u001b[1m5/5\u001b[0m \u001b[32m━━━━━━━━━━━━━━━━━━━━\u001b[0m\u001b[37m\u001b[0m \u001b[1m0s\u001b[0m 54ms/step - loss: 46.7982 - val_loss: 12.8029 - learning_rate: 0.0010\n",
            "Epoch 101/5000\n",
            "\u001b[1m5/5\u001b[0m \u001b[32m━━━━━━━━━━━━━━━━━━━━\u001b[0m\u001b[37m\u001b[0m \u001b[1m0s\u001b[0m 64ms/step - loss: 57.6483 - val_loss: 17.0953 - learning_rate: 0.0010\n",
            "Epoch 102/5000\n",
            "\u001b[1m5/5\u001b[0m \u001b[32m━━━━━━━━━━━━━━━━━━━━\u001b[0m\u001b[37m\u001b[0m \u001b[1m0s\u001b[0m 62ms/step - loss: 61.1624 - val_loss: 5.1702 - learning_rate: 0.0010\n",
            "Epoch 103/5000\n",
            "\u001b[1m5/5\u001b[0m \u001b[32m━━━━━━━━━━━━━━━━━━━━\u001b[0m\u001b[37m\u001b[0m \u001b[1m1s\u001b[0m 63ms/step - loss: 43.3386 - val_loss: 8.0942 - learning_rate: 0.0010\n",
            "Epoch 104/5000\n",
            "\u001b[1m5/5\u001b[0m \u001b[32m━━━━━━━━━━━━━━━━━━━━\u001b[0m\u001b[37m\u001b[0m \u001b[1m0s\u001b[0m 53ms/step - loss: 60.2362 - val_loss: 6.1699 - learning_rate: 0.0010\n",
            "Epoch 105/5000\n",
            "\u001b[1m5/5\u001b[0m \u001b[32m━━━━━━━━━━━━━━━━━━━━\u001b[0m\u001b[37m\u001b[0m \u001b[1m0s\u001b[0m 54ms/step - loss: 43.0239 - val_loss: 7.4389 - learning_rate: 0.0010\n",
            "Epoch 106/5000\n",
            "\u001b[1m5/5\u001b[0m \u001b[32m━━━━━━━━━━━━━━━━━━━━\u001b[0m\u001b[37m\u001b[0m \u001b[1m0s\u001b[0m 54ms/step - loss: 45.3138 - val_loss: 7.9906 - learning_rate: 0.0010\n",
            "Epoch 107/5000\n",
            "\u001b[1m5/5\u001b[0m \u001b[32m━━━━━━━━━━━━━━━━━━━━\u001b[0m\u001b[37m\u001b[0m \u001b[1m0s\u001b[0m 64ms/step - loss: 55.6772 - val_loss: 15.1342 - learning_rate: 0.0010\n",
            "Epoch 108/5000\n",
            "\u001b[1m5/5\u001b[0m \u001b[32m━━━━━━━━━━━━━━━━━━━━\u001b[0m\u001b[37m\u001b[0m \u001b[1m1s\u001b[0m 54ms/step - loss: 60.7783 - val_loss: 4.4749 - learning_rate: 0.0010\n",
            "Epoch 109/5000\n",
            "\u001b[1m5/5\u001b[0m \u001b[32m━━━━━━━━━━━━━━━━━━━━\u001b[0m\u001b[37m\u001b[0m \u001b[1m0s\u001b[0m 54ms/step - loss: 39.4905 - val_loss: 5.9155 - learning_rate: 0.0010\n",
            "Epoch 110/5000\n",
            "\u001b[1m5/5\u001b[0m \u001b[32m━━━━━━━━━━━━━━━━━━━━\u001b[0m\u001b[37m\u001b[0m \u001b[1m0s\u001b[0m 62ms/step - loss: 41.2576 - val_loss: 4.1367 - learning_rate: 0.0010\n",
            "Epoch 111/5000\n",
            "\u001b[1m5/5\u001b[0m \u001b[32m━━━━━━━━━━━━━━━━━━━━\u001b[0m\u001b[37m\u001b[0m \u001b[1m1s\u001b[0m 63ms/step - loss: 39.6031 - val_loss: 5.4072 - learning_rate: 0.0010\n",
            "Epoch 112/5000\n",
            "\u001b[1m5/5\u001b[0m \u001b[32m━━━━━━━━━━━━━━━━━━━━\u001b[0m\u001b[37m\u001b[0m \u001b[1m1s\u001b[0m 55ms/step - loss: 37.6850 - val_loss: 4.7332 - learning_rate: 0.0010\n",
            "Epoch 113/5000\n",
            "\u001b[1m5/5\u001b[0m \u001b[32m━━━━━━━━━━━━━━━━━━━━\u001b[0m\u001b[37m\u001b[0m \u001b[1m0s\u001b[0m 73ms/step - loss: 37.1582 - val_loss: 4.5933 - learning_rate: 0.0010\n",
            "Epoch 114/5000\n",
            "\u001b[1m5/5\u001b[0m \u001b[32m━━━━━━━━━━━━━━━━━━━━\u001b[0m\u001b[37m\u001b[0m \u001b[1m1s\u001b[0m 64ms/step - loss: 38.5749 - val_loss: 6.3706 - learning_rate: 0.0010\n",
            "Epoch 115/5000\n",
            "\u001b[1m5/5\u001b[0m \u001b[32m━━━━━━━━━━━━━━━━━━━━\u001b[0m\u001b[37m\u001b[0m \u001b[1m1s\u001b[0m 74ms/step - loss: 38.2529 - val_loss: 4.2713 - learning_rate: 0.0010\n",
            "Epoch 116/5000\n",
            "\u001b[1m5/5\u001b[0m \u001b[32m━━━━━━━━━━━━━━━━━━━━\u001b[0m\u001b[37m\u001b[0m \u001b[1m0s\u001b[0m 78ms/step - loss: 36.1546 - val_loss: 4.1278 - learning_rate: 0.0010\n",
            "Epoch 117/5000\n",
            "\u001b[1m5/5\u001b[0m \u001b[32m━━━━━━━━━━━━━━━━━━━━\u001b[0m\u001b[37m\u001b[0m \u001b[1m1s\u001b[0m 56ms/step - loss: 37.2856 - val_loss: 6.9119 - learning_rate: 0.0010\n",
            "Epoch 118/5000\n",
            "\u001b[1m5/5\u001b[0m \u001b[32m━━━━━━━━━━━━━━━━━━━━\u001b[0m\u001b[37m\u001b[0m \u001b[1m0s\u001b[0m 55ms/step - loss: 39.0615 - val_loss: 4.5007 - learning_rate: 0.0010\n",
            "Epoch 119/5000\n",
            "\u001b[1m5/5\u001b[0m \u001b[32m━━━━━━━━━━━━━━━━━━━━\u001b[0m\u001b[37m\u001b[0m \u001b[1m0s\u001b[0m 56ms/step - loss: 37.7788 - val_loss: 6.5899 - learning_rate: 0.0010\n",
            "Epoch 120/5000\n",
            "\u001b[1m5/5\u001b[0m \u001b[32m━━━━━━━━━━━━━━━━━━━━\u001b[0m\u001b[37m\u001b[0m \u001b[1m0s\u001b[0m 54ms/step - loss: 38.2726 - val_loss: 4.3092 - learning_rate: 0.0010\n",
            "Epoch 121/5000\n",
            "\u001b[1m5/5\u001b[0m \u001b[32m━━━━━━━━━━━━━━━━━━━━\u001b[0m\u001b[37m\u001b[0m \u001b[1m0s\u001b[0m 53ms/step - loss: 37.2163 - val_loss: 5.3007 - learning_rate: 0.0010\n",
            "Epoch 122/5000\n",
            "\u001b[1m5/5\u001b[0m \u001b[32m━━━━━━━━━━━━━━━━━━━━\u001b[0m\u001b[37m\u001b[0m \u001b[1m0s\u001b[0m 63ms/step - loss: 36.8826 - val_loss: 4.4299 - learning_rate: 0.0010\n",
            "Epoch 123/5000\n",
            "\u001b[1m5/5\u001b[0m \u001b[32m━━━━━━━━━━━━━━━━━━━━\u001b[0m\u001b[37m\u001b[0m \u001b[1m0s\u001b[0m 58ms/step - loss: 38.5187 - val_loss: 7.6417 - learning_rate: 0.0010\n",
            "Epoch 124/5000\n",
            "\u001b[1m5/5\u001b[0m \u001b[32m━━━━━━━━━━━━━━━━━━━━\u001b[0m\u001b[37m\u001b[0m \u001b[1m0s\u001b[0m 53ms/step - loss: 39.6335 - val_loss: 4.1838 - learning_rate: 0.0010\n",
            "Epoch 125/5000\n",
            "\u001b[1m5/5\u001b[0m \u001b[32m━━━━━━━━━━━━━━━━━━━━\u001b[0m\u001b[37m\u001b[0m \u001b[1m0s\u001b[0m 100ms/step - loss: 36.4083 - val_loss: 4.0643 - learning_rate: 0.0010\n",
            "Epoch 126/5000\n",
            "\u001b[1m5/5\u001b[0m \u001b[32m━━━━━━━━━━━━━━━━━━━━\u001b[0m\u001b[37m\u001b[0m \u001b[1m0s\u001b[0m 56ms/step - loss: 36.1377 - val_loss: 4.6253 - learning_rate: 0.0010\n",
            "Epoch 127/5000\n",
            "\u001b[1m5/5\u001b[0m \u001b[32m━━━━━━━━━━━━━━━━━━━━\u001b[0m\u001b[37m\u001b[0m \u001b[1m0s\u001b[0m 54ms/step - loss: 36.0644 - val_loss: 4.2729 - learning_rate: 0.0010\n",
            "Epoch 128/5000\n",
            "\u001b[1m5/5\u001b[0m \u001b[32m━━━━━━━━━━━━━━━━━━━━\u001b[0m\u001b[37m\u001b[0m \u001b[1m0s\u001b[0m 53ms/step - loss: 38.0549 - val_loss: 8.2962 - learning_rate: 0.0010\n",
            "Epoch 129/5000\n",
            "\u001b[1m5/5\u001b[0m \u001b[32m━━━━━━━━━━━━━━━━━━━━\u001b[0m\u001b[37m\u001b[0m \u001b[1m0s\u001b[0m 56ms/step - loss: 41.3028 - val_loss: 7.0303 - learning_rate: 0.0010\n",
            "Epoch 130/5000\n",
            "\u001b[1m5/5\u001b[0m \u001b[32m━━━━━━━━━━━━━━━━━━━━\u001b[0m\u001b[37m\u001b[0m \u001b[1m0s\u001b[0m 54ms/step - loss: 44.8773 - val_loss: 6.5238 - learning_rate: 0.0010\n",
            "Epoch 131/5000\n",
            "\u001b[1m5/5\u001b[0m \u001b[32m━━━━━━━━━━━━━━━━━━━━\u001b[0m\u001b[37m\u001b[0m \u001b[1m0s\u001b[0m 63ms/step - loss: 55.5979 - val_loss: 19.6959 - learning_rate: 0.0010\n",
            "Epoch 132/5000\n",
            "\u001b[1m5/5\u001b[0m \u001b[32m━━━━━━━━━━━━━━━━━━━━\u001b[0m\u001b[37m\u001b[0m \u001b[1m0s\u001b[0m 56ms/step - loss: 69.8131 - val_loss: 5.2985 - learning_rate: 0.0010\n",
            "Epoch 133/5000\n",
            "\u001b[1m5/5\u001b[0m \u001b[32m━━━━━━━━━━━━━━━━━━━━\u001b[0m\u001b[37m\u001b[0m \u001b[1m0s\u001b[0m 54ms/step - loss: 54.3755 - val_loss: 22.1776 - learning_rate: 0.0010\n",
            "Epoch 134/5000\n",
            "\u001b[1m5/5\u001b[0m \u001b[32m━━━━━━━━━━━━━━━━━━━━\u001b[0m\u001b[37m\u001b[0m \u001b[1m0s\u001b[0m 63ms/step - loss: 74.8804 - val_loss: 7.2794 - learning_rate: 0.0010\n",
            "Epoch 135/5000\n",
            "\u001b[1m5/5\u001b[0m \u001b[32m━━━━━━━━━━━━━━━━━━━━\u001b[0m\u001b[37m\u001b[0m \u001b[1m1s\u001b[0m 56ms/step - loss: 68.9594 - val_loss: 25.6829 - learning_rate: 0.0010\n",
            "Epoch 136/5000\n",
            "\u001b[1m5/5\u001b[0m \u001b[32m━━━━━━━━━━━━━━━━━━━━\u001b[0m\u001b[37m\u001b[0m \u001b[1m0s\u001b[0m 63ms/step - loss: 108.3306 - val_loss: 53.9063 - learning_rate: 0.0010\n",
            "Epoch 137/5000\n",
            "\u001b[1m5/5\u001b[0m \u001b[32m━━━━━━━━━━━━━━━━━━━━\u001b[0m\u001b[37m\u001b[0m \u001b[1m1s\u001b[0m 58ms/step - loss: 174.7714 - val_loss: 90.8221 - learning_rate: 0.0010\n",
            "Epoch 138/5000\n",
            "\u001b[1m5/5\u001b[0m \u001b[32m━━━━━━━━━━━━━━━━━━━━\u001b[0m\u001b[37m\u001b[0m \u001b[1m0s\u001b[0m 54ms/step - loss: 286.2090 - val_loss: 67.9149 - learning_rate: 0.0010\n",
            "Epoch 139/5000\n",
            "\u001b[1m5/5\u001b[0m \u001b[32m━━━━━━━━━━━━━━━━━━━━\u001b[0m\u001b[37m\u001b[0m \u001b[1m0s\u001b[0m 62ms/step - loss: 209.9447 - val_loss: 58.6629 - learning_rate: 0.0010\n",
            "Epoch 140/5000\n",
            "\u001b[1m5/5\u001b[0m \u001b[32m━━━━━━━━━━━━━━━━━━━━\u001b[0m\u001b[37m\u001b[0m \u001b[1m0s\u001b[0m 57ms/step - loss: 182.7001 - val_loss: 48.8197 - learning_rate: 0.0010\n",
            "Epoch 141/5000\n",
            "\u001b[1m5/5\u001b[0m \u001b[32m━━━━━━━━━━━━━━━━━━━━\u001b[0m\u001b[37m\u001b[0m \u001b[1m0s\u001b[0m 54ms/step - loss: 153.1281 - val_loss: 67.5390 - learning_rate: 0.0010\n",
            "Epoch 142/5000\n",
            "\u001b[1m5/5\u001b[0m \u001b[32m━━━━━━━━━━━━━━━━━━━━\u001b[0m\u001b[37m\u001b[0m \u001b[1m0s\u001b[0m 63ms/step - loss: 210.4629 - val_loss: 49.1174 - learning_rate: 0.0010\n",
            "Epoch 143/5000\n",
            "\u001b[1m5/5\u001b[0m \u001b[32m━━━━━━━━━━━━━━━━━━━━\u001b[0m\u001b[37m\u001b[0m \u001b[1m0s\u001b[0m 53ms/step - loss: 153.1303 - val_loss: 58.7266 - learning_rate: 0.0010\n",
            "Epoch 144/5000\n",
            "\u001b[1m5/5\u001b[0m \u001b[32m━━━━━━━━━━━━━━━━━━━━\u001b[0m\u001b[37m\u001b[0m \u001b[1m0s\u001b[0m 64ms/step - loss: 182.7934 - val_loss: 55.6401 - learning_rate: 0.0010\n",
            "Epoch 145/5000\n",
            "\u001b[1m5/5\u001b[0m \u001b[32m━━━━━━━━━━━━━━━━━━━━\u001b[0m\u001b[37m\u001b[0m \u001b[1m0s\u001b[0m 64ms/step - loss: 169.9096 - val_loss: 52.5266 - learning_rate: 0.0010\n",
            "Epoch 146/5000\n",
            "\u001b[1m5/5\u001b[0m \u001b[32m━━━━━━━━━━━━━━━━━━━━\u001b[0m\u001b[37m\u001b[0m \u001b[1m1s\u001b[0m 55ms/step - loss: 163.0747 - val_loss: 50.4697 - learning_rate: 0.0010\n",
            "Epoch 147/5000\n",
            "\u001b[1m5/5\u001b[0m \u001b[32m━━━━━━━━━━━━━━━━━━━━\u001b[0m\u001b[37m\u001b[0m \u001b[1m0s\u001b[0m 68ms/step - loss: 155.4288 - val_loss: 49.5208 - learning_rate: 0.0010\n",
            "Epoch 148/5000\n",
            "\u001b[1m5/5\u001b[0m \u001b[32m━━━━━━━━━━━━━━━━━━━━\u001b[0m\u001b[37m\u001b[0m \u001b[1m0s\u001b[0m 64ms/step - loss: 153.8989 - val_loss: 48.2743 - learning_rate: 0.0010\n",
            "Epoch 149/5000\n",
            "\u001b[1m5/5\u001b[0m \u001b[32m━━━━━━━━━━━━━━━━━━━━\u001b[0m\u001b[37m\u001b[0m \u001b[1m0s\u001b[0m 75ms/step - loss: 149.2599 - val_loss: 47.8446 - learning_rate: 0.0010\n",
            "Epoch 150/5000\n",
            "\u001b[1m5/5\u001b[0m \u001b[32m━━━━━━━━━━━━━━━━━━━━\u001b[0m\u001b[37m\u001b[0m \u001b[1m1s\u001b[0m 72ms/step - loss: 149.0497 - val_loss: 45.7018 - learning_rate: 0.0010\n",
            "Epoch 151/5000\n",
            "\u001b[1m5/5\u001b[0m \u001b[32m━━━━━━━━━━━━━━━━━━━━\u001b[0m\u001b[37m\u001b[0m \u001b[1m0s\u001b[0m 68ms/step - loss: 142.4207 - val_loss: 44.9452 - learning_rate: 0.0010\n",
            "Epoch 152/5000\n",
            "\u001b[1m5/5\u001b[0m \u001b[32m━━━━━━━━━━━━━━━━━━━━\u001b[0m\u001b[37m\u001b[0m \u001b[1m1s\u001b[0m 59ms/step - loss: 140.1870 - val_loss: 43.4723 - learning_rate: 0.0010\n",
            "Epoch 153/5000\n",
            "\u001b[1m5/5\u001b[0m \u001b[32m━━━━━━━━━━━━━━━━━━━━\u001b[0m\u001b[37m\u001b[0m \u001b[1m0s\u001b[0m 54ms/step - loss: 136.5577 - val_loss: 44.1252 - learning_rate: 0.0010\n",
            "Epoch 154/5000\n",
            "\u001b[1m5/5\u001b[0m \u001b[32m━━━━━━━━━━━━━━━━━━━━\u001b[0m\u001b[37m\u001b[0m \u001b[1m0s\u001b[0m 54ms/step - loss: 137.6900 - val_loss: 42.3909 - learning_rate: 0.0010\n",
            "Epoch 155/5000\n",
            "\u001b[1m5/5\u001b[0m \u001b[32m━━━━━━━━━━━━━━━━━━━━\u001b[0m\u001b[37m\u001b[0m \u001b[1m0s\u001b[0m 53ms/step - loss: 134.1297 - val_loss: 44.6905 - learning_rate: 0.0010\n",
            "Epoch 156/5000\n",
            "\u001b[1m5/5\u001b[0m \u001b[32m━━━━━━━━━━━━━━━━━━━━\u001b[0m\u001b[37m\u001b[0m \u001b[1m0s\u001b[0m 54ms/step - loss: 138.9477 - val_loss: 42.8398 - learning_rate: 0.0010\n",
            "Epoch 157/5000\n",
            "\u001b[1m5/5\u001b[0m \u001b[32m━━━━━━━━━━━━━━━━━━━━\u001b[0m\u001b[37m\u001b[0m \u001b[1m0s\u001b[0m 57ms/step - loss: 135.2636 - val_loss: 45.3262 - learning_rate: 0.0010\n",
            "Epoch 158/5000\n",
            "\u001b[1m5/5\u001b[0m \u001b[32m━━━━━━━━━━━━━━━━━━━━\u001b[0m\u001b[37m\u001b[0m \u001b[1m0s\u001b[0m 63ms/step - loss: 141.5132 - val_loss: 35.5806 - learning_rate: 0.0010\n",
            "Epoch 159/5000\n",
            "\u001b[1m5/5\u001b[0m \u001b[32m━━━━━━━━━━━━━━━━━━━━\u001b[0m\u001b[37m\u001b[0m \u001b[1m1s\u001b[0m 57ms/step - loss: 117.1279 - val_loss: 42.8763 - learning_rate: 0.0010\n",
            "Epoch 160/5000\n",
            "\u001b[1m5/5\u001b[0m \u001b[32m━━━━━━━━━━━━━━━━━━━━\u001b[0m\u001b[37m\u001b[0m \u001b[1m0s\u001b[0m 56ms/step - loss: 133.2859 - val_loss: 41.3620 - learning_rate: 0.0010\n",
            "Epoch 161/5000\n",
            "\u001b[1m5/5\u001b[0m \u001b[32m━━━━━━━━━━━━━━━━━━━━\u001b[0m\u001b[37m\u001b[0m \u001b[1m0s\u001b[0m 54ms/step - loss: 133.5469 - val_loss: 56.2690 - learning_rate: 0.0010\n",
            "Epoch 162/5000\n",
            "\u001b[1m5/5\u001b[0m \u001b[32m━━━━━━━━━━━━━━━━━━━━\u001b[0m\u001b[37m\u001b[0m \u001b[1m0s\u001b[0m 54ms/step - loss: 174.9645 - val_loss: 42.8139 - learning_rate: 0.0010\n",
            "Epoch 163/5000\n",
            "\u001b[1m5/5\u001b[0m \u001b[32m━━━━━━━━━━━━━━━━━━━━\u001b[0m\u001b[37m\u001b[0m \u001b[1m0s\u001b[0m 55ms/step - loss: 134.2778 - val_loss: 36.6344 - learning_rate: 0.0010\n",
            "Epoch 164/5000\n",
            "\u001b[1m5/5\u001b[0m \u001b[32m━━━━━━━━━━━━━━━━━━━━\u001b[0m\u001b[37m\u001b[0m \u001b[1m0s\u001b[0m 63ms/step - loss: 115.9256 - val_loss: 33.8977 - learning_rate: 0.0010\n",
            "Epoch 165/5000\n",
            "\u001b[1m5/5\u001b[0m \u001b[32m━━━━━━━━━━━━━━━━━━━━\u001b[0m\u001b[37m\u001b[0m \u001b[1m0s\u001b[0m 54ms/step - loss: 110.8158 - val_loss: 40.1885 - learning_rate: 0.0010\n",
            "Epoch 166/5000\n",
            "\u001b[1m5/5\u001b[0m \u001b[32m━━━━━━━━━━━━━━━━━━━━\u001b[0m\u001b[37m\u001b[0m \u001b[1m0s\u001b[0m 57ms/step - loss: 126.8452 - val_loss: 37.6072 - learning_rate: 0.0010\n",
            "Epoch 167/5000\n",
            "\u001b[1m5/5\u001b[0m \u001b[32m━━━━━━━━━━━━━━━━━━━━\u001b[0m\u001b[37m\u001b[0m \u001b[1m0s\u001b[0m 54ms/step - loss: 119.4190 - val_loss: 36.6936 - learning_rate: 0.0010\n",
            "Epoch 168/5000\n",
            "\u001b[1m5/5\u001b[0m \u001b[32m━━━━━━━━━━━━━━━━━━━━\u001b[0m\u001b[37m\u001b[0m \u001b[1m0s\u001b[0m 64ms/step - loss: 116.9930 - val_loss: 34.3321 - learning_rate: 0.0010\n",
            "Epoch 169/5000\n",
            "\u001b[1m5/5\u001b[0m \u001b[32m━━━━━━━━━━━━━━━━━━━━\u001b[0m\u001b[37m\u001b[0m \u001b[1m1s\u001b[0m 55ms/step - loss: 111.4529 - val_loss: 37.8447 - learning_rate: 0.0010\n",
            "Epoch 170/5000\n",
            "\u001b[1m5/5\u001b[0m \u001b[32m━━━━━━━━━━━━━━━━━━━━\u001b[0m\u001b[37m\u001b[0m \u001b[1m0s\u001b[0m 53ms/step - loss: 120.0198 - val_loss: 36.6993 - learning_rate: 0.0010\n",
            "Epoch 171/5000\n",
            "\u001b[1m5/5\u001b[0m \u001b[32m━━━━━━━━━━━━━━━━━━━━\u001b[0m\u001b[37m\u001b[0m \u001b[1m0s\u001b[0m 64ms/step - loss: 116.9991 - val_loss: 38.7426 - learning_rate: 0.0010\n",
            "Epoch 172/5000\n",
            "\u001b[1m5/5\u001b[0m \u001b[32m━━━━━━━━━━━━━━━━━━━━\u001b[0m\u001b[37m\u001b[0m \u001b[1m0s\u001b[0m 64ms/step - loss: 123.5855 - val_loss: 32.4700 - learning_rate: 0.0010\n",
            "Epoch 173/5000\n",
            "\u001b[1m5/5\u001b[0m \u001b[32m━━━━━━━━━━━━━━━━━━━━\u001b[0m\u001b[37m\u001b[0m \u001b[1m0s\u001b[0m 54ms/step - loss: 105.4402 - val_loss: 32.4694 - learning_rate: 0.0010\n",
            "Epoch 174/5000\n",
            "\u001b[1m5/5\u001b[0m \u001b[32m━━━━━━━━━━━━━━━━━━━━\u001b[0m\u001b[37m\u001b[0m \u001b[1m0s\u001b[0m 55ms/step - loss: 105.0012 - val_loss: 31.9868 - learning_rate: 0.0010\n",
            "Epoch 175/5000\n",
            "\u001b[1m5/5\u001b[0m \u001b[32m━━━━━━━━━━━━━━━━━━━━\u001b[0m\u001b[37m\u001b[0m \u001b[1m0s\u001b[0m 66ms/step - loss: 104.4246 - val_loss: 35.9916 - learning_rate: 0.0010\n",
            "Epoch 176/5000\n",
            "\u001b[1m5/5\u001b[0m \u001b[32m━━━━━━━━━━━━━━━━━━━━\u001b[0m\u001b[37m\u001b[0m \u001b[1m1s\u001b[0m 55ms/step - loss: 115.2347 - val_loss: 34.0689 - learning_rate: 0.0010\n",
            "Epoch 177/5000\n",
            "\u001b[1m5/5\u001b[0m \u001b[32m━━━━━━━━━━━━━━━━━━━━\u001b[0m\u001b[37m\u001b[0m \u001b[1m0s\u001b[0m 64ms/step - loss: 109.3883 - val_loss: 33.2588 - learning_rate: 0.0010\n",
            "Epoch 178/5000\n",
            "\u001b[1m5/5\u001b[0m \u001b[32m━━━━━━━━━━━━━━━━━━━━\u001b[0m\u001b[37m\u001b[0m \u001b[1m1s\u001b[0m 65ms/step - loss: 107.6702 - val_loss: 31.0749 - learning_rate: 0.0010\n",
            "Epoch 179/5000\n",
            "\u001b[1m5/5\u001b[0m \u001b[32m━━━━━━━━━━━━━━━━━━━━\u001b[0m\u001b[37m\u001b[0m \u001b[1m1s\u001b[0m 64ms/step - loss: 101.4792 - val_loss: 32.5858 - learning_rate: 0.0010\n",
            "Epoch 180/5000\n",
            "\u001b[1m5/5\u001b[0m \u001b[32m━━━━━━━━━━━━━━━━━━━━\u001b[0m\u001b[37m\u001b[0m \u001b[1m1s\u001b[0m 73ms/step - loss: 105.7732 - val_loss: 31.2781 - learning_rate: 0.0010\n",
            "Epoch 181/5000\n",
            "\u001b[1m5/5\u001b[0m \u001b[32m━━━━━━━━━━━━━━━━━━━━\u001b[0m\u001b[37m\u001b[0m \u001b[1m1s\u001b[0m 62ms/step - loss: 101.7730 - val_loss: 32.9797 - learning_rate: 0.0010\n",
            "Epoch 182/5000\n",
            "\u001b[1m5/5\u001b[0m \u001b[32m━━━━━━━━━━━━━━━━━━━━\u001b[0m\u001b[37m\u001b[0m \u001b[1m1s\u001b[0m 64ms/step - loss: 107.1372 - val_loss: 32.0200 - learning_rate: 0.0010\n",
            "Epoch 183/5000\n",
            "\u001b[1m5/5\u001b[0m \u001b[32m━━━━━━━━━━━━━━━━━━━━\u001b[0m\u001b[37m\u001b[0m \u001b[1m1s\u001b[0m 76ms/step - loss: 103.7005 - val_loss: 32.4780 - learning_rate: 0.0010\n",
            "Epoch 184/5000\n",
            "\u001b[1m5/5\u001b[0m \u001b[32m━━━━━━━━━━━━━━━━━━━━\u001b[0m\u001b[37m\u001b[0m \u001b[1m1s\u001b[0m 56ms/step - loss: 105.5738 - val_loss: 30.1606 - learning_rate: 0.0010\n",
            "Epoch 185/5000\n",
            "\u001b[1m5/5\u001b[0m \u001b[32m━━━━━━━━━━━━━━━━━━━━\u001b[0m\u001b[37m\u001b[0m \u001b[1m0s\u001b[0m 66ms/step - loss: 98.8319 - val_loss: 31.0105 - learning_rate: 0.0010\n",
            "Epoch 186/5000\n",
            "\u001b[1m5/5\u001b[0m \u001b[32m━━━━━━━━━━━━━━━━━━━━\u001b[0m\u001b[37m\u001b[0m \u001b[1m0s\u001b[0m 55ms/step - loss: 101.5157 - val_loss: 29.6806 - learning_rate: 0.0010\n",
            "Epoch 187/5000\n",
            "\u001b[1m5/5\u001b[0m \u001b[32m━━━━━━━━━━━━━━━━━━━━\u001b[0m\u001b[37m\u001b[0m \u001b[1m0s\u001b[0m 55ms/step - loss: 97.3090 - val_loss: 31.3068 - learning_rate: 0.0010\n",
            "Epoch 188/5000\n",
            "\u001b[1m5/5\u001b[0m \u001b[32m━━━━━━━━━━━━━━━━━━━━\u001b[0m\u001b[37m\u001b[0m \u001b[1m0s\u001b[0m 55ms/step - loss: 102.5712 - val_loss: 30.7239 - learning_rate: 0.0010\n",
            "Epoch 189/5000\n",
            "\u001b[1m5/5\u001b[0m \u001b[32m━━━━━━━━━━━━━━━━━━━━\u001b[0m\u001b[37m\u001b[0m \u001b[1m0s\u001b[0m 58ms/step - loss: 100.1405 - val_loss: 31.1081 - learning_rate: 0.0010\n",
            "Epoch 190/5000\n",
            "\u001b[1m5/5\u001b[0m \u001b[32m━━━━━━━━━━━━━━━━━━━━\u001b[0m\u001b[37m\u001b[0m \u001b[1m0s\u001b[0m 63ms/step - loss: 101.7222 - val_loss: 29.1366 - learning_rate: 0.0010\n",
            "Epoch 191/5000\n",
            "\u001b[1m5/5\u001b[0m \u001b[32m━━━━━━━━━━━━━━━━━━━━\u001b[0m\u001b[37m\u001b[0m \u001b[1m1s\u001b[0m 55ms/step - loss: 95.8327 - val_loss: 30.1695 - learning_rate: 0.0010\n",
            "Epoch 192/5000\n",
            "\u001b[1m5/5\u001b[0m \u001b[32m━━━━━━━━━━━━━━━━━━━━\u001b[0m\u001b[37m\u001b[0m \u001b[1m0s\u001b[0m 55ms/step - loss: 99.2169 - val_loss: 28.8723 - learning_rate: 0.0010\n",
            "Epoch 193/5000\n",
            "\u001b[1m5/5\u001b[0m \u001b[32m━━━━━━━━━━━━━━━━━━━━\u001b[0m\u001b[37m\u001b[0m \u001b[1m0s\u001b[0m 54ms/step - loss: 95.0593 - val_loss: 30.5203 - learning_rate: 0.0010\n",
            "Epoch 194/5000\n",
            "\u001b[1m5/5\u001b[0m \u001b[32m━━━━━━━━━━━━━━━━━━━━\u001b[0m\u001b[37m\u001b[0m \u001b[1m0s\u001b[0m 63ms/step - loss: 100.2166 - val_loss: 28.9812 - learning_rate: 0.0010\n",
            "Epoch 195/5000\n",
            "\u001b[1m5/5\u001b[0m \u001b[32m━━━━━━━━━━━━━━━━━━━━\u001b[0m\u001b[37m\u001b[0m \u001b[1m1s\u001b[0m 55ms/step - loss: 95.2191 - val_loss: 29.8606 - learning_rate: 0.0010\n",
            "Epoch 196/5000\n",
            "\u001b[1m5/5\u001b[0m \u001b[32m━━━━━━━━━━━━━━━━━━━━\u001b[0m\u001b[37m\u001b[0m \u001b[1m0s\u001b[0m 56ms/step - loss: 98.3172 - val_loss: 28.2075 - learning_rate: 0.0010\n",
            "Epoch 197/5000\n",
            "\u001b[1m5/5\u001b[0m \u001b[32m━━━━━━━━━━━━━━━━━━━━\u001b[0m\u001b[37m\u001b[0m \u001b[1m0s\u001b[0m 56ms/step - loss: 93.2132 - val_loss: 29.5614 - learning_rate: 0.0010\n",
            "Epoch 198/5000\n",
            "\u001b[1m5/5\u001b[0m \u001b[32m━━━━━━━━━━━━━━━━━━━━\u001b[0m\u001b[37m\u001b[0m \u001b[1m0s\u001b[0m 64ms/step - loss: 97.5541 - val_loss: 28.1177 - learning_rate: 0.0010\n",
            "Epoch 199/5000\n",
            "\u001b[1m5/5\u001b[0m \u001b[32m━━━━━━━━━━━━━━━━━━━━\u001b[0m\u001b[37m\u001b[0m \u001b[1m1s\u001b[0m 64ms/step - loss: 92.7999 - val_loss: 29.3436 - learning_rate: 0.0010\n",
            "Epoch 200/5000\n",
            "\u001b[1m5/5\u001b[0m \u001b[32m━━━━━━━━━━━━━━━━━━━━\u001b[0m\u001b[37m\u001b[0m \u001b[1m0s\u001b[0m 56ms/step - loss: 96.9552 - val_loss: 27.9049 - learning_rate: 0.0010\n",
            "Epoch 201/5000\n",
            "\u001b[1m5/5\u001b[0m \u001b[32m━━━━━━━━━━━━━━━━━━━━\u001b[0m\u001b[37m\u001b[0m \u001b[1m0s\u001b[0m 53ms/step - loss: 92.2184 - val_loss: 29.0532 - learning_rate: 0.0010\n",
            "Epoch 202/5000\n",
            "\u001b[1m5/5\u001b[0m \u001b[32m━━━━━━━━━━━━━━━━━━━━\u001b[0m\u001b[37m\u001b[0m \u001b[1m0s\u001b[0m 54ms/step - loss: 96.1673 - val_loss: 27.6054 - learning_rate: 0.0010\n",
            "Epoch 203/5000\n",
            "\u001b[1m5/5\u001b[0m \u001b[32m━━━━━━━━━━━━━━━━━━━━\u001b[0m\u001b[37m\u001b[0m \u001b[1m0s\u001b[0m 65ms/step - loss: 91.2592 - val_loss: 28.6200 - learning_rate: 0.0010\n",
            "Epoch 204/5000\n",
            "\u001b[1m5/5\u001b[0m \u001b[32m━━━━━━━━━━━━━━━━━━━━\u001b[0m\u001b[37m\u001b[0m \u001b[1m0s\u001b[0m 54ms/step - loss: 94.9282 - val_loss: 27.4289 - learning_rate: 0.0010\n",
            "Epoch 205/5000\n",
            "\u001b[1m5/5\u001b[0m \u001b[32m━━━━━━━━━━━━━━━━━━━━\u001b[0m\u001b[37m\u001b[0m \u001b[1m0s\u001b[0m 65ms/step - loss: 90.8256 - val_loss: 28.5384 - learning_rate: 0.0010\n",
            "Epoch 206/5000\n",
            "\u001b[1m5/5\u001b[0m \u001b[32m━━━━━━━━━━━━━━━━━━━━\u001b[0m\u001b[37m\u001b[0m \u001b[1m0s\u001b[0m 65ms/step - loss: 94.8219 - val_loss: 27.2925 - learning_rate: 0.0010\n",
            "Epoch 207/5000\n",
            "\u001b[1m5/5\u001b[0m \u001b[32m━━━━━━━━━━━━━━━━━━━━\u001b[0m\u001b[37m\u001b[0m \u001b[1m1s\u001b[0m 56ms/step - loss: 90.2596 - val_loss: 27.1389 - learning_rate: 0.0010\n",
            "Epoch 208/5000\n",
            "\u001b[1m5/5\u001b[0m \u001b[32m━━━━━━━━━━━━━━━━━━━━\u001b[0m\u001b[37m\u001b[0m \u001b[1m0s\u001b[0m 55ms/step - loss: 91.0344 - val_loss: 27.0501 - learning_rate: 0.0010\n",
            "Epoch 209/5000\n",
            "\u001b[1m5/5\u001b[0m \u001b[32m━━━━━━━━━━━━━━━━━━━━\u001b[0m\u001b[37m\u001b[0m \u001b[1m0s\u001b[0m 54ms/step - loss: 89.7225 - val_loss: 31.4592 - learning_rate: 0.0010\n",
            "Epoch 210/5000\n",
            "\u001b[1m5/5\u001b[0m \u001b[32m━━━━━━━━━━━━━━━━━━━━\u001b[0m\u001b[37m\u001b[0m \u001b[1m0s\u001b[0m 54ms/step - loss: 103.0873 - val_loss: 29.1893 - learning_rate: 0.0010\n",
            "Epoch 211/5000\n",
            "\u001b[1m5/5\u001b[0m \u001b[32m━━━━━━━━━━━━━━━━━━━━\u001b[0m\u001b[37m\u001b[0m \u001b[1m0s\u001b[0m 56ms/step - loss: 95.2065 - val_loss: 27.7421 - learning_rate: 0.0010\n",
            "Epoch 212/5000\n",
            "\u001b[1m5/5\u001b[0m \u001b[32m━━━━━━━━━━━━━━━━━━━━\u001b[0m\u001b[37m\u001b[0m \u001b[1m0s\u001b[0m 74ms/step - loss: 92.4778 - val_loss: 25.6663 - learning_rate: 0.0010\n",
            "Epoch 213/5000\n",
            "\u001b[1m5/5\u001b[0m \u001b[32m━━━━━━━━━━━━━━━━━━━━\u001b[0m\u001b[37m\u001b[0m \u001b[1m1s\u001b[0m 66ms/step - loss: 86.1750 - val_loss: 27.7210 - learning_rate: 0.0010\n",
            "Epoch 214/5000\n",
            "\u001b[1m5/5\u001b[0m \u001b[32m━━━━━━━━━━━━━━━━━━━━\u001b[0m\u001b[37m\u001b[0m \u001b[1m1s\u001b[0m 67ms/step - loss: 92.5359 - val_loss: 26.8753 - learning_rate: 0.0010\n",
            "Epoch 215/5000\n",
            "\u001b[1m5/5\u001b[0m \u001b[32m━━━━━━━━━━━━━━━━━━━━\u001b[0m\u001b[37m\u001b[0m \u001b[1m1s\u001b[0m 73ms/step - loss: 88.8262 - val_loss: 27.9634 - learning_rate: 0.0010\n",
            "Epoch 216/5000\n",
            "\u001b[1m5/5\u001b[0m \u001b[32m━━━━━━━━━━━━━━━━━━━━\u001b[0m\u001b[37m\u001b[0m \u001b[1m0s\u001b[0m 56ms/step - loss: 93.3893 - val_loss: 26.4236 - learning_rate: 0.0010\n",
            "Epoch 217/5000\n",
            "\u001b[1m5/5\u001b[0m \u001b[32m━━━━━━━━━━━━━━━━━━━━\u001b[0m\u001b[37m\u001b[0m \u001b[1m0s\u001b[0m 64ms/step - loss: 87.6796 - val_loss: 27.1255 - learning_rate: 0.0010\n",
            "Epoch 218/5000\n",
            "\u001b[1m5/5\u001b[0m \u001b[32m━━━━━━━━━━━━━━━━━━━━\u001b[0m\u001b[37m\u001b[0m \u001b[1m0s\u001b[0m 59ms/step - loss: 90.9450 - val_loss: 25.9342 - learning_rate: 0.0010\n",
            "Epoch 219/5000\n",
            "\u001b[1m5/5\u001b[0m \u001b[32m━━━━━━━━━━━━━━━━━━━━\u001b[0m\u001b[37m\u001b[0m \u001b[1m0s\u001b[0m 56ms/step - loss: 86.2580 - val_loss: 26.8940 - learning_rate: 0.0010\n",
            "Epoch 220/5000\n",
            "\u001b[1m5/5\u001b[0m \u001b[32m━━━━━━━━━━━━━━━━━━━━\u001b[0m\u001b[37m\u001b[0m \u001b[1m0s\u001b[0m 63ms/step - loss: 90.4886 - val_loss: 26.1170 - learning_rate: 0.0010\n",
            "Epoch 221/5000\n",
            "\u001b[1m5/5\u001b[0m \u001b[32m━━━━━━━━━━━━━━━━━━━━\u001b[0m\u001b[37m\u001b[0m \u001b[1m1s\u001b[0m 56ms/step - loss: 86.6396 - val_loss: 27.2535 - learning_rate: 0.0010\n",
            "Epoch 222/5000\n",
            "\u001b[1m5/5\u001b[0m \u001b[32m━━━━━━━━━━━━━━━━━━━━\u001b[0m\u001b[37m\u001b[0m \u001b[1m0s\u001b[0m 55ms/step - loss: 91.4822 - val_loss: 26.1856 - learning_rate: 0.0010\n",
            "Epoch 223/5000\n",
            "\u001b[1m5/5\u001b[0m \u001b[32m━━━━━━━━━━━━━━━━━━━━\u001b[0m\u001b[37m\u001b[0m \u001b[1m0s\u001b[0m 55ms/step - loss: 86.8198 - val_loss: 26.5557 - learning_rate: 0.0010\n",
            "Epoch 224/5000\n",
            "\u001b[1m5/5\u001b[0m \u001b[32m━━━━━━━━━━━━━━━━━━━━\u001b[0m\u001b[37m\u001b[0m \u001b[1m0s\u001b[0m 56ms/step - loss: 89.3521 - val_loss: 24.8192 - learning_rate: 0.0010\n",
            "Epoch 225/5000\n",
            "\u001b[1m4/5\u001b[0m \u001b[32m━━━━━━━━━━━━━━━━\u001b[0m\u001b[37m━━━━\u001b[0m \u001b[1m0s\u001b[0m 55ms/step - loss: 96.6670 \n",
            "Epoch 225: ReduceLROnPlateau reducing learning rate to 0.00010000000474974513.\n",
            "\u001b[1m5/5\u001b[0m \u001b[32m━━━━━━━━━━━━━━━━━━━━\u001b[0m\u001b[37m\u001b[0m \u001b[1m0s\u001b[0m 56ms/step - loss: 83.3628 - val_loss: 26.2728 - learning_rate: 0.0010\n",
            "Epoch 226/5000\n",
            "\u001b[1m5/5\u001b[0m \u001b[32m━━━━━━━━━━━━━━━━━━━━\u001b[0m\u001b[37m\u001b[0m \u001b[1m0s\u001b[0m 63ms/step - loss: 99.3702 - val_loss: 18.2280 - learning_rate: 1.0000e-04\n",
            "Epoch 227/5000\n",
            "\u001b[1m5/5\u001b[0m \u001b[32m━━━━━━━━━━━━━━━━━━━━\u001b[0m\u001b[37m\u001b[0m \u001b[1m1s\u001b[0m 65ms/step - loss: 71.5517 - val_loss: 5.0399 - learning_rate: 1.0000e-04\n",
            "Epoch 228/5000\n",
            "\u001b[1m5/5\u001b[0m \u001b[32m━━━━━━━━━━━━━━━━━━━━\u001b[0m\u001b[37m\u001b[0m \u001b[1m0s\u001b[0m 54ms/step - loss: 43.6001 - val_loss: 10.5209 - learning_rate: 1.0000e-04\n",
            "Epoch 229/5000\n",
            "\u001b[1m5/5\u001b[0m \u001b[32m━━━━━━━━━━━━━━━━━━━━\u001b[0m\u001b[37m\u001b[0m \u001b[1m0s\u001b[0m 65ms/step - loss: 53.8974 - val_loss: 7.5105 - learning_rate: 1.0000e-04\n",
            "Epoch 230/5000\n",
            "\u001b[1m5/5\u001b[0m \u001b[32m━━━━━━━━━━━━━━━━━━━━\u001b[0m\u001b[37m\u001b[0m \u001b[1m1s\u001b[0m 64ms/step - loss: 45.6181 - val_loss: 5.4421 - learning_rate: 1.0000e-04\n",
            "Epoch 231/5000\n",
            "\u001b[1m5/5\u001b[0m \u001b[32m━━━━━━━━━━━━━━━━━━━━\u001b[0m\u001b[37m\u001b[0m \u001b[1m1s\u001b[0m 56ms/step - loss: 43.5616 - val_loss: 6.5165 - learning_rate: 1.0000e-04\n",
            "Epoch 232/5000\n",
            "\u001b[1m5/5\u001b[0m \u001b[32m━━━━━━━━━━━━━━━━━━━━\u001b[0m\u001b[37m\u001b[0m \u001b[1m0s\u001b[0m 63ms/step - loss: 44.0477 - val_loss: 4.6756 - learning_rate: 1.0000e-04\n",
            "Epoch 233/5000\n",
            "\u001b[1m5/5\u001b[0m \u001b[32m━━━━━━━━━━━━━━━━━━━━\u001b[0m\u001b[37m\u001b[0m \u001b[1m1s\u001b[0m 66ms/step - loss: 41.0237 - val_loss: 5.2251 - learning_rate: 1.0000e-04\n",
            "Epoch 234/5000\n",
            "\u001b[1m5/5\u001b[0m \u001b[32m━━━━━━━━━━━━━━━━━━━━\u001b[0m\u001b[37m\u001b[0m \u001b[1m0s\u001b[0m 64ms/step - loss: 41.2285 - val_loss: 4.4534 - learning_rate: 1.0000e-04\n",
            "Epoch 235/5000\n",
            "\u001b[1m5/5\u001b[0m \u001b[32m━━━━━━━━━━━━━━━━━━━━\u001b[0m\u001b[37m\u001b[0m \u001b[1m0s\u001b[0m 54ms/step - loss: 39.8195 - val_loss: 4.6323 - learning_rate: 1.0000e-04\n",
            "Epoch 236/5000\n",
            "\u001b[1m5/5\u001b[0m \u001b[32m━━━━━━━━━━━━━━━━━━━━\u001b[0m\u001b[37m\u001b[0m \u001b[1m0s\u001b[0m 67ms/step - loss: 39.7527 - val_loss: 4.3687 - learning_rate: 1.0000e-04\n",
            "Epoch 237/5000\n",
            "\u001b[1m5/5\u001b[0m \u001b[32m━━━━━━━━━━━━━━━━━━━━\u001b[0m\u001b[37m\u001b[0m \u001b[1m0s\u001b[0m 59ms/step - loss: 39.0703 - val_loss: 4.4130 - learning_rate: 1.0000e-04\n",
            "Epoch 238/5000\n",
            "\u001b[1m5/5\u001b[0m \u001b[32m━━━━━━━━━━━━━━━━━━━━\u001b[0m\u001b[37m\u001b[0m \u001b[1m0s\u001b[0m 65ms/step - loss: 38.8298 - val_loss: 4.2724 - learning_rate: 1.0000e-04\n",
            "Epoch 239/5000\n",
            "\u001b[1m5/5\u001b[0m \u001b[32m━━━━━━━━━━━━━━━━━━━━\u001b[0m\u001b[37m\u001b[0m \u001b[1m1s\u001b[0m 55ms/step - loss: 38.6993 - val_loss: 4.2356 - learning_rate: 1.0000e-04\n",
            "Epoch 240/5000\n",
            "\u001b[1m5/5\u001b[0m \u001b[32m━━━━━━━━━━━━━━━━━━━━\u001b[0m\u001b[37m\u001b[0m \u001b[1m0s\u001b[0m 64ms/step - loss: 38.4357 - val_loss: 4.2902 - learning_rate: 1.0000e-04\n",
            "Epoch 241/5000\n",
            "\u001b[1m5/5\u001b[0m \u001b[32m━━━━━━━━━━━━━━━━━━━━\u001b[0m\u001b[37m\u001b[0m \u001b[1m1s\u001b[0m 56ms/step - loss: 38.3020 - val_loss: 4.2023 - learning_rate: 1.0000e-04\n",
            "Epoch 242/5000\n",
            "\u001b[1m5/5\u001b[0m \u001b[32m━━━━━━━━━━━━━━━━━━━━\u001b[0m\u001b[37m\u001b[0m \u001b[1m0s\u001b[0m 72ms/step - loss: 38.1913 - val_loss: 4.1976 - learning_rate: 1.0000e-04\n",
            "Epoch 243/5000\n",
            "\u001b[1m5/5\u001b[0m \u001b[32m━━━━━━━━━━━━━━━━━━━━\u001b[0m\u001b[37m\u001b[0m \u001b[1m1s\u001b[0m 76ms/step - loss: 38.0487 - val_loss: 4.2109 - learning_rate: 1.0000e-04\n",
            "Epoch 244/5000\n",
            "\u001b[1m5/5\u001b[0m \u001b[32m━━━━━━━━━━━━━━━━━━━━\u001b[0m\u001b[37m\u001b[0m \u001b[1m0s\u001b[0m 72ms/step - loss: 37.9355 - val_loss: 4.1716 - learning_rate: 1.0000e-04\n",
            "Epoch 245/5000\n",
            "\u001b[1m5/5\u001b[0m \u001b[32m━━━━━━━━━━━━━━━━━━━━\u001b[0m\u001b[37m\u001b[0m \u001b[1m0s\u001b[0m 66ms/step - loss: 37.8205 - val_loss: 4.1713 - learning_rate: 1.0000e-04\n",
            "Epoch 246/5000\n",
            "\u001b[1m5/5\u001b[0m \u001b[32m━━━━━━━━━━━━━━━━━━━━\u001b[0m\u001b[37m\u001b[0m \u001b[1m0s\u001b[0m 74ms/step - loss: 37.7084 - val_loss: 4.1715 - learning_rate: 1.0000e-04\n",
            "Epoch 247/5000\n",
            "\u001b[1m5/5\u001b[0m \u001b[32m━━━━━━━━━━━━━━━━━━━━\u001b[0m\u001b[37m\u001b[0m \u001b[1m0s\u001b[0m 72ms/step - loss: 37.6032 - val_loss: 4.1552 - learning_rate: 1.0000e-04\n",
            "Epoch 248/5000\n",
            "\u001b[1m5/5\u001b[0m \u001b[32m━━━━━━━━━━━━━━━━━━━━\u001b[0m\u001b[37m\u001b[0m \u001b[1m0s\u001b[0m 68ms/step - loss: 37.4948 - val_loss: 4.1473 - learning_rate: 1.0000e-04\n",
            "Epoch 249/5000\n",
            "\u001b[1m5/5\u001b[0m \u001b[32m━━━━━━━━━━━━━━━━━━━━\u001b[0m\u001b[37m\u001b[0m \u001b[1m0s\u001b[0m 58ms/step - loss: 37.4072 - val_loss: 4.1350 - learning_rate: 1.0000e-04\n",
            "Epoch 250/5000\n",
            "\u001b[1m5/5\u001b[0m \u001b[32m━━━━━━━━━━━━━━━━━━━━\u001b[0m\u001b[37m\u001b[0m \u001b[1m0s\u001b[0m 65ms/step - loss: 37.3213 - val_loss: 4.1344 - learning_rate: 1.0000e-04\n",
            "Epoch 251/5000\n",
            "\u001b[1m5/5\u001b[0m \u001b[32m━━━━━━━━━━━━━━━━━━━━\u001b[0m\u001b[37m\u001b[0m \u001b[1m1s\u001b[0m 65ms/step - loss: 37.2256 - val_loss: 4.1228 - learning_rate: 1.0000e-04\n",
            "Epoch 252/5000\n",
            "\u001b[1m5/5\u001b[0m \u001b[32m━━━━━━━━━━━━━━━━━━━━\u001b[0m\u001b[37m\u001b[0m \u001b[1m1s\u001b[0m 54ms/step - loss: 37.1468 - val_loss: 4.1071 - learning_rate: 1.0000e-04\n",
            "Epoch 253/5000\n",
            "\u001b[1m5/5\u001b[0m \u001b[32m━━━━━━━━━━━━━━━━━━━━\u001b[0m\u001b[37m\u001b[0m \u001b[1m0s\u001b[0m 56ms/step - loss: 37.0514 - val_loss: 4.1122 - learning_rate: 1.0000e-04\n",
            "Epoch 254/5000\n",
            "\u001b[1m5/5\u001b[0m \u001b[32m━━━━━━━━━━━━━━━━━━━━\u001b[0m\u001b[37m\u001b[0m \u001b[1m0s\u001b[0m 54ms/step - loss: 36.9559 - val_loss: 4.0896 - learning_rate: 1.0000e-04\n",
            "Epoch 255/5000\n",
            "\u001b[1m5/5\u001b[0m \u001b[32m━━━━━━━━━━━━━━━━━━━━\u001b[0m\u001b[37m\u001b[0m \u001b[1m0s\u001b[0m 54ms/step - loss: 36.8468 - val_loss: 4.0986 - learning_rate: 1.0000e-04\n",
            "Epoch 256/5000\n",
            "\u001b[1m5/5\u001b[0m \u001b[32m━━━━━━━━━━━━━━━━━━━━\u001b[0m\u001b[37m\u001b[0m \u001b[1m0s\u001b[0m 66ms/step - loss: 36.7376 - val_loss: 4.0815 - learning_rate: 1.0000e-04\n",
            "Epoch 257/5000\n",
            "\u001b[1m5/5\u001b[0m \u001b[32m━━━━━━━━━━━━━━━━━━━━\u001b[0m\u001b[37m\u001b[0m \u001b[1m0s\u001b[0m 56ms/step - loss: 36.6113 - val_loss: 4.0686 - learning_rate: 1.0000e-04\n",
            "Epoch 258/5000\n",
            "\u001b[1m5/5\u001b[0m \u001b[32m━━━━━━━━━━━━━━━━━━━━\u001b[0m\u001b[37m\u001b[0m \u001b[1m0s\u001b[0m 66ms/step - loss: 36.4983 - val_loss: 4.0706 - learning_rate: 1.0000e-04\n",
            "Epoch 259/5000\n",
            "\u001b[1m5/5\u001b[0m \u001b[32m━━━━━━━━━━━━━━━━━━━━\u001b[0m\u001b[37m\u001b[0m \u001b[1m0s\u001b[0m 99ms/step - loss: 36.3815 - val_loss: 4.0602 - learning_rate: 1.0000e-04\n",
            "Epoch 260/5000\n",
            "\u001b[1m5/5\u001b[0m \u001b[32m━━━━━━━━━━━━━━━━━━━━\u001b[0m\u001b[37m\u001b[0m \u001b[1m0s\u001b[0m 56ms/step - loss: 36.2698 - val_loss: 4.0617 - learning_rate: 1.0000e-04\n",
            "Epoch 261/5000\n",
            "\u001b[1m5/5\u001b[0m \u001b[32m━━━━━━━━━━━━━━━━━━━━\u001b[0m\u001b[37m\u001b[0m \u001b[1m0s\u001b[0m 93ms/step - loss: 36.1709 - val_loss: 4.0562 - learning_rate: 1.0000e-04\n",
            "Epoch 262/5000\n",
            "\u001b[1m5/5\u001b[0m \u001b[32m━━━━━━━━━━━━━━━━━━━━\u001b[0m\u001b[37m\u001b[0m \u001b[1m0s\u001b[0m 91ms/step - loss: 36.0752 - val_loss: 4.0501 - learning_rate: 1.0000e-04\n",
            "Epoch 263/5000\n",
            "\u001b[1m5/5\u001b[0m \u001b[32m━━━━━━━━━━━━━━━━━━━━\u001b[0m\u001b[37m\u001b[0m \u001b[1m1s\u001b[0m 101ms/step - loss: 35.9926 - val_loss: 4.0483 - learning_rate: 1.0000e-04\n",
            "Epoch 264/5000\n",
            "\u001b[1m5/5\u001b[0m \u001b[32m━━━━━━━━━━━━━━━━━━━━\u001b[0m\u001b[37m\u001b[0m \u001b[1m1s\u001b[0m 90ms/step - loss: 35.9204 - val_loss: 4.0394 - learning_rate: 1.0000e-04\n",
            "Epoch 265/5000\n",
            "\u001b[1m5/5\u001b[0m \u001b[32m━━━━━━━━━━━━━━━━━━━━\u001b[0m\u001b[37m\u001b[0m \u001b[1m0s\u001b[0m 57ms/step - loss: 35.8580 - val_loss: 4.0407 - learning_rate: 1.0000e-04\n",
            "Epoch 266/5000\n",
            "\u001b[1m5/5\u001b[0m \u001b[32m━━━━━━━━━━━━━━━━━━━━\u001b[0m\u001b[37m\u001b[0m \u001b[1m0s\u001b[0m 91ms/step - loss: 35.7946 - val_loss: 4.0375 - learning_rate: 1.0000e-04\n",
            "Epoch 267/5000\n",
            "\u001b[1m5/5\u001b[0m \u001b[32m━━━━━━━━━━━━━━━━━━━━\u001b[0m\u001b[37m\u001b[0m \u001b[1m0s\u001b[0m 56ms/step - loss: 35.7404 - val_loss: 4.0392 - learning_rate: 1.0000e-04\n",
            "Epoch 268/5000\n",
            "\u001b[1m5/5\u001b[0m \u001b[32m━━━━━━━━━━━━━━━━━━━━\u001b[0m\u001b[37m\u001b[0m \u001b[1m0s\u001b[0m 93ms/step - loss: 35.6930 - val_loss: 4.0344 - learning_rate: 1.0000e-04\n",
            "Epoch 269/5000\n",
            "\u001b[1m5/5\u001b[0m \u001b[32m━━━━━━━━━━━━━━━━━━━━\u001b[0m\u001b[37m\u001b[0m \u001b[1m0s\u001b[0m 91ms/step - loss: 35.6464 - val_loss: 4.0286 - learning_rate: 1.0000e-04\n",
            "Epoch 270/5000\n",
            "\u001b[1m5/5\u001b[0m \u001b[32m━━━━━━━━━━━━━━━━━━━━\u001b[0m\u001b[37m\u001b[0m \u001b[1m0s\u001b[0m 56ms/step - loss: 35.6122 - val_loss: 4.0340 - learning_rate: 1.0000e-04\n",
            "Epoch 271/5000\n",
            "\u001b[1m5/5\u001b[0m \u001b[32m━━━━━━━━━━━━━━━━━━━━\u001b[0m\u001b[37m\u001b[0m \u001b[1m0s\u001b[0m 92ms/step - loss: 35.5619 - val_loss: 4.0255 - learning_rate: 1.0000e-04\n",
            "Epoch 272/5000\n",
            "\u001b[1m5/5\u001b[0m \u001b[32m━━━━━━━━━━━━━━━━━━━━\u001b[0m\u001b[37m\u001b[0m \u001b[1m1s\u001b[0m 109ms/step - loss: 35.5285 - val_loss: 4.0213 - learning_rate: 1.0000e-04\n",
            "Epoch 273/5000\n",
            "\u001b[1m5/5\u001b[0m \u001b[32m━━━━━━━━━━━━━━━━━━━━\u001b[0m\u001b[37m\u001b[0m \u001b[1m0s\u001b[0m 73ms/step - loss: 35.5319 - val_loss: 4.0288 - learning_rate: 1.0000e-04\n",
            "Epoch 274/5000\n",
            "\u001b[1m5/5\u001b[0m \u001b[32m━━━━━━━━━━━━━━━━━━━━\u001b[0m\u001b[37m\u001b[0m \u001b[1m1s\u001b[0m 74ms/step - loss: 35.4902 - val_loss: 4.0340 - learning_rate: 1.0000e-04\n",
            "Epoch 275/5000\n",
            "\u001b[1m5/5\u001b[0m \u001b[32m━━━━━━━━━━━━━━━━━━━━\u001b[0m\u001b[37m\u001b[0m \u001b[1m0s\u001b[0m 77ms/step - loss: 35.4624 - val_loss: 4.0296 - learning_rate: 1.0000e-04\n",
            "Epoch 276/5000\n",
            "\u001b[1m5/5\u001b[0m \u001b[32m━━━━━━━━━━━━━━━━━━━━\u001b[0m\u001b[37m\u001b[0m \u001b[1m1s\u001b[0m 120ms/step - loss: 35.4179 - val_loss: 4.0129 - learning_rate: 1.0000e-04\n",
            "Epoch 277/5000\n",
            "\u001b[1m5/5\u001b[0m \u001b[32m━━━━━━━━━━━━━━━━━━━━\u001b[0m\u001b[37m\u001b[0m \u001b[1m1s\u001b[0m 90ms/step - loss: 35.3935 - val_loss: 4.0102 - learning_rate: 1.0000e-04\n",
            "Epoch 278/5000\n",
            "\u001b[1m5/5\u001b[0m \u001b[32m━━━━━━━━━━━━━━━━━━━━\u001b[0m\u001b[37m\u001b[0m \u001b[1m0s\u001b[0m 55ms/step - loss: 35.3747 - val_loss: 4.0202 - learning_rate: 1.0000e-04\n",
            "Epoch 279/5000\n",
            "\u001b[1m5/5\u001b[0m \u001b[32m━━━━━━━━━━━━━━━━━━━━\u001b[0m\u001b[37m\u001b[0m \u001b[1m0s\u001b[0m 57ms/step - loss: 35.3541 - val_loss: 4.0295 - learning_rate: 1.0000e-04\n",
            "Epoch 280/5000\n",
            "\u001b[1m5/5\u001b[0m \u001b[32m━━━━━━━━━━━━━━━━━━━━\u001b[0m\u001b[37m\u001b[0m \u001b[1m0s\u001b[0m 65ms/step - loss: 35.3249 - val_loss: 4.0375 - learning_rate: 1.0000e-04\n",
            "Epoch 281/5000\n",
            "\u001b[1m5/5\u001b[0m \u001b[32m━━━━━━━━━━━━━━━━━━━━\u001b[0m\u001b[37m\u001b[0m \u001b[1m0s\u001b[0m 55ms/step - loss: 35.2889 - val_loss: 4.0171 - learning_rate: 1.0000e-04\n",
            "Epoch 282/5000\n",
            "\u001b[1m5/5\u001b[0m \u001b[32m━━━━━━━━━━━━━━━━━━━━\u001b[0m\u001b[37m\u001b[0m \u001b[1m0s\u001b[0m 92ms/step - loss: 35.2403 - val_loss: 4.0102 - learning_rate: 1.0000e-04\n",
            "Epoch 283/5000\n",
            "\u001b[1m5/5\u001b[0m \u001b[32m━━━━━━━━━━━━━━━━━━━━\u001b[0m\u001b[37m\u001b[0m \u001b[1m0s\u001b[0m 56ms/step - loss: 35.2197 - val_loss: 4.0162 - learning_rate: 1.0000e-04\n",
            "Epoch 284/5000\n",
            "\u001b[1m5/5\u001b[0m \u001b[32m━━━━━━━━━━━━━━━━━━━━\u001b[0m\u001b[37m\u001b[0m \u001b[1m0s\u001b[0m 65ms/step - loss: 35.2002 - val_loss: 4.0146 - learning_rate: 1.0000e-04\n",
            "Epoch 285/5000\n",
            "\u001b[1m5/5\u001b[0m \u001b[32m━━━━━━━━━━━━━━━━━━━━\u001b[0m\u001b[37m\u001b[0m \u001b[1m1s\u001b[0m 57ms/step - loss: 35.1707 - val_loss: 4.0121 - learning_rate: 1.0000e-04\n",
            "Epoch 286/5000\n",
            "\u001b[1m5/5\u001b[0m \u001b[32m━━━━━━━━━━━━━━━━━━━━\u001b[0m\u001b[37m\u001b[0m \u001b[1m0s\u001b[0m 65ms/step - loss: 35.1452 - val_loss: 4.0118 - learning_rate: 1.0000e-04\n",
            "Epoch 287/5000\n",
            "\u001b[1m5/5\u001b[0m \u001b[32m━━━━━━━━━━━━━━━━━━━━\u001b[0m\u001b[37m\u001b[0m \u001b[1m1s\u001b[0m 56ms/step - loss: 35.1280 - val_loss: 4.0167 - learning_rate: 1.0000e-04\n",
            "Epoch 288/5000\n",
            "\u001b[1m5/5\u001b[0m \u001b[32m━━━━━━━━━━━━━━━━━━━━\u001b[0m\u001b[37m\u001b[0m \u001b[1m0s\u001b[0m 57ms/step - loss: 35.1058 - val_loss: 4.0153 - learning_rate: 1.0000e-04\n",
            "Epoch 289/5000\n",
            "\u001b[1m5/5\u001b[0m \u001b[32m━━━━━━━━━━━━━━━━━━━━\u001b[0m\u001b[37m\u001b[0m \u001b[1m0s\u001b[0m 101ms/step - loss: 35.0780 - val_loss: 4.0091 - learning_rate: 1.0000e-04\n",
            "Epoch 290/5000\n",
            "\u001b[1m5/5\u001b[0m \u001b[32m━━━━━━━━━━━━━━━━━━━━\u001b[0m\u001b[37m\u001b[0m \u001b[1m0s\u001b[0m 93ms/step - loss: 35.0466 - val_loss: 4.0081 - learning_rate: 1.0000e-04\n",
            "Epoch 291/5000\n",
            "\u001b[1m5/5\u001b[0m \u001b[32m━━━━━━━━━━━━━━━━━━━━\u001b[0m\u001b[37m\u001b[0m \u001b[1m0s\u001b[0m 55ms/step - loss: 35.0312 - val_loss: 4.0126 - learning_rate: 1.0000e-04\n",
            "Epoch 292/5000\n",
            "\u001b[1m5/5\u001b[0m \u001b[32m━━━━━━━━━━━━━━━━━━━━\u001b[0m\u001b[37m\u001b[0m \u001b[1m0s\u001b[0m 56ms/step - loss: 35.0228 - val_loss: 4.0210 - learning_rate: 1.0000e-04\n",
            "Epoch 293/5000\n",
            "\u001b[1m5/5\u001b[0m \u001b[32m━━━━━━━━━━━━━━━━━━━━\u001b[0m\u001b[37m\u001b[0m \u001b[1m0s\u001b[0m 55ms/step - loss: 34.9965 - val_loss: 4.0127 - learning_rate: 1.0000e-04\n",
            "Epoch 294/5000\n",
            "\u001b[1m5/5\u001b[0m \u001b[32m━━━━━━━━━━━━━━━━━━━━\u001b[0m\u001b[37m\u001b[0m \u001b[1m0s\u001b[0m 92ms/step - loss: 34.9678 - val_loss: 4.0067 - learning_rate: 1.0000e-04\n",
            "Epoch 295/5000\n",
            "\u001b[1m5/5\u001b[0m \u001b[32m━━━━━━━━━━━━━━━━━━━━\u001b[0m\u001b[37m\u001b[0m \u001b[1m0s\u001b[0m 57ms/step - loss: 34.9450 - val_loss: 4.0102 - learning_rate: 1.0000e-04\n",
            "Epoch 296/5000\n",
            "\u001b[1m5/5\u001b[0m \u001b[32m━━━━━━━━━━━━━━━━━━━━\u001b[0m\u001b[37m\u001b[0m \u001b[1m0s\u001b[0m 56ms/step - loss: 34.9397 - val_loss: 4.0147 - learning_rate: 1.0000e-04\n",
            "Epoch 297/5000\n",
            "\u001b[1m5/5\u001b[0m \u001b[32m━━━━━━━━━━━━━━━━━━━━\u001b[0m\u001b[37m\u001b[0m \u001b[1m0s\u001b[0m 55ms/step - loss: 34.9168 - val_loss: 4.0139 - learning_rate: 1.0000e-04\n",
            "Epoch 298/5000\n",
            "\u001b[1m5/5\u001b[0m \u001b[32m━━━━━━━━━━━━━━━━━━━━\u001b[0m\u001b[37m\u001b[0m \u001b[1m0s\u001b[0m 91ms/step - loss: 34.8914 - val_loss: 4.0065 - learning_rate: 1.0000e-04\n",
            "Epoch 299/5000\n",
            "\u001b[1m5/5\u001b[0m \u001b[32m━━━━━━━━━━━━━━━━━━━━\u001b[0m\u001b[37m\u001b[0m \u001b[1m0s\u001b[0m 58ms/step - loss: 34.8684 - val_loss: 4.0066 - learning_rate: 1.0000e-04\n",
            "Epoch 300/5000\n",
            "\u001b[1m5/5\u001b[0m \u001b[32m━━━━━━━━━━━━━━━━━━━━\u001b[0m\u001b[37m\u001b[0m \u001b[1m0s\u001b[0m 65ms/step - loss: 34.8554 - val_loss: 4.0080 - learning_rate: 1.0000e-04\n",
            "Epoch 301/5000\n",
            "\u001b[1m5/5\u001b[0m \u001b[32m━━━━━━━━━━━━━━━━━━━━\u001b[0m\u001b[37m\u001b[0m \u001b[1m1s\u001b[0m 59ms/step - loss: 34.8413 - val_loss: 4.0130 - learning_rate: 1.0000e-04\n",
            "Epoch 302/5000\n",
            "\u001b[1m5/5\u001b[0m \u001b[32m━━━━━━━━━━━━━━━━━━━━\u001b[0m\u001b[37m\u001b[0m \u001b[1m0s\u001b[0m 56ms/step - loss: 34.8319 - val_loss: 4.0235 - learning_rate: 1.0000e-04\n",
            "Epoch 303/5000\n",
            "\u001b[1m5/5\u001b[0m \u001b[32m━━━━━━━━━━━━━━━━━━━━\u001b[0m\u001b[37m\u001b[0m \u001b[1m1s\u001b[0m 112ms/step - loss: 34.8107 - val_loss: 4.0055 - learning_rate: 1.0000e-04\n",
            "Epoch 304/5000\n",
            "\u001b[1m5/5\u001b[0m \u001b[32m━━━━━━━━━━━━━━━━━━━━\u001b[0m\u001b[37m\u001b[0m \u001b[1m1s\u001b[0m 104ms/step - loss: 34.7746 - val_loss: 4.0001 - learning_rate: 1.0000e-04\n",
            "Epoch 305/5000\n",
            "\u001b[1m5/5\u001b[0m \u001b[32m━━━━━━━━━━━━━━━━━━━━\u001b[0m\u001b[37m\u001b[0m \u001b[1m0s\u001b[0m 68ms/step - loss: 34.7651 - val_loss: 4.0054 - learning_rate: 1.0000e-04\n",
            "Epoch 306/5000\n",
            "\u001b[1m5/5\u001b[0m \u001b[32m━━━━━━━━━━━━━━━━━━━━\u001b[0m\u001b[37m\u001b[0m \u001b[1m1s\u001b[0m 66ms/step - loss: 34.7675 - val_loss: 4.0169 - learning_rate: 1.0000e-04\n",
            "Epoch 307/5000\n",
            "\u001b[1m5/5\u001b[0m \u001b[32m━━━━━━━━━━━━━━━━━━━━\u001b[0m\u001b[37m\u001b[0m \u001b[1m1s\u001b[0m 65ms/step - loss: 34.7531 - val_loss: 4.0137 - learning_rate: 1.0000e-04\n",
            "Epoch 308/5000\n",
            "\u001b[1m5/5\u001b[0m \u001b[32m━━━━━━━━━━━━━━━━━━━━\u001b[0m\u001b[37m\u001b[0m \u001b[1m0s\u001b[0m 64ms/step - loss: 34.7215 - val_loss: 4.0006 - learning_rate: 1.0000e-04\n",
            "Epoch 309/5000\n",
            "\u001b[1m5/5\u001b[0m \u001b[32m━━━━━━━━━━━━━━━━━━━━\u001b[0m\u001b[37m\u001b[0m \u001b[1m0s\u001b[0m 89ms/step - loss: 34.6981 - val_loss: 3.9960 - learning_rate: 1.0000e-04\n",
            "Epoch 310/5000\n",
            "\u001b[1m5/5\u001b[0m \u001b[32m━━━━━━━━━━━━━━━━━━━━\u001b[0m\u001b[37m\u001b[0m \u001b[1m1s\u001b[0m 60ms/step - loss: 34.6932 - val_loss: 4.0072 - learning_rate: 1.0000e-04\n",
            "Epoch 311/5000\n",
            "\u001b[1m5/5\u001b[0m \u001b[32m━━━━━━━━━━━━━━━━━━━━\u001b[0m\u001b[37m\u001b[0m \u001b[1m0s\u001b[0m 54ms/step - loss: 34.6939 - val_loss: 4.0258 - learning_rate: 1.0000e-04\n",
            "Epoch 312/5000\n",
            "\u001b[1m5/5\u001b[0m \u001b[32m━━━━━━━━━━━━━━━━━━━━\u001b[0m\u001b[37m\u001b[0m \u001b[1m0s\u001b[0m 55ms/step - loss: 34.6885 - val_loss: 4.0124 - learning_rate: 1.0000e-04\n",
            "Epoch 313/5000\n",
            "\u001b[1m5/5\u001b[0m \u001b[32m━━━━━━━━━━━━━━━━━━━━\u001b[0m\u001b[37m\u001b[0m \u001b[1m0s\u001b[0m 68ms/step - loss: 34.6443 - val_loss: 3.9971 - learning_rate: 1.0000e-04\n",
            "Epoch 314/5000\n",
            "\u001b[1m5/5\u001b[0m \u001b[32m━━━━━━━━━━━━━━━━━━━━\u001b[0m\u001b[37m\u001b[0m \u001b[1m0s\u001b[0m 55ms/step - loss: 34.6359 - val_loss: 4.0004 - learning_rate: 1.0000e-04\n",
            "Epoch 315/5000\n",
            "\u001b[1m5/5\u001b[0m \u001b[32m━━━━━━━━━━━━━━━━━━━━\u001b[0m\u001b[37m\u001b[0m \u001b[1m0s\u001b[0m 56ms/step - loss: 34.6246 - val_loss: 4.0111 - learning_rate: 1.0000e-04\n",
            "Epoch 316/5000\n",
            "\u001b[1m5/5\u001b[0m \u001b[32m━━━━━━━━━━━━━━━━━━━━\u001b[0m\u001b[37m\u001b[0m \u001b[1m0s\u001b[0m 59ms/step - loss: 34.6189 - val_loss: 4.0120 - learning_rate: 1.0000e-04\n",
            "Epoch 317/5000\n",
            "\u001b[1m5/5\u001b[0m \u001b[32m━━━━━━━━━━━━━━━━━━━━\u001b[0m\u001b[37m\u001b[0m \u001b[1m0s\u001b[0m 56ms/step - loss: 34.5964 - val_loss: 4.0050 - learning_rate: 1.0000e-04\n",
            "Epoch 318/5000\n",
            "\u001b[1m5/5\u001b[0m \u001b[32m━━━━━━━━━━━━━━━━━━━━\u001b[0m\u001b[37m\u001b[0m \u001b[1m0s\u001b[0m 55ms/step - loss: 34.5771 - val_loss: 4.0060 - learning_rate: 1.0000e-04\n",
            "Epoch 319/5000\n",
            "\u001b[1m5/5\u001b[0m \u001b[32m━━━━━━━━━━━━━━━━━━━━\u001b[0m\u001b[37m\u001b[0m \u001b[1m0s\u001b[0m 55ms/step - loss: 34.5766 - val_loss: 4.0139 - learning_rate: 1.0000e-04\n",
            "Epoch 320/5000\n",
            "\u001b[1m5/5\u001b[0m \u001b[32m━━━━━━━━━━━━━━━━━━━━\u001b[0m\u001b[37m\u001b[0m \u001b[1m0s\u001b[0m 58ms/step - loss: 34.5676 - val_loss: 4.0162 - learning_rate: 1.0000e-04\n",
            "Epoch 321/5000\n",
            "\u001b[1m5/5\u001b[0m \u001b[32m━━━━━━━━━━━━━━━━━━━━\u001b[0m\u001b[37m\u001b[0m \u001b[1m0s\u001b[0m 57ms/step - loss: 34.5504 - val_loss: 4.0058 - learning_rate: 1.0000e-04\n",
            "Epoch 322/5000\n",
            "\u001b[1m5/5\u001b[0m \u001b[32m━━━━━━━━━━━━━━━━━━━━\u001b[0m\u001b[37m\u001b[0m \u001b[1m0s\u001b[0m 64ms/step - loss: 34.5249 - val_loss: 4.0034 - learning_rate: 1.0000e-04\n",
            "Epoch 323/5000\n",
            "\u001b[1m5/5\u001b[0m \u001b[32m━━━━━━━━━━━━━━━━━━━━\u001b[0m\u001b[37m\u001b[0m \u001b[1m0s\u001b[0m 58ms/step - loss: 34.5223 - val_loss: 4.0104 - learning_rate: 1.0000e-04\n",
            "Epoch 324/5000\n",
            "\u001b[1m5/5\u001b[0m \u001b[32m━━━━━━━━━━━━━━━━━━━━\u001b[0m\u001b[37m\u001b[0m \u001b[1m0s\u001b[0m 56ms/step - loss: 34.5149 - val_loss: 4.0156 - learning_rate: 1.0000e-04\n",
            "Epoch 325/5000\n",
            "\u001b[1m5/5\u001b[0m \u001b[32m━━━━━━━━━━━━━━━━━━━━\u001b[0m\u001b[37m\u001b[0m \u001b[1m0s\u001b[0m 64ms/step - loss: 34.5019 - val_loss: 4.0131 - learning_rate: 1.0000e-04\n",
            "Epoch 326/5000\n",
            "\u001b[1m5/5\u001b[0m \u001b[32m━━━━━━━━━━━━━━━━━━━━\u001b[0m\u001b[37m\u001b[0m \u001b[1m1s\u001b[0m 56ms/step - loss: 34.4854 - val_loss: 4.0130 - learning_rate: 1.0000e-04\n",
            "Epoch 327/5000\n",
            "\u001b[1m5/5\u001b[0m \u001b[32m━━━━━━━━━━━━━━━━━━━━\u001b[0m\u001b[37m\u001b[0m \u001b[1m0s\u001b[0m 65ms/step - loss: 34.4771 - val_loss: 4.0181 - learning_rate: 1.0000e-04\n",
            "Epoch 328/5000\n",
            "\u001b[1m5/5\u001b[0m \u001b[32m━━━━━━━━━━━━━━━━━━━━\u001b[0m\u001b[37m\u001b[0m \u001b[1m0s\u001b[0m 64ms/step - loss: 34.4700 - val_loss: 4.0172 - learning_rate: 1.0000e-04\n",
            "Epoch 329/5000\n",
            "\u001b[1m5/5\u001b[0m \u001b[32m━━━━━━━━━━━━━━━━━━━━\u001b[0m\u001b[37m\u001b[0m \u001b[1m0s\u001b[0m 57ms/step - loss: 34.4473 - val_loss: 4.0134 - learning_rate: 1.0000e-04\n",
            "Epoch 330/5000\n",
            "\u001b[1m5/5\u001b[0m \u001b[32m━━━━━━━━━━━━━━━━━━━━\u001b[0m\u001b[37m\u001b[0m \u001b[1m0s\u001b[0m 55ms/step - loss: 34.4348 - val_loss: 4.0117 - learning_rate: 1.0000e-04\n",
            "Epoch 331/5000\n",
            "\u001b[1m5/5\u001b[0m \u001b[32m━━━━━━━━━━━━━━━━━━━━\u001b[0m\u001b[37m\u001b[0m \u001b[1m0s\u001b[0m 55ms/step - loss: 34.4236 - val_loss: 4.0125 - learning_rate: 1.0000e-04\n",
            "Epoch 332/5000\n",
            "\u001b[1m5/5\u001b[0m \u001b[32m━━━━━━━━━━━━━━━━━━━━\u001b[0m\u001b[37m\u001b[0m \u001b[1m0s\u001b[0m 67ms/step - loss: 34.4108 - val_loss: 4.0102 - learning_rate: 1.0000e-04\n",
            "Epoch 333/5000\n",
            "\u001b[1m5/5\u001b[0m \u001b[32m━━━━━━━━━━━━━━━━━━━━\u001b[0m\u001b[37m\u001b[0m \u001b[1m1s\u001b[0m 56ms/step - loss: 34.3974 - val_loss: 4.0106 - learning_rate: 1.0000e-04\n",
            "Epoch 334/5000\n",
            "\u001b[1m5/5\u001b[0m \u001b[32m━━━━━━━━━━━━━━━━━━━━\u001b[0m\u001b[37m\u001b[0m \u001b[1m0s\u001b[0m 56ms/step - loss: 34.3898 - val_loss: 4.0138 - learning_rate: 1.0000e-04\n",
            "Epoch 335/5000\n",
            "\u001b[1m5/5\u001b[0m \u001b[32m━━━━━━━━━━━━━━━━━━━━\u001b[0m\u001b[37m\u001b[0m \u001b[1m0s\u001b[0m 64ms/step - loss: 34.3895 - val_loss: 4.0222 - learning_rate: 1.0000e-04\n",
            "Epoch 336/5000\n",
            "\u001b[1m5/5\u001b[0m \u001b[32m━━━━━━━━━━━━━━━━━━━━\u001b[0m\u001b[37m\u001b[0m \u001b[1m1s\u001b[0m 62ms/step - loss: 34.3832 - val_loss: 4.0244 - learning_rate: 1.0000e-04\n",
            "Epoch 337/5000\n",
            "\u001b[1m5/5\u001b[0m \u001b[32m━━━━━━━━━━━━━━━━━━━━\u001b[0m\u001b[37m\u001b[0m \u001b[1m0s\u001b[0m 74ms/step - loss: 34.3673 - val_loss: 4.0185 - learning_rate: 1.0000e-04\n",
            "Epoch 338/5000\n",
            "\u001b[1m5/5\u001b[0m \u001b[32m━━━━━━━━━━━━━━━━━━━━\u001b[0m\u001b[37m\u001b[0m \u001b[1m1s\u001b[0m 71ms/step - loss: 34.3471 - val_loss: 4.0201 - learning_rate: 1.0000e-04\n",
            "Epoch 339/5000\n",
            "\u001b[1m5/5\u001b[0m \u001b[32m━━━━━━━━━━━━━━━━━━━━\u001b[0m\u001b[37m\u001b[0m \u001b[1m0s\u001b[0m 64ms/step - loss: 34.3408 - val_loss: 4.0280 - learning_rate: 1.0000e-04\n",
            "Epoch 340/5000\n",
            "\u001b[1m5/5\u001b[0m \u001b[32m━━━━━━━━━━━━━━━━━━━━\u001b[0m\u001b[37m\u001b[0m \u001b[1m1s\u001b[0m 75ms/step - loss: 34.3414 - val_loss: 4.0289 - learning_rate: 1.0000e-04\n",
            "Epoch 341/5000\n",
            "\u001b[1m5/5\u001b[0m \u001b[32m━━━━━━━━━━━━━━━━━━━━\u001b[0m\u001b[37m\u001b[0m \u001b[1m0s\u001b[0m 75ms/step - loss: 34.3239 - val_loss: 4.0193 - learning_rate: 1.0000e-04\n",
            "Epoch 342/5000\n",
            "\u001b[1m5/5\u001b[0m \u001b[32m━━━━━━━━━━━━━━━━━━━━\u001b[0m\u001b[37m\u001b[0m \u001b[1m0s\u001b[0m 56ms/step - loss: 34.3021 - val_loss: 4.0150 - learning_rate: 1.0000e-04\n",
            "Epoch 343/5000\n",
            "\u001b[1m5/5\u001b[0m \u001b[32m━━━━━━━━━━━━━━━━━━━━\u001b[0m\u001b[37m\u001b[0m \u001b[1m0s\u001b[0m 57ms/step - loss: 34.2922 - val_loss: 4.0146 - learning_rate: 1.0000e-04\n",
            "Epoch 344/5000\n",
            "\u001b[1m5/5\u001b[0m \u001b[32m━━━━━━━━━━━━━━━━━━━━\u001b[0m\u001b[37m\u001b[0m \u001b[1m0s\u001b[0m 67ms/step - loss: 34.2881 - val_loss: 4.0195 - learning_rate: 1.0000e-04\n",
            "Epoch 345/5000\n",
            "\u001b[1m5/5\u001b[0m \u001b[32m━━━━━━━━━━━━━━━━━━━━\u001b[0m\u001b[37m\u001b[0m \u001b[1m0s\u001b[0m 55ms/step - loss: 34.2839 - val_loss: 4.0231 - learning_rate: 1.0000e-04\n",
            "Epoch 346/5000\n",
            "\u001b[1m5/5\u001b[0m \u001b[32m━━━━━━━━━━━━━━━━━━━━\u001b[0m\u001b[37m\u001b[0m \u001b[1m0s\u001b[0m 66ms/step - loss: 34.2777 - val_loss: 4.0273 - learning_rate: 1.0000e-04\n",
            "Epoch 347/5000\n",
            "\u001b[1m5/5\u001b[0m \u001b[32m━━━━━━━━━━━━━━━━━━━━\u001b[0m\u001b[37m\u001b[0m \u001b[1m0s\u001b[0m 65ms/step - loss: 34.2652 - val_loss: 4.0206 - learning_rate: 1.0000e-04\n",
            "Epoch 348/5000\n",
            "\u001b[1m5/5\u001b[0m \u001b[32m━━━━━━━━━━━━━━━━━━━━\u001b[0m\u001b[37m\u001b[0m \u001b[1m0s\u001b[0m 56ms/step - loss: 34.2439 - val_loss: 4.0176 - learning_rate: 1.0000e-04\n",
            "Epoch 349/5000\n",
            "\u001b[1m5/5\u001b[0m \u001b[32m━━━━━━━━━━━━━━━━━━━━\u001b[0m\u001b[37m\u001b[0m \u001b[1m0s\u001b[0m 56ms/step - loss: 34.2442 - val_loss: 4.0216 - learning_rate: 1.0000e-04\n",
            "Epoch 350/5000\n",
            "\u001b[1m5/5\u001b[0m \u001b[32m━━━━━━━━━━━━━━━━━━━━\u001b[0m\u001b[37m\u001b[0m \u001b[1m0s\u001b[0m 59ms/step - loss: 34.2455 - val_loss: 4.0233 - learning_rate: 1.0000e-04\n",
            "Epoch 351/5000\n",
            "\u001b[1m5/5\u001b[0m \u001b[32m━━━━━━━━━━━━━━━━━━━━\u001b[0m\u001b[37m\u001b[0m \u001b[1m0s\u001b[0m 56ms/step - loss: 34.2347 - val_loss: 4.0314 - learning_rate: 1.0000e-04\n",
            "Epoch 352/5000\n",
            "\u001b[1m5/5\u001b[0m \u001b[32m━━━━━━━━━━━━━━━━━━━━\u001b[0m\u001b[37m\u001b[0m \u001b[1m0s\u001b[0m 56ms/step - loss: 34.2347 - val_loss: 4.0328 - learning_rate: 1.0000e-04\n",
            "Epoch 353/5000\n",
            "\u001b[1m5/5\u001b[0m \u001b[32m━━━━━━━━━━━━━━━━━━━━\u001b[0m\u001b[37m\u001b[0m \u001b[1m0s\u001b[0m 57ms/step - loss: 34.2170 - val_loss: 4.0190 - learning_rate: 1.0000e-04\n",
            "Epoch 354/5000\n",
            "\u001b[1m5/5\u001b[0m \u001b[32m━━━━━━━━━━━━━━━━━━━━\u001b[0m\u001b[37m\u001b[0m \u001b[1m0s\u001b[0m 58ms/step - loss: 34.1914 - val_loss: 4.0149 - learning_rate: 1.0000e-04\n",
            "Epoch 355/5000\n",
            "\u001b[1m5/5\u001b[0m \u001b[32m━━━━━━━━━━━━━━━━━━━━\u001b[0m\u001b[37m\u001b[0m \u001b[1m0s\u001b[0m 65ms/step - loss: 34.1962 - val_loss: 4.0225 - learning_rate: 1.0000e-04\n",
            "Epoch 356/5000\n",
            "\u001b[1m5/5\u001b[0m \u001b[32m━━━━━━━━━━━━━━━━━━━━\u001b[0m\u001b[37m\u001b[0m \u001b[1m1s\u001b[0m 57ms/step - loss: 34.2007 - val_loss: 4.0258 - learning_rate: 1.0000e-04\n",
            "Epoch 357/5000\n",
            "\u001b[1m5/5\u001b[0m \u001b[32m━━━━━━━━━━━━━━━━━━━━\u001b[0m\u001b[37m\u001b[0m \u001b[1m0s\u001b[0m 56ms/step - loss: 34.1890 - val_loss: 4.0295 - learning_rate: 1.0000e-04\n",
            "Epoch 358/5000\n",
            "\u001b[1m5/5\u001b[0m \u001b[32m━━━━━━━━━━━━━━━━━━━━\u001b[0m\u001b[37m\u001b[0m \u001b[1m0s\u001b[0m 56ms/step - loss: 34.1757 - val_loss: 4.0260 - learning_rate: 1.0000e-04\n",
            "Epoch 359/5000\n",
            "\u001b[1m5/5\u001b[0m \u001b[32m━━━━━━━━━━━━━━━━━━━━\u001b[0m\u001b[37m\u001b[0m \u001b[1m0s\u001b[0m 68ms/step - loss: 34.1555 - val_loss: 4.0156 - learning_rate: 1.0000e-04\n",
            "Epoch 360/5000\n",
            "\u001b[1m5/5\u001b[0m \u001b[32m━━━━━━━━━━━━━━━━━━━━\u001b[0m\u001b[37m\u001b[0m \u001b[1m1s\u001b[0m 55ms/step - loss: 34.1404 - val_loss: 4.0144 - learning_rate: 1.0000e-04\n",
            "Epoch 361/5000\n",
            "\u001b[1m5/5\u001b[0m \u001b[32m━━━━━━━━━━━━━━━━━━━━\u001b[0m\u001b[37m\u001b[0m \u001b[1m0s\u001b[0m 57ms/step - loss: 34.1481 - val_loss: 4.0276 - learning_rate: 1.0000e-04\n",
            "Epoch 362/5000\n",
            "\u001b[1m5/5\u001b[0m \u001b[32m━━━━━━━━━━━━━━━━━━━━\u001b[0m\u001b[37m\u001b[0m \u001b[1m0s\u001b[0m 65ms/step - loss: 34.1510 - val_loss: 4.0269 - learning_rate: 1.0000e-04\n",
            "Epoch 363/5000\n",
            "\u001b[1m5/5\u001b[0m \u001b[32m━━━━━━━━━━━━━━━━━━━━\u001b[0m\u001b[37m\u001b[0m \u001b[1m0s\u001b[0m 65ms/step - loss: 34.1372 - val_loss: 4.0255 - learning_rate: 1.0000e-04\n",
            "Epoch 364/5000\n",
            "\u001b[1m5/5\u001b[0m \u001b[32m━━━━━━━━━━━━━━━━━━━━\u001b[0m\u001b[37m\u001b[0m \u001b[1m1s\u001b[0m 56ms/step - loss: 34.1159 - val_loss: 4.0147 - learning_rate: 1.0000e-04\n",
            "Epoch 365/5000\n",
            "\u001b[1m5/5\u001b[0m \u001b[32m━━━━━━━━━━━━━━━━━━━━\u001b[0m\u001b[37m\u001b[0m \u001b[1m0s\u001b[0m 66ms/step - loss: 34.1058 - val_loss: 4.0189 - learning_rate: 1.0000e-04\n",
            "Epoch 366/5000\n",
            "\u001b[1m5/5\u001b[0m \u001b[32m━━━━━━━━━━━━━━━━━━━━\u001b[0m\u001b[37m\u001b[0m \u001b[1m0s\u001b[0m 58ms/step - loss: 34.1200 - val_loss: 4.0316 - learning_rate: 1.0000e-04\n",
            "Epoch 367/5000\n",
            "\u001b[1m5/5\u001b[0m \u001b[32m━━━━━━━━━━━━━━━━━━━━\u001b[0m\u001b[37m\u001b[0m \u001b[1m0s\u001b[0m 56ms/step - loss: 34.1139 - val_loss: 4.0291 - learning_rate: 1.0000e-04\n",
            "Epoch 368/5000\n",
            "\u001b[1m5/5\u001b[0m \u001b[32m━━━━━━━━━━━━━━━━━━━━\u001b[0m\u001b[37m\u001b[0m \u001b[1m0s\u001b[0m 68ms/step - loss: 34.0923 - val_loss: 4.0142 - learning_rate: 1.0000e-04\n",
            "Epoch 369/5000\n",
            "\u001b[1m5/5\u001b[0m \u001b[32m━━━━━━━━━━━━━━━━━━━━\u001b[0m\u001b[37m\u001b[0m \u001b[1m1s\u001b[0m 58ms/step - loss: 34.0766 - val_loss: 4.0176 - learning_rate: 1.0000e-04\n",
            "Epoch 370/5000\n",
            "\u001b[1m5/5\u001b[0m \u001b[32m━━━━━━━━━━━━━━━━━━━━\u001b[0m\u001b[37m\u001b[0m \u001b[1m0s\u001b[0m 65ms/step - loss: 34.0770 - val_loss: 4.0274 - learning_rate: 1.0000e-04\n",
            "Epoch 371/5000\n",
            "\u001b[1m5/5\u001b[0m \u001b[32m━━━━━━━━━━━━━━━━━━━━\u001b[0m\u001b[37m\u001b[0m \u001b[1m1s\u001b[0m 73ms/step - loss: 34.0781 - val_loss: 4.0329 - learning_rate: 1.0000e-04\n",
            "Epoch 372/5000\n",
            "\u001b[1m5/5\u001b[0m \u001b[32m━━━━━━━━━━━━━━━━━━━━\u001b[0m\u001b[37m\u001b[0m \u001b[1m1s\u001b[0m 66ms/step - loss: 34.0673 - val_loss: 4.0241 - learning_rate: 1.0000e-04\n",
            "Epoch 373/5000\n",
            "\u001b[1m5/5\u001b[0m \u001b[32m━━━━━━━━━━━━━━━━━━━━\u001b[0m\u001b[37m\u001b[0m \u001b[1m0s\u001b[0m 75ms/step - loss: 34.0511 - val_loss: 4.0360 - learning_rate: 1.0000e-04\n",
            "Epoch 374/5000\n",
            "\u001b[1m5/5\u001b[0m \u001b[32m━━━━━━━━━━━━━━━━━━━━\u001b[0m\u001b[37m\u001b[0m \u001b[1m0s\u001b[0m 73ms/step - loss: 34.0597 - val_loss: 4.0341 - learning_rate: 1.0000e-04\n",
            "Epoch 375/5000\n",
            "\u001b[1m5/5\u001b[0m \u001b[32m━━━━━━━━━━━━━━━━━━━━\u001b[0m\u001b[37m\u001b[0m \u001b[1m0s\u001b[0m 75ms/step - loss: 34.0353 - val_loss: 4.0205 - learning_rate: 1.0000e-04\n",
            "Epoch 376/5000\n",
            "\u001b[1m5/5\u001b[0m \u001b[32m━━━━━━━━━━━━━━━━━━━━\u001b[0m\u001b[37m\u001b[0m \u001b[1m1s\u001b[0m 57ms/step - loss: 34.0197 - val_loss: 4.0205 - learning_rate: 1.0000e-04\n",
            "Epoch 377/5000\n",
            "\u001b[1m5/5\u001b[0m \u001b[32m━━━━━━━━━━━━━━━━━━━━\u001b[0m\u001b[37m\u001b[0m \u001b[1m0s\u001b[0m 59ms/step - loss: 34.0137 - val_loss: 4.0303 - learning_rate: 1.0000e-04\n",
            "Epoch 378/5000\n",
            "\u001b[1m5/5\u001b[0m \u001b[32m━━━━━━━━━━━━━━━━━━━━\u001b[0m\u001b[37m\u001b[0m \u001b[1m0s\u001b[0m 57ms/step - loss: 34.0264 - val_loss: 4.0435 - learning_rate: 1.0000e-04\n",
            "Epoch 379/5000\n",
            "\u001b[1m5/5\u001b[0m \u001b[32m━━━━━━━━━━━━━━━━━━━━\u001b[0m\u001b[37m\u001b[0m \u001b[1m0s\u001b[0m 57ms/step - loss: 34.0052 - val_loss: 4.0244 - learning_rate: 1.0000e-04\n",
            "Epoch 380/5000\n",
            "\u001b[1m5/5\u001b[0m \u001b[32m━━━━━━━━━━━━━━━━━━━━\u001b[0m\u001b[37m\u001b[0m \u001b[1m0s\u001b[0m 56ms/step - loss: 33.9821 - val_loss: 4.0139 - learning_rate: 1.0000e-04\n",
            "Epoch 381/5000\n",
            "\u001b[1m5/5\u001b[0m \u001b[32m━━━━━━━━━━━━━━━━━━━━\u001b[0m\u001b[37m\u001b[0m \u001b[1m0s\u001b[0m 56ms/step - loss: 33.9713 - val_loss: 4.0198 - learning_rate: 1.0000e-04\n",
            "Epoch 382/5000\n",
            "\u001b[1m5/5\u001b[0m \u001b[32m━━━━━━━━━━━━━━━━━━━━\u001b[0m\u001b[37m\u001b[0m \u001b[1m0s\u001b[0m 57ms/step - loss: 33.9814 - val_loss: 4.0441 - learning_rate: 1.0000e-04\n",
            "Epoch 383/5000\n",
            "\u001b[1m5/5\u001b[0m \u001b[32m━━━━━━━━━━━━━━━━━━━━\u001b[0m\u001b[37m\u001b[0m \u001b[1m0s\u001b[0m 54ms/step - loss: 33.9753 - val_loss: 4.0362 - learning_rate: 1.0000e-04\n",
            "Epoch 384/5000\n",
            "\u001b[1m5/5\u001b[0m \u001b[32m━━━━━━━━━━━━━━━━━━━━\u001b[0m\u001b[37m\u001b[0m \u001b[1m0s\u001b[0m 55ms/step - loss: 33.9482 - val_loss: 4.0263 - learning_rate: 1.0000e-04\n",
            "Epoch 385/5000\n",
            "\u001b[1m5/5\u001b[0m \u001b[32m━━━━━━━━━━━━━━━━━━━━\u001b[0m\u001b[37m\u001b[0m \u001b[1m0s\u001b[0m 58ms/step - loss: 33.9317 - val_loss: 4.0249 - learning_rate: 1.0000e-04\n",
            "Epoch 386/5000\n",
            "\u001b[1m5/5\u001b[0m \u001b[32m━━━━━━━━━━━━━━━━━━━━\u001b[0m\u001b[37m\u001b[0m \u001b[1m0s\u001b[0m 56ms/step - loss: 33.9265 - val_loss: 4.0380 - learning_rate: 1.0000e-04\n",
            "Epoch 387/5000\n",
            "\u001b[1m5/5\u001b[0m \u001b[32m━━━━━━━━━━━━━━━━━━━━\u001b[0m\u001b[37m\u001b[0m \u001b[1m0s\u001b[0m 58ms/step - loss: 33.9432 - val_loss: 4.0500 - learning_rate: 1.0000e-04\n",
            "Epoch 388/5000\n",
            "\u001b[1m5/5\u001b[0m \u001b[32m━━━━━━━━━━━━━━━━━━━━\u001b[0m\u001b[37m\u001b[0m \u001b[1m0s\u001b[0m 60ms/step - loss: 33.9222 - val_loss: 4.0321 - learning_rate: 1.0000e-04\n",
            "Epoch 389/5000\n",
            "\u001b[1m5/5\u001b[0m \u001b[32m━━━━━━━━━━━━━━━━━━━━\u001b[0m\u001b[37m\u001b[0m \u001b[1m0s\u001b[0m 67ms/step - loss: 33.9000 - val_loss: 4.0193 - learning_rate: 1.0000e-04\n",
            "Epoch 390/5000\n",
            "\u001b[1m5/5\u001b[0m \u001b[32m━━━━━━━━━━━━━━━━━━━━\u001b[0m\u001b[37m\u001b[0m \u001b[1m0s\u001b[0m 56ms/step - loss: 33.8841 - val_loss: 4.0249 - learning_rate: 1.0000e-04\n",
            "Epoch 391/5000\n",
            "\u001b[1m5/5\u001b[0m \u001b[32m━━━━━━━━━━━━━━━━━━━━\u001b[0m\u001b[37m\u001b[0m \u001b[1m0s\u001b[0m 59ms/step - loss: 33.8929 - val_loss: 4.0413 - learning_rate: 1.0000e-04\n",
            "Epoch 392/5000\n",
            "\u001b[1m5/5\u001b[0m \u001b[32m━━━━━━━━━━━━━━━━━━━━\u001b[0m\u001b[37m\u001b[0m \u001b[1m0s\u001b[0m 58ms/step - loss: 33.9098 - val_loss: 4.0571 - learning_rate: 1.0000e-04\n",
            "Epoch 393/5000\n",
            "\u001b[1m5/5\u001b[0m \u001b[32m━━━━━━━━━━━━━━━━━━━━\u001b[0m\u001b[37m\u001b[0m \u001b[1m0s\u001b[0m 57ms/step - loss: 33.8955 - val_loss: 4.0374 - learning_rate: 1.0000e-04\n",
            "Epoch 394/5000\n",
            "\u001b[1m5/5\u001b[0m \u001b[32m━━━━━━━━━━━━━━━━━━━━\u001b[0m\u001b[37m\u001b[0m \u001b[1m0s\u001b[0m 57ms/step - loss: 33.8597 - val_loss: 4.0201 - learning_rate: 1.0000e-04\n",
            "Epoch 395/5000\n",
            "\u001b[1m5/5\u001b[0m \u001b[32m━━━━━━━━━━━━━━━━━━━━\u001b[0m\u001b[37m\u001b[0m \u001b[1m0s\u001b[0m 58ms/step - loss: 33.8496 - val_loss: 4.0227 - learning_rate: 1.0000e-04\n",
            "Epoch 396/5000\n",
            "\u001b[1m5/5\u001b[0m \u001b[32m━━━━━━━━━━━━━━━━━━━━\u001b[0m\u001b[37m\u001b[0m \u001b[1m0s\u001b[0m 56ms/step - loss: 33.8564 - val_loss: 4.0424 - learning_rate: 1.0000e-04\n",
            "Epoch 397/5000\n",
            "\u001b[1m5/5\u001b[0m \u001b[32m━━━━━━━━━━━━━━━━━━━━\u001b[0m\u001b[37m\u001b[0m \u001b[1m0s\u001b[0m 66ms/step - loss: 33.8661 - val_loss: 4.0589 - learning_rate: 1.0000e-04\n",
            "Epoch 398/5000\n",
            "\u001b[1m5/5\u001b[0m \u001b[32m━━━━━━━━━━━━━━━━━━━━\u001b[0m\u001b[37m\u001b[0m \u001b[1m0s\u001b[0m 67ms/step - loss: 33.8787 - val_loss: 4.0513 - learning_rate: 1.0000e-04\n",
            "Epoch 399/5000\n",
            "\u001b[1m5/5\u001b[0m \u001b[32m━━━━━━━━━━━━━━━━━━━━\u001b[0m\u001b[37m\u001b[0m \u001b[1m0s\u001b[0m 56ms/step - loss: 33.8396 - val_loss: 4.0313 - learning_rate: 1.0000e-04\n",
            "Epoch 400/5000\n",
            "\u001b[1m5/5\u001b[0m \u001b[32m━━━━━━━━━━━━━━━━━━━━\u001b[0m\u001b[37m\u001b[0m \u001b[1m0s\u001b[0m 65ms/step - loss: 33.8179 - val_loss: 4.0184 - learning_rate: 1.0000e-04\n",
            "Epoch 401/5000\n",
            "\u001b[1m5/5\u001b[0m \u001b[32m━━━━━━━━━━━━━━━━━━━━\u001b[0m\u001b[37m\u001b[0m \u001b[1m1s\u001b[0m 67ms/step - loss: 33.8097 - val_loss: 4.0221 - learning_rate: 1.0000e-04\n",
            "Epoch 402/5000\n",
            "\u001b[1m5/5\u001b[0m \u001b[32m━━━━━━━━━━━━━━━━━━━━\u001b[0m\u001b[37m\u001b[0m \u001b[1m1s\u001b[0m 57ms/step - loss: 33.8084 - val_loss: 4.0315 - learning_rate: 1.0000e-04\n",
            "Epoch 403/5000\n",
            "\u001b[1m5/5\u001b[0m \u001b[32m━━━━━━━━━━━━━━━━━━━━\u001b[0m\u001b[37m\u001b[0m \u001b[1m0s\u001b[0m 66ms/step - loss: 33.8049 - val_loss: 4.0422 - learning_rate: 1.0000e-04\n",
            "Epoch 404/5000\n",
            "\u001b[1m5/5\u001b[0m \u001b[32m━━━━━━━━━━━━━━━━━━━━\u001b[0m\u001b[37m\u001b[0m \u001b[1m0s\u001b[0m 55ms/step - loss: 33.7970 - val_loss: 4.0335 - learning_rate: 1.0000e-04\n",
            "Epoch 405/5000\n",
            "\u001b[1m5/5\u001b[0m \u001b[32m━━━━━━━━━━━━━━━━━━━━\u001b[0m\u001b[37m\u001b[0m \u001b[1m0s\u001b[0m 67ms/step - loss: 33.7837 - val_loss: 4.0413 - learning_rate: 1.0000e-04\n",
            "Epoch 406/5000\n",
            "\u001b[1m5/5\u001b[0m \u001b[32m━━━━━━━━━━━━━━━━━━━━\u001b[0m\u001b[37m\u001b[0m \u001b[1m0s\u001b[0m 71ms/step - loss: 33.7800 - val_loss: 4.0377 - learning_rate: 1.0000e-04\n",
            "Epoch 407/5000\n",
            "\u001b[1m5/5\u001b[0m \u001b[32m━━━━━━━━━━━━━━━━━━━━\u001b[0m\u001b[37m\u001b[0m \u001b[1m0s\u001b[0m 72ms/step - loss: 33.7675 - val_loss: 4.0348 - learning_rate: 1.0000e-04\n",
            "Epoch 408/5000\n",
            "\u001b[1m5/5\u001b[0m \u001b[32m━━━━━━━━━━━━━━━━━━━━\u001b[0m\u001b[37m\u001b[0m \u001b[1m1s\u001b[0m 76ms/step - loss: 33.7593 - val_loss: 4.0389 - learning_rate: 1.0000e-04\n",
            "Epoch 409/5000\n",
            "\u001b[1m4/5\u001b[0m \u001b[32m━━━━━━━━━━━━━━━━\u001b[0m\u001b[37m━━━━\u001b[0m \u001b[1m0s\u001b[0m 60ms/step - loss: 39.3927\n",
            "Epoch 409: ReduceLROnPlateau reducing learning rate to 1.0000000474974514e-05.\n",
            "\u001b[1m5/5\u001b[0m \u001b[32m━━━━━━━━━━━━━━━━━━━━\u001b[0m\u001b[37m\u001b[0m \u001b[1m1s\u001b[0m 62ms/step - loss: 33.7547 - val_loss: 4.0420 - learning_rate: 1.0000e-04\n",
            "Epoch 410/5000\n",
            "\u001b[1m5/5\u001b[0m \u001b[32m━━━━━━━━━━━━━━━━━━━━\u001b[0m\u001b[37m\u001b[0m \u001b[1m1s\u001b[0m 71ms/step - loss: 33.7281 - val_loss: 4.0263 - learning_rate: 1.0000e-05\n",
            "Epoch 411/5000\n",
            "\u001b[1m5/5\u001b[0m \u001b[32m━━━━━━━━━━━━━━━━━━━━\u001b[0m\u001b[37m\u001b[0m \u001b[1m1s\u001b[0m 58ms/step - loss: 33.7243 - val_loss: 4.0237 - learning_rate: 1.0000e-05\n",
            "Epoch 412/5000\n",
            "\u001b[1m5/5\u001b[0m \u001b[32m━━━━━━━━━━━━━━━━━━━━\u001b[0m\u001b[37m\u001b[0m \u001b[1m0s\u001b[0m 56ms/step - loss: 33.7221 - val_loss: 4.0330 - learning_rate: 1.0000e-05\n",
            "Epoch 413/5000\n",
            "\u001b[1m5/5\u001b[0m \u001b[32m━━━━━━━━━━━━━━━━━━━━\u001b[0m\u001b[37m\u001b[0m \u001b[1m0s\u001b[0m 56ms/step - loss: 33.7204 - val_loss: 4.0317 - learning_rate: 1.0000e-05\n",
            "Epoch 414/5000\n",
            "\u001b[1m5/5\u001b[0m \u001b[32m━━━━━━━━━━━━━━━━━━━━\u001b[0m\u001b[37m\u001b[0m \u001b[1m0s\u001b[0m 58ms/step - loss: 33.7196 - val_loss: 4.0267 - learning_rate: 1.0000e-05\n",
            "Epoch 415/5000\n",
            "\u001b[1m5/5\u001b[0m \u001b[32m━━━━━━━━━━━━━━━━━━━━\u001b[0m\u001b[37m\u001b[0m \u001b[1m0s\u001b[0m 57ms/step - loss: 33.7185 - val_loss: 4.0277 - learning_rate: 1.0000e-05\n",
            "Epoch 416/5000\n",
            "\u001b[1m5/5\u001b[0m \u001b[32m━━━━━━━━━━━━━━━━━━━━\u001b[0m\u001b[37m\u001b[0m \u001b[1m0s\u001b[0m 65ms/step - loss: 33.7169 - val_loss: 4.0315 - learning_rate: 1.0000e-05\n",
            "Epoch 417/5000\n",
            "\u001b[1m5/5\u001b[0m \u001b[32m━━━━━━━━━━━━━━━━━━━━\u001b[0m\u001b[37m\u001b[0m \u001b[1m1s\u001b[0m 61ms/step - loss: 33.7163 - val_loss: 4.0299 - learning_rate: 1.0000e-05\n",
            "Epoch 418/5000\n",
            "\u001b[1m5/5\u001b[0m \u001b[32m━━━━━━━━━━━━━━━━━━━━\u001b[0m\u001b[37m\u001b[0m \u001b[1m0s\u001b[0m 55ms/step - loss: 33.7156 - val_loss: 4.0284 - learning_rate: 1.0000e-05\n",
            "Epoch 419/5000\n",
            "\u001b[1m5/5\u001b[0m \u001b[32m━━━━━━━━━━━━━━━━━━━━\u001b[0m\u001b[37m\u001b[0m \u001b[1m0s\u001b[0m 57ms/step - loss: 33.7147 - val_loss: 4.0288 - learning_rate: 1.0000e-05\n",
            "Epoch 420/5000\n",
            "\u001b[1m5/5\u001b[0m \u001b[32m━━━━━━━━━━━━━━━━━━━━\u001b[0m\u001b[37m\u001b[0m \u001b[1m0s\u001b[0m 67ms/step - loss: 33.7137 - val_loss: 4.0297 - learning_rate: 1.0000e-05\n",
            "Epoch 421/5000\n",
            "\u001b[1m5/5\u001b[0m \u001b[32m━━━━━━━━━━━━━━━━━━━━\u001b[0m\u001b[37m\u001b[0m \u001b[1m0s\u001b[0m 56ms/step - loss: 33.7131 - val_loss: 4.0296 - learning_rate: 1.0000e-05\n",
            "Epoch 422/5000\n",
            "\u001b[1m5/5\u001b[0m \u001b[32m━━━━━━━━━━━━━━━━━━━━\u001b[0m\u001b[37m\u001b[0m \u001b[1m0s\u001b[0m 65ms/step - loss: 33.7123 - val_loss: 4.0288 - learning_rate: 1.0000e-05\n",
            "Epoch 423/5000\n",
            "\u001b[1m5/5\u001b[0m \u001b[32m━━━━━━━━━━━━━━━━━━━━\u001b[0m\u001b[37m\u001b[0m \u001b[1m1s\u001b[0m 56ms/step - loss: 33.7112 - val_loss: 4.0310 - learning_rate: 1.0000e-05\n",
            "Epoch 424/5000\n",
            "\u001b[1m5/5\u001b[0m \u001b[32m━━━━━━━━━━━━━━━━━━━━\u001b[0m\u001b[37m\u001b[0m \u001b[1m0s\u001b[0m 56ms/step - loss: 33.7107 - val_loss: 4.0290 - learning_rate: 1.0000e-05\n",
            "Epoch 425/5000\n",
            "\u001b[1m5/5\u001b[0m \u001b[32m━━━━━━━━━━━━━━━━━━━━\u001b[0m\u001b[37m\u001b[0m \u001b[1m0s\u001b[0m 66ms/step - loss: 33.7099 - val_loss: 4.0298 - learning_rate: 1.0000e-05\n",
            "Epoch 426/5000\n",
            "\u001b[1m5/5\u001b[0m \u001b[32m━━━━━━━━━━━━━━━━━━━━\u001b[0m\u001b[37m\u001b[0m \u001b[1m1s\u001b[0m 56ms/step - loss: 33.7091 - val_loss: 4.0287 - learning_rate: 1.0000e-05\n",
            "Epoch 427/5000\n",
            "\u001b[1m5/5\u001b[0m \u001b[32m━━━━━━━━━━━━━━━━━━━━\u001b[0m\u001b[37m\u001b[0m \u001b[1m0s\u001b[0m 65ms/step - loss: 33.7082 - val_loss: 4.0311 - learning_rate: 1.0000e-05\n",
            "Epoch 428/5000\n",
            "\u001b[1m5/5\u001b[0m \u001b[32m━━━━━━━━━━━━━━━━━━━━\u001b[0m\u001b[37m\u001b[0m \u001b[1m1s\u001b[0m 58ms/step - loss: 33.7075 - val_loss: 4.0296 - learning_rate: 1.0000e-05\n",
            "Epoch 429/5000\n",
            "\u001b[1m5/5\u001b[0m \u001b[32m━━━━━━━━━━━━━━━━━━━━\u001b[0m\u001b[37m\u001b[0m \u001b[1m0s\u001b[0m 56ms/step - loss: 33.7066 - val_loss: 4.0291 - learning_rate: 1.0000e-05\n",
            "Epoch 430/5000\n",
            "\u001b[1m5/5\u001b[0m \u001b[32m━━━━━━━━━━━━━━━━━━━━\u001b[0m\u001b[37m\u001b[0m \u001b[1m0s\u001b[0m 58ms/step - loss: 33.7053 - val_loss: 4.0319 - learning_rate: 1.0000e-05\n",
            "Epoch 431/5000\n",
            "\u001b[1m5/5\u001b[0m \u001b[32m━━━━━━━━━━━━━━━━━━━━\u001b[0m\u001b[37m\u001b[0m \u001b[1m0s\u001b[0m 56ms/step - loss: 33.7051 - val_loss: 4.0284 - learning_rate: 1.0000e-05\n",
            "Epoch 432/5000\n",
            "\u001b[1m5/5\u001b[0m \u001b[32m━━━━━━━━━━━━━━━━━━━━\u001b[0m\u001b[37m\u001b[0m \u001b[1m0s\u001b[0m 57ms/step - loss: 33.7043 - val_loss: 4.0311 - learning_rate: 1.0000e-05\n",
            "Epoch 433/5000\n",
            "\u001b[1m5/5\u001b[0m \u001b[32m━━━━━━━━━━━━━━━━━━━━\u001b[0m\u001b[37m\u001b[0m \u001b[1m0s\u001b[0m 58ms/step - loss: 33.7032 - val_loss: 4.0306 - learning_rate: 1.0000e-05\n",
            "Epoch 434/5000\n",
            "\u001b[1m5/5\u001b[0m \u001b[32m━━━━━━━━━━━━━━━━━━━━\u001b[0m\u001b[37m\u001b[0m \u001b[1m0s\u001b[0m 58ms/step - loss: 33.7026 - val_loss: 4.0288 - learning_rate: 1.0000e-05\n",
            "Epoch 435/5000\n",
            "\u001b[1m5/5\u001b[0m \u001b[32m━━━━━━━━━━━━━━━━━━━━\u001b[0m\u001b[37m\u001b[0m \u001b[1m0s\u001b[0m 58ms/step - loss: 33.7014 - val_loss: 4.0324 - learning_rate: 1.0000e-05\n",
            "Epoch 436/5000\n",
            "\u001b[1m5/5\u001b[0m \u001b[32m━━━━━━━━━━━━━━━━━━━━\u001b[0m\u001b[37m\u001b[0m \u001b[1m0s\u001b[0m 56ms/step - loss: 33.7011 - val_loss: 4.0283 - learning_rate: 1.0000e-05\n",
            "Epoch 437/5000\n",
            "\u001b[1m5/5\u001b[0m \u001b[32m━━━━━━━━━━━━━━━━━━━━\u001b[0m\u001b[37m\u001b[0m \u001b[1m0s\u001b[0m 59ms/step - loss: 33.7001 - val_loss: 4.0323 - learning_rate: 1.0000e-05\n",
            "Epoch 438/5000\n",
            "\u001b[1m5/5\u001b[0m \u001b[32m━━━━━━━━━━━━━━━━━━━━\u001b[0m\u001b[37m\u001b[0m \u001b[1m0s\u001b[0m 65ms/step - loss: 33.6993 - val_loss: 4.0296 - learning_rate: 1.0000e-05\n",
            "Epoch 439/5000\n",
            "\u001b[1m5/5\u001b[0m \u001b[32m━━━━━━━━━━━━━━━━━━━━\u001b[0m\u001b[37m\u001b[0m \u001b[1m1s\u001b[0m 65ms/step - loss: 33.6981 - val_loss: 4.0310 - learning_rate: 1.0000e-05\n",
            "Epoch 440/5000\n",
            "\u001b[1m5/5\u001b[0m \u001b[32m━━━━━━━━━━━━━━━━━━━━\u001b[0m\u001b[37m\u001b[0m \u001b[1m1s\u001b[0m 73ms/step - loss: 33.6974 - val_loss: 4.0311 - learning_rate: 1.0000e-05\n",
            "Epoch 441/5000\n",
            "\u001b[1m5/5\u001b[0m \u001b[32m━━━━━━━━━━━━━━━━━━━━\u001b[0m\u001b[37m\u001b[0m \u001b[1m0s\u001b[0m 65ms/step - loss: 33.6968 - val_loss: 4.0293 - learning_rate: 1.0000e-05\n",
            "Epoch 442/5000\n",
            "\u001b[1m5/5\u001b[0m \u001b[32m━━━━━━━━━━━━━━━━━━━━\u001b[0m\u001b[37m\u001b[0m \u001b[1m1s\u001b[0m 80ms/step - loss: 33.6955 - val_loss: 4.0347 - learning_rate: 1.0000e-05\n",
            "Epoch 443/5000\n",
            "\u001b[1m5/5\u001b[0m \u001b[32m━━━━━━━━━━━━━━━━━━━━\u001b[0m\u001b[37m\u001b[0m \u001b[1m1s\u001b[0m 58ms/step - loss: 33.6957 - val_loss: 4.0292 - learning_rate: 1.0000e-05\n",
            "Epoch 444/5000\n",
            "\u001b[1m5/5\u001b[0m \u001b[32m━━━━━━━━━━━━━━━━━━━━\u001b[0m\u001b[37m\u001b[0m \u001b[1m0s\u001b[0m 56ms/step - loss: 33.6944 - val_loss: 4.0319 - learning_rate: 1.0000e-05\n",
            "Epoch 445/5000\n",
            "\u001b[1m5/5\u001b[0m \u001b[32m━━━━━━━━━━━━━━━━━━━━\u001b[0m\u001b[37m\u001b[0m \u001b[1m0s\u001b[0m 57ms/step - loss: 33.6932 - val_loss: 4.0313 - learning_rate: 1.0000e-05\n",
            "Epoch 446/5000\n",
            "\u001b[1m5/5\u001b[0m \u001b[32m━━━━━━━━━━━━━━━━━━━━\u001b[0m\u001b[37m\u001b[0m \u001b[1m0s\u001b[0m 57ms/step - loss: 33.6927 - val_loss: 4.0288 - learning_rate: 1.0000e-05\n",
            "Epoch 447/5000\n",
            "\u001b[1m5/5\u001b[0m \u001b[32m━━━━━━━━━━━━━━━━━━━━\u001b[0m\u001b[37m\u001b[0m \u001b[1m0s\u001b[0m 68ms/step - loss: 33.6918 - val_loss: 4.0342 - learning_rate: 1.0000e-05\n",
            "Epoch 448/5000\n",
            "\u001b[1m5/5\u001b[0m \u001b[32m━━━━━━━━━━━━━━━━━━━━\u001b[0m\u001b[37m\u001b[0m \u001b[1m0s\u001b[0m 67ms/step - loss: 33.6915 - val_loss: 4.0300 - learning_rate: 1.0000e-05\n",
            "Epoch 449/5000\n",
            "\u001b[1m5/5\u001b[0m \u001b[32m━━━━━━━━━━━━━━━━━━━━\u001b[0m\u001b[37m\u001b[0m \u001b[1m0s\u001b[0m 59ms/step - loss: 33.6900 - val_loss: 4.0319 - learning_rate: 1.0000e-05\n",
            "Epoch 450/5000\n",
            "\u001b[1m5/5\u001b[0m \u001b[32m━━━━━━━━━━━━━━━━━━━━\u001b[0m\u001b[37m\u001b[0m \u001b[1m0s\u001b[0m 59ms/step - loss: 33.6894 - val_loss: 4.0297 - learning_rate: 1.0000e-05\n",
            "Epoch 451/5000\n",
            "\u001b[1m5/5\u001b[0m \u001b[32m━━━━━━━━━━━━━━━━━━━━\u001b[0m\u001b[37m\u001b[0m \u001b[1m0s\u001b[0m 66ms/step - loss: 33.6882 - val_loss: 4.0339 - learning_rate: 1.0000e-05\n",
            "Epoch 452/5000\n",
            "\u001b[1m5/5\u001b[0m \u001b[32m━━━━━━━━━━━━━━━━━━━━\u001b[0m\u001b[37m\u001b[0m \u001b[1m0s\u001b[0m 59ms/step - loss: 33.6880 - val_loss: 4.0302 - learning_rate: 1.0000e-05\n",
            "Epoch 453/5000\n",
            "\u001b[1m5/5\u001b[0m \u001b[32m━━━━━━━━━━━━━━━━━━━━\u001b[0m\u001b[37m\u001b[0m \u001b[1m0s\u001b[0m 68ms/step - loss: 33.6867 - val_loss: 4.0322 - learning_rate: 1.0000e-05\n",
            "Epoch 454/5000\n",
            "\u001b[1m5/5\u001b[0m \u001b[32m━━━━━━━━━━━━━━━━━━━━\u001b[0m\u001b[37m\u001b[0m \u001b[1m1s\u001b[0m 58ms/step - loss: 33.6858 - val_loss: 4.0308 - learning_rate: 1.0000e-05\n",
            "Epoch 455/5000\n",
            "\u001b[1m5/5\u001b[0m \u001b[32m━━━━━━━━━━━━━━━━━━━━\u001b[0m\u001b[37m\u001b[0m \u001b[1m0s\u001b[0m 58ms/step - loss: 33.6852 - val_loss: 4.0316 - learning_rate: 1.0000e-05\n",
            "Epoch 456/5000\n",
            "\u001b[1m5/5\u001b[0m \u001b[32m━━━━━━━━━━━━━━━━━━━━\u001b[0m\u001b[37m\u001b[0m \u001b[1m0s\u001b[0m 55ms/step - loss: 33.6842 - val_loss: 4.0309 - learning_rate: 1.0000e-05\n",
            "Epoch 457/5000\n",
            "\u001b[1m5/5\u001b[0m \u001b[32m━━━━━━━━━━━━━━━━━━━━\u001b[0m\u001b[37m\u001b[0m \u001b[1m0s\u001b[0m 59ms/step - loss: 33.6833 - val_loss: 4.0327 - learning_rate: 1.0000e-05\n",
            "Epoch 458/5000\n",
            "\u001b[1m5/5\u001b[0m \u001b[32m━━━━━━━━━━━━━━━━━━━━\u001b[0m\u001b[37m\u001b[0m \u001b[1m0s\u001b[0m 58ms/step - loss: 33.6831 - val_loss: 4.0292 - learning_rate: 1.0000e-05\n",
            "Epoch 459/5000\n",
            "\u001b[1m5/5\u001b[0m \u001b[32m━━━━━━━━━━━━━━━━━━━━\u001b[0m\u001b[37m\u001b[0m \u001b[1m0s\u001b[0m 68ms/step - loss: 33.6822 - val_loss: 4.0348 - learning_rate: 1.0000e-05\n",
            "Epoch 460/5000\n",
            "\u001b[1m5/5\u001b[0m \u001b[32m━━━━━━━━━━━━━━━━━━━━\u001b[0m\u001b[37m\u001b[0m \u001b[1m0s\u001b[0m 58ms/step - loss: 33.6818 - val_loss: 4.0302 - learning_rate: 1.0000e-05\n",
            "Epoch 461/5000\n",
            "\u001b[1m5/5\u001b[0m \u001b[32m━━━━━━━━━━━━━━━━━━━━\u001b[0m\u001b[37m\u001b[0m \u001b[1m0s\u001b[0m 57ms/step - loss: 33.6805 - val_loss: 4.0324 - learning_rate: 1.0000e-05\n",
            "Epoch 462/5000\n",
            "\u001b[1m5/5\u001b[0m \u001b[32m━━━━━━━━━━━━━━━━━━━━\u001b[0m\u001b[37m\u001b[0m \u001b[1m0s\u001b[0m 58ms/step - loss: 33.6795 - val_loss: 4.0302 - learning_rate: 1.0000e-05\n",
            "Epoch 463/5000\n",
            "\u001b[1m5/5\u001b[0m \u001b[32m━━━━━━━━━━━━━━━━━━━━\u001b[0m\u001b[37m\u001b[0m \u001b[1m0s\u001b[0m 57ms/step - loss: 33.6786 - val_loss: 4.0338 - learning_rate: 1.0000e-05\n",
            "Epoch 464/5000\n",
            "\u001b[1m5/5\u001b[0m \u001b[32m━━━━━━━━━━━━━━━━━━━━\u001b[0m\u001b[37m\u001b[0m \u001b[1m0s\u001b[0m 69ms/step - loss: 33.6785 - val_loss: 4.0297 - learning_rate: 1.0000e-05\n",
            "Epoch 465/5000\n",
            "\u001b[1m5/5\u001b[0m \u001b[32m━━━━━━━━━━━━━━━━━━━━\u001b[0m\u001b[37m\u001b[0m \u001b[1m0s\u001b[0m 65ms/step - loss: 33.6772 - val_loss: 4.0331 - learning_rate: 1.0000e-05\n",
            "Epoch 466/5000\n",
            "\u001b[1m5/5\u001b[0m \u001b[32m━━━━━━━━━━━━━━━━━━━━\u001b[0m\u001b[37m\u001b[0m \u001b[1m0s\u001b[0m 65ms/step - loss: 33.6762 - val_loss: 4.0311 - learning_rate: 1.0000e-05\n",
            "Epoch 467/5000\n",
            "\u001b[1m5/5\u001b[0m \u001b[32m━━━━━━━━━━━━━━━━━━━━\u001b[0m\u001b[37m\u001b[0m \u001b[1m1s\u001b[0m 57ms/step - loss: 33.6754 - val_loss: 4.0323 - learning_rate: 1.0000e-05\n",
            "Epoch 468/5000\n",
            "\u001b[1m5/5\u001b[0m \u001b[32m━━━━━━━━━━━━━━━━━━━━\u001b[0m\u001b[37m\u001b[0m \u001b[1m0s\u001b[0m 59ms/step - loss: 33.6742 - val_loss: 4.0318 - learning_rate: 1.0000e-05\n",
            "Epoch 469/5000\n",
            "\u001b[1m5/5\u001b[0m \u001b[32m━━━━━━━━━━━━━━━━━━━━\u001b[0m\u001b[37m\u001b[0m \u001b[1m0s\u001b[0m 57ms/step - loss: 33.6738 - val_loss: 4.0324 - learning_rate: 1.0000e-05\n",
            "Epoch 470/5000\n",
            "\u001b[1m5/5\u001b[0m \u001b[32m━━━━━━━━━━━━━━━━━━━━\u001b[0m\u001b[37m\u001b[0m \u001b[1m0s\u001b[0m 57ms/step - loss: 33.6729 - val_loss: 4.0311 - learning_rate: 1.0000e-05\n",
            "Epoch 471/5000\n",
            "\u001b[1m5/5\u001b[0m \u001b[32m━━━━━━━━━━━━━━━━━━━━\u001b[0m\u001b[37m\u001b[0m \u001b[1m0s\u001b[0m 60ms/step - loss: 33.6722 - val_loss: 4.0331 - learning_rate: 1.0000e-05\n",
            "Epoch 472/5000\n",
            "\u001b[1m5/5\u001b[0m \u001b[32m━━━━━━━━━━━━━━━━━━━━\u001b[0m\u001b[37m\u001b[0m \u001b[1m0s\u001b[0m 69ms/step - loss: 33.6716 - val_loss: 4.0302 - learning_rate: 1.0000e-05\n",
            "Epoch 473/5000\n",
            "\u001b[1m5/5\u001b[0m \u001b[32m━━━━━━━━━━━━━━━━━━━━\u001b[0m\u001b[37m\u001b[0m \u001b[1m0s\u001b[0m 67ms/step - loss: 33.6706 - val_loss: 4.0338 - learning_rate: 1.0000e-05\n",
            "Epoch 474/5000\n",
            "\u001b[1m5/5\u001b[0m \u001b[32m━━━━━━━━━━━━━━━━━━━━\u001b[0m\u001b[37m\u001b[0m \u001b[1m1s\u001b[0m 75ms/step - loss: 33.6699 - val_loss: 4.0318 - learning_rate: 1.0000e-05\n",
            "Epoch 475/5000\n",
            "\u001b[1m5/5\u001b[0m \u001b[32m━━━━━━━━━━━━━━━━━━━━\u001b[0m\u001b[37m\u001b[0m \u001b[1m0s\u001b[0m 63ms/step - loss: 33.6687 - val_loss: 4.0332 - learning_rate: 1.0000e-05\n",
            "Epoch 476/5000\n",
            "\u001b[1m5/5\u001b[0m \u001b[32m━━━━━━━━━━━━━━━━━━━━\u001b[0m\u001b[37m\u001b[0m \u001b[1m1s\u001b[0m 71ms/step - loss: 33.6682 - val_loss: 4.0303 - learning_rate: 1.0000e-05\n",
            "Epoch 477/5000\n",
            "\u001b[1m5/5\u001b[0m \u001b[32m━━━━━━━━━━━━━━━━━━━━\u001b[0m\u001b[37m\u001b[0m \u001b[1m1s\u001b[0m 62ms/step - loss: 33.6675 - val_loss: 4.0352 - learning_rate: 1.0000e-05\n",
            "Epoch 478/5000\n",
            "\u001b[1m5/5\u001b[0m \u001b[32m━━━━━━━━━━━━━━━━━━━━\u001b[0m\u001b[37m\u001b[0m \u001b[1m1s\u001b[0m 57ms/step - loss: 33.6668 - val_loss: 4.0316 - learning_rate: 1.0000e-05\n",
            "Epoch 479/5000\n",
            "\u001b[1m5/5\u001b[0m \u001b[32m━━━━━━━━━━━━━━━━━━━━\u001b[0m\u001b[37m\u001b[0m \u001b[1m0s\u001b[0m 57ms/step - loss: 33.6655 - val_loss: 4.0332 - learning_rate: 1.0000e-05\n",
            "Epoch 480/5000\n",
            "\u001b[1m5/5\u001b[0m \u001b[32m━━━━━━━━━━━━━━━━━━━━\u001b[0m\u001b[37m\u001b[0m \u001b[1m0s\u001b[0m 58ms/step - loss: 33.6647 - val_loss: 4.0320 - learning_rate: 1.0000e-05\n",
            "Epoch 481/5000\n",
            "\u001b[1m5/5\u001b[0m \u001b[32m━━━━━━━━━━━━━━━━━━━━\u001b[0m\u001b[37m\u001b[0m \u001b[1m0s\u001b[0m 66ms/step - loss: 33.6638 - val_loss: 4.0341 - learning_rate: 1.0000e-05\n",
            "Epoch 482/5000\n",
            "\u001b[1m5/5\u001b[0m \u001b[32m━━━━━━━━━━━━━━━━━━━━\u001b[0m\u001b[37m\u001b[0m \u001b[1m1s\u001b[0m 57ms/step - loss: 33.6634 - val_loss: 4.0313 - learning_rate: 1.0000e-05\n",
            "Epoch 483/5000\n",
            "\u001b[1m5/5\u001b[0m \u001b[32m━━━━━━━━━━━━━━━━━━━━\u001b[0m\u001b[37m\u001b[0m \u001b[1m0s\u001b[0m 68ms/step - loss: 33.6625 - val_loss: 4.0346 - learning_rate: 1.0000e-05\n",
            "Epoch 484/5000\n",
            "\u001b[1m5/5\u001b[0m \u001b[32m━━━━━━━━━━━━━━━━━━━━\u001b[0m\u001b[37m\u001b[0m \u001b[1m1s\u001b[0m 58ms/step - loss: 33.6618 - val_loss: 4.0306 - learning_rate: 1.0000e-05\n",
            "Epoch 485/5000\n",
            "\u001b[1m5/5\u001b[0m \u001b[32m━━━━━━━━━━━━━━━━━━━━\u001b[0m\u001b[37m\u001b[0m \u001b[1m0s\u001b[0m 58ms/step - loss: 33.6609 - val_loss: 4.0372 - learning_rate: 1.0000e-05\n",
            "Epoch 486/5000\n",
            "\u001b[1m5/5\u001b[0m \u001b[32m━━━━━━━━━━━━━━━━━━━━\u001b[0m\u001b[37m\u001b[0m \u001b[1m0s\u001b[0m 69ms/step - loss: 33.6604 - val_loss: 4.0322 - learning_rate: 1.0000e-05\n",
            "Epoch 487/5000\n",
            "\u001b[1m5/5\u001b[0m \u001b[32m━━━━━━━━━━━━━━━━━━━━\u001b[0m\u001b[37m\u001b[0m \u001b[1m1s\u001b[0m 67ms/step - loss: 33.6589 - val_loss: 4.0344 - learning_rate: 1.0000e-05\n",
            "Epoch 488/5000\n",
            "\u001b[1m5/5\u001b[0m \u001b[32m━━━━━━━━━━━━━━━━━━━━\u001b[0m\u001b[37m\u001b[0m \u001b[1m0s\u001b[0m 68ms/step - loss: 33.6584 - val_loss: 4.0316 - learning_rate: 1.0000e-05\n",
            "Epoch 489/5000\n",
            "\u001b[1m5/5\u001b[0m \u001b[32m━━━━━━━━━━━━━━━━━━━━\u001b[0m\u001b[37m\u001b[0m \u001b[1m1s\u001b[0m 67ms/step - loss: 33.6571 - val_loss: 4.0363 - learning_rate: 1.0000e-05\n",
            "Epoch 490/5000\n",
            "\u001b[1m5/5\u001b[0m \u001b[32m━━━━━━━━━━━━━━━━━━━━\u001b[0m\u001b[37m\u001b[0m \u001b[1m1s\u001b[0m 66ms/step - loss: 33.6568 - val_loss: 4.0333 - learning_rate: 1.0000e-05\n",
            "Epoch 491/5000\n",
            "\u001b[1m5/5\u001b[0m \u001b[32m━━━━━━━━━━━━━━━━━━━━\u001b[0m\u001b[37m\u001b[0m \u001b[1m1s\u001b[0m 67ms/step - loss: 33.6555 - val_loss: 4.0327 - learning_rate: 1.0000e-05\n",
            "Epoch 492/5000\n",
            "\u001b[1m5/5\u001b[0m \u001b[32m━━━━━━━━━━━━━━━━━━━━\u001b[0m\u001b[37m\u001b[0m \u001b[1m1s\u001b[0m 57ms/step - loss: 33.6543 - val_loss: 4.0357 - learning_rate: 1.0000e-05\n",
            "Epoch 493/5000\n",
            "\u001b[1m5/5\u001b[0m \u001b[32m━━━━━━━━━━━━━━━━━━━━\u001b[0m\u001b[37m\u001b[0m \u001b[1m0s\u001b[0m 58ms/step - loss: 33.6544 - val_loss: 4.0323 - learning_rate: 1.0000e-05\n",
            "Epoch 494/5000\n",
            "\u001b[1m5/5\u001b[0m \u001b[32m━━━━━━━━━━━━━━━━━━━━\u001b[0m\u001b[37m\u001b[0m \u001b[1m0s\u001b[0m 67ms/step - loss: 33.6530 - val_loss: 4.0351 - learning_rate: 1.0000e-05\n",
            "Epoch 495/5000\n",
            "\u001b[1m5/5\u001b[0m \u001b[32m━━━━━━━━━━━━━━━━━━━━\u001b[0m\u001b[37m\u001b[0m \u001b[1m1s\u001b[0m 68ms/step - loss: 33.6525 - val_loss: 4.0314 - learning_rate: 1.0000e-05\n",
            "Epoch 496/5000\n",
            "\u001b[1m5/5\u001b[0m \u001b[32m━━━━━━━━━━━━━━━━━━━━\u001b[0m\u001b[37m\u001b[0m \u001b[1m0s\u001b[0m 58ms/step - loss: 33.6516 - val_loss: 4.0384 - learning_rate: 1.0000e-05\n",
            "Epoch 497/5000\n",
            "\u001b[1m5/5\u001b[0m \u001b[32m━━━━━━━━━━━━━━━━━━━━\u001b[0m\u001b[37m\u001b[0m \u001b[1m0s\u001b[0m 56ms/step - loss: 33.6515 - val_loss: 4.0312 - learning_rate: 1.0000e-05\n",
            "Epoch 498/5000\n",
            "\u001b[1m5/5\u001b[0m \u001b[32m━━━━━━━━━━━━━━━━━━━━\u001b[0m\u001b[37m\u001b[0m \u001b[1m0s\u001b[0m 56ms/step - loss: 33.6504 - val_loss: 4.0353 - learning_rate: 1.0000e-05\n",
            "Epoch 499/5000\n",
            "\u001b[1m5/5\u001b[0m \u001b[32m━━━━━━━━━━━━━━━━━━━━\u001b[0m\u001b[37m\u001b[0m \u001b[1m0s\u001b[0m 69ms/step - loss: 33.6488 - val_loss: 4.0326 - learning_rate: 1.0000e-05\n",
            "Epoch 500/5000\n",
            "\u001b[1m5/5\u001b[0m \u001b[32m━━━━━━━━━━━━━━━━━━━━\u001b[0m\u001b[37m\u001b[0m \u001b[1m0s\u001b[0m 60ms/step - loss: 33.6478 - val_loss: 4.0354 - learning_rate: 1.0000e-05\n",
            "Epoch 501/5000\n",
            "\u001b[1m5/5\u001b[0m \u001b[32m━━━━━━━━━━━━━━━━━━━━\u001b[0m\u001b[37m\u001b[0m \u001b[1m0s\u001b[0m 65ms/step - loss: 33.6469 - val_loss: 4.0335 - learning_rate: 1.0000e-05\n",
            "Epoch 502/5000\n",
            "\u001b[1m5/5\u001b[0m \u001b[32m━━━━━━━━━━━━━━━━━━━━\u001b[0m\u001b[37m\u001b[0m \u001b[1m0s\u001b[0m 72ms/step - loss: 33.6459 - val_loss: 4.0340 - learning_rate: 1.0000e-05\n",
            "Epoch 503/5000\n",
            "\u001b[1m5/5\u001b[0m \u001b[32m━━━━━━━━━━━━━━━━━━━━\u001b[0m\u001b[37m\u001b[0m \u001b[1m0s\u001b[0m 77ms/step - loss: 33.6452 - val_loss: 4.0331 - learning_rate: 1.0000e-05\n",
            "Epoch 504/5000\n",
            "\u001b[1m5/5\u001b[0m \u001b[32m━━━━━━━━━━━━━━━━━━━━\u001b[0m\u001b[37m\u001b[0m \u001b[1m1s\u001b[0m 71ms/step - loss: 33.6439 - val_loss: 4.0369 - learning_rate: 1.0000e-05\n",
            "Epoch 505/5000\n",
            "\u001b[1m5/5\u001b[0m \u001b[32m━━━━━━━━━━━━━━━━━━━━\u001b[0m\u001b[37m\u001b[0m \u001b[1m1s\u001b[0m 75ms/step - loss: 33.6444 - val_loss: 4.0324 - learning_rate: 1.0000e-05\n",
            "Epoch 506/5000\n",
            "\u001b[1m5/5\u001b[0m \u001b[32m━━━━━━━━━━━━━━━━━━━━\u001b[0m\u001b[37m\u001b[0m \u001b[1m1s\u001b[0m 61ms/step - loss: 33.6424 - val_loss: 4.0379 - learning_rate: 1.0000e-05\n",
            "Epoch 507/5000\n",
            "\u001b[1m5/5\u001b[0m \u001b[32m━━━━━━━━━━━━━━━━━━━━\u001b[0m\u001b[37m\u001b[0m \u001b[1m0s\u001b[0m 56ms/step - loss: 33.6430 - val_loss: 4.0319 - learning_rate: 1.0000e-05\n",
            "Epoch 508/5000\n",
            "\u001b[1m5/5\u001b[0m \u001b[32m━━━━━━━━━━━━━━━━━━━━\u001b[0m\u001b[37m\u001b[0m \u001b[1m0s\u001b[0m 60ms/step - loss: 33.6416 - val_loss: 4.0362 - learning_rate: 1.0000e-05\n",
            "Epoch 509/5000\n",
            "\u001b[1m4/5\u001b[0m \u001b[32m━━━━━━━━━━━━━━━━\u001b[0m\u001b[37m━━━━\u001b[0m \u001b[1m0s\u001b[0m 57ms/step - loss: 39.2593\n",
            "Epoch 509: ReduceLROnPlateau reducing learning rate to 1.0000000656873453e-06.\n",
            "\u001b[1m5/5\u001b[0m \u001b[32m━━━━━━━━━━━━━━━━━━━━\u001b[0m\u001b[37m\u001b[0m \u001b[1m1s\u001b[0m 57ms/step - loss: 33.6398 - val_loss: 4.0348 - learning_rate: 1.0000e-05\n",
            "CPU times: user 3min 46s, sys: 7.84 s, total: 3min 54s\n",
            "Wall time: 4min 36s\n"
          ]
        },
        {
          "output_type": "execute_result",
          "data": {
            "text/plain": [
              "<keras.src.callbacks.history.History at 0x78898b8e57d0>"
            ]
          },
          "metadata": {},
          "execution_count": 57
        }
      ],
      "source": [
        "%%time\n",
        "import tensorflow as tf\n",
        "from tensorflow.keras import layers\n",
        "tf.random.set_seed(42)\n",
        "\n",
        "nbeats_block_layer=NBeatsBlock(input_size=INPUT_SIZE,\n",
        "                               theta_size=THETA_SIZE,\n",
        "                               horizon=HORIZON,\n",
        "                               n_neurons=N_NEURONS,\n",
        "                               n_layers=N_LAYERS)\n",
        "\n",
        "stack_input=layers.Input(shape=(INPUT_SIZE,),name=\"stack_input\")\n",
        "\n",
        "residuals,forecast=nbeats_block_layer(stack_input)\n",
        "\n",
        "for i,_ in enumerate(range(N_STACKS-1)):\n",
        "  backcast,block_forecast=NBeatsBlock(\n",
        "      input_size=INPUT_SIZE,\n",
        "      theta_size=THETA_SIZE,\n",
        "      horizon=HORIZON,\n",
        "      n_neurons=N_NEURONS,\n",
        "      n_layers=N_LAYERS,\n",
        "      name=f\"NBeatsBlock{i}\")(residuals)\n",
        "\n",
        "  residuals=layers.subtract([residuals,backcast],name=f\"Sub{i}\")\n",
        "  forecast=layers.add([forecast,block_forecast],name=f\"Add{i}\")\n",
        "\n",
        "model_g=tf.keras.Model(inputs=stack_input,outputs=forecast,name=\"NBeatsModel\")\n",
        "model_g.compile(loss=\"mae\",\n",
        "              optimizer=tf.keras.optimizers.Adam())\n",
        "model_g.fit(train_dataset,\n",
        "          epochs=N_EPOCHS,\n",
        "          validation_data=test_dataset,\n",
        "          verbose=1,\n",
        "          callbacks=[tf.keras.callbacks.EarlyStopping(monitor=\"val_loss\",\n",
        "                                                      patience=200,\n",
        "                                                      restore_best_weights=True),\n",
        "                     tf.keras.callbacks.ReduceLROnPlateau(monitor=\"val_loss\",\n",
        "                                                          patience=100,\n",
        "                                                          verbose=1)])\n"
      ]
    },
    {
      "cell_type": "code",
      "execution_count": null,
      "metadata": {
        "colab": {
          "base_uri": "https://localhost:8080/"
        },
        "id": "uh_EMk6v3w-9",
        "outputId": "df15b02c-521e-489a-e15b-81c36cff02d6"
      },
      "outputs": [
        {
          "output_type": "stream",
          "name": "stdout",
          "text": [
            "\u001b[1m2/2\u001b[0m \u001b[32m━━━━━━━━━━━━━━━━━━━━\u001b[0m\u001b[37m\u001b[0m \u001b[1m0s\u001b[0m 13ms/step - loss: 3.9504\n"
          ]
        },
        {
          "output_type": "execute_result",
          "data": {
            "text/plain": [
              "3.9959523677825928"
            ]
          },
          "metadata": {},
          "execution_count": 58
        }
      ],
      "source": [
        "model_g.evaluate(test_dataset)"
      ]
    },
    {
      "cell_type": "code",
      "execution_count": null,
      "metadata": {
        "id": "jjt0tC8JAUdz"
      },
      "outputs": [],
      "source": [
        "def make_preds(model,input_data):\n",
        "  forecast=model.predict(input_data)\n",
        "  return forecast"
      ]
    },
    {
      "cell_type": "code",
      "execution_count": null,
      "metadata": {
        "colab": {
          "base_uri": "https://localhost:8080/"
        },
        "id": "yUcw6cKLAlZ3",
        "outputId": "1c43aca4-cb92-4bfd-f047-baa10234c1e0"
      },
      "outputs": [
        {
          "output_type": "stream",
          "name": "stdout",
          "text": [
            "\u001b[1m2/2\u001b[0m \u001b[32m━━━━━━━━━━━━━━━━━━━━\u001b[0m\u001b[37m\u001b[0m \u001b[1m6s\u001b[0m 3s/step\n"
          ]
        },
        {
          "output_type": "execute_result",
          "data": {
            "text/plain": [
              "array([[484.66635],\n",
              "       [482.18405],\n",
              "       [482.34534],\n",
              "       ...,\n",
              "       [485.03992],\n",
              "       [489.0196 ],\n",
              "       [490.6689 ]], dtype=float32)"
            ]
          },
          "metadata": {},
          "execution_count": 60
        }
      ],
      "source": [
        "model_g_preds=make_preds(model_g,test_dataset)\n",
        "model_g_preds"
      ]
    },
    {
      "cell_type": "code",
      "execution_count": null,
      "metadata": {
        "id": "nU5SnRGKArHZ"
      },
      "outputs": [],
      "source": [
        "def mean_absolute_scaled_error(y_true, y_pred):\n",
        "  mae_instance = tf.keras.metrics.MeanAbsoluteError()\n",
        "  mae = mae_instance(y_true, y_pred)\n",
        "\n",
        "  mae_naive_instance = tf.keras.metrics.MeanAbsoluteError()\n",
        "  mae_naive = mae_naive_instance(y_true[1:], y_pred[:-1])\n",
        "\n",
        "  return mae / mae_naive"
      ]
    },
    {
      "cell_type": "code",
      "execution_count": null,
      "metadata": {
        "id": "iJEIXyrZmkMM"
      },
      "outputs": [],
      "source": [
        "def smape(y_true,y_pred):\n",
        "  smape=tf.math.scalar_mul(200,tf.math.divide(tf.math.abs(tf.math.subtract(y_true,y_pred)),tf.math.add(y_true,y_pred)))\n",
        "  smape=tf.math.reduce_mean(smape)\n",
        "  return smape"
      ]
    },
    {
      "cell_type": "code",
      "execution_count": null,
      "metadata": {
        "id": "UdoZ6afHCM2e"
      },
      "outputs": [],
      "source": [
        "def evaluate_preds(y_true,y_pred):\n",
        "  y_true=tf.cast(y_true,tf.float32)\n",
        "  y_pred=tf.cast(y_pred,tf.float32)\n",
        "\n",
        "  mae=tf.keras.metrics.MeanAbsoluteError()(y_true,y_pred)\n",
        "  mse=tf.keras.metrics.MeanSquaredError()(y_true,y_pred)\n",
        "  rmse=tf.sqrt(mse)\n",
        "  mape=tf.keras.metrics.MeanAbsolutePercentageError()(y_true,y_pred)\n",
        "  mase = mean_absolute_scaled_error(y_true, y_pred)\n",
        "  sMAPE=smape(y_true,y_pred)\n",
        "\n",
        "\n",
        "  return {\"mae\":mae.numpy(),\n",
        "          \"mse\":mse.numpy(),\n",
        "          \"rmse\":rmse.numpy(),\n",
        "          \"mape\":mape.numpy(),\n",
        "          \"mase\":mase.numpy(),\n",
        "          \"smape\":sMAPE.numpy()}"
      ]
    },
    {
      "cell_type": "code",
      "execution_count": null,
      "metadata": {
        "colab": {
          "base_uri": "https://localhost:8080/"
        },
        "id": "yc-b_ODxEBEZ",
        "outputId": "6c4c6c3f-a12b-4a72-be32-d3bcc570c1ea"
      },
      "outputs": [
        {
          "data": {
            "text/plain": [
              "((1060,), 1)"
            ]
          },
          "execution_count": 29,
          "metadata": {},
          "output_type": "execute_result"
        }
      ],
      "source": [
        "y_test.shape,y_test.ndim"
      ]
    },
    {
      "cell_type": "code",
      "execution_count": null,
      "metadata": {
        "colab": {
          "base_uri": "https://localhost:8080/"
        },
        "id": "Zd4g4JXqEHqa",
        "outputId": "cf313a4d-126e-49df-b6a5-a913eab89c54"
      },
      "outputs": [
        {
          "data": {
            "text/plain": [
              "((1060, 1), 2)"
            ]
          },
          "execution_count": 30,
          "metadata": {},
          "output_type": "execute_result"
        }
      ],
      "source": [
        "model_g_preds.shape,model_g_preds.ndim"
      ]
    },
    {
      "cell_type": "code",
      "execution_count": null,
      "metadata": {
        "colab": {
          "base_uri": "https://localhost:8080/"
        },
        "id": "3O1S99cQDm4q",
        "outputId": "addb544c-de6a-4235-8f11-32eea69e2157"
      },
      "outputs": [
        {
          "data": {
            "text/plain": [
              "{'mae': 4.0258403,\n",
              " 'mse': 102.44779,\n",
              " 'rmse': 10.12165,\n",
              " 'mape': 1.3250502,\n",
              " 'mase': 0.6805758,\n",
              " 'smape': 1.289169}"
            ]
          },
          "execution_count": 31,
          "metadata": {},
          "output_type": "execute_result"
        }
      ],
      "source": [
        "model_g_results=evaluate_preds(y_test,tf.squeeze(model_g_preds))\n",
        "model_g_results"
      ]
    },
    {
      "cell_type": "markdown",
      "metadata": {
        "id": "MTInKE9O08A-"
      },
      "source": [
        "#NBeats Interpretable"
      ]
    },
    {
      "cell_type": "code",
      "execution_count": null,
      "metadata": {
        "id": "dKYmvlgfrvDg"
      },
      "outputs": [],
      "source": [
        "import tensorflow as tf\n",
        "from tensorflow import keras\n",
        "from tensorflow.keras import layers\n",
        "import numpy as np\n",
        "tf.random.set_seed(42)"
      ]
    },
    {
      "cell_type": "code",
      "execution_count": null,
      "metadata": {
        "id": "dZmq4WzoOAFL"
      },
      "outputs": [],
      "source": [
        "trend_params = {\n",
        "    'width': 256,\n",
        "    'degree': 2,\n",
        "    'num_blocks': 3,\n",
        "    'num_block_layers': 4\n",
        "}\n",
        "\n",
        "seasonality_params = {\n",
        "    'width': 2048,\n",
        "    'harmonics': 4,\n",
        "    'num_blocks': 3,\n",
        "    'num_block_layers': 4\n",
        "}\n",
        "\n",
        "batch_size=1024\n",
        "window_size=7\n",
        "horizon=1\n"
      ]
    },
    {
      "cell_type": "markdown",
      "metadata": {
        "id": "BX-dpdEsFryx"
      },
      "source": [
        "###Define the basis expansion function"
      ]
    },
    {
      "cell_type": "code",
      "execution_count": null,
      "metadata": {
        "id": "1QrQ71nzF01o"
      },
      "outputs": [],
      "source": [
        "def polynomial_basis(x,degree):\n",
        "  x=tf.expand_dims(x,axis=-1)\n",
        "  powers=tf.range(degree+1,dtype=tf.float32)\n",
        "  return tf.pow(x,powers)\n",
        "\n",
        "\n",
        "def fourier_basis(x,harmonics):\n",
        "  x=tf.expand_dims(x,axis=-1)\n",
        "  sin_terms=[tf.sin(2*np.pi*x*i) for i in range(0,harmonics)]\n",
        "  cos_terms=[tf.cos(2*np.pi*x*i) for i in range(0,harmonics)]\n",
        "  return tf.concat(sin_terms+cos_terms, axis=-1)"
      ]
    },
    {
      "cell_type": "code",
      "execution_count": null,
      "metadata": {
        "id": "WiyJ4kpCH0vx"
      },
      "outputs": [],
      "source": [
        "class TrendBlock(layers.Layer):\n",
        "  def __init__(self,\n",
        "               width,\n",
        "               degree,\n",
        "               num_blocks,\n",
        "               num_block_layers):\n",
        "    super(TrendBlock,self).__init__()\n",
        "    self.num_blocks=num_blocks\n",
        "    self.num_block_layers=num_block_layers\n",
        "    self.degree=degree\n",
        "    self.blocks=[self.build_block(width) for _ in range(num_blocks)]\n",
        "\n",
        "  def build_block(self,width):\n",
        "    return keras.Sequential([layers.Dense(width,activation=\"relu\") for _ in range(self.num_block_layers)]+\n",
        "                            [layers.Dense(self.degree+1,activation=None)])\n",
        "\n",
        "  def call(self,inputs):\n",
        "    trend_forecast=tf.zeros([tf.shape(inputs)[0],tf.shape(inputs)[1],self.degree+1],dtype=tf.float32)\n",
        "    for block in self.blocks:\n",
        "      block_output= tf.expand_dims(block(inputs),axis=1)\n",
        "      trend_forecast+= polynomial_basis(inputs,self.degree) * block_output\n",
        "    trend_forecast= tf.reduce_sum(trend_forecast,axis=-1)\n",
        "    return tf.reduce_mean(trend_forecast,axis=-1)"
      ]
    },
    {
      "cell_type": "code",
      "execution_count": null,
      "metadata": {
        "id": "WwaaTGfyJ-Gz"
      },
      "outputs": [],
      "source": [
        "class SeasonalityBlock(layers.Layer):\n",
        "  def __init__(self,\n",
        "               width,\n",
        "               harmonics,\n",
        "               num_blocks,\n",
        "               num_block_layers):\n",
        "    super(SeasonalityBlock,self).__init__()\n",
        "    self.num_blocks=num_blocks\n",
        "    self.num_block_layers= num_block_layers\n",
        "    self.harmonics=harmonics\n",
        "    self.blocks= [self.build_block(width) for _ in range(num_blocks)]\n",
        "\n",
        "  def build_block(self,width):\n",
        "    return keras.Sequential([layers.Dense(width,activation=\"relu\") for _ in range(self.num_block_layers)]+\n",
        "\n",
        "                            [layers.Dense(2* self.harmonics,activation = None)])\n",
        "\n",
        "  def call(self,inputs):\n",
        "    seasonality_forecast = tf.zeros([tf.shape(inputs)[0],tf.shape(inputs)[1],2 * self.harmonics],dtype=tf.float32)\n",
        "    for block in self.blocks:\n",
        "      block_output = tf.expand_dims(block(inputs),axis=1)\n",
        "      seasonality_forecast+= fourier_basis(inputs,self.harmonics) * block_output\n",
        "    seasonality_forecast = tf.reduce_sum(seasonality_forecast, axis=-1)\n",
        "    return tf.reduce_mean(seasonality_forecast,axis=-1)"
      ]
    },
    {
      "cell_type": "markdown",
      "metadata": {
        "id": "78eQ9Iw4MJgq"
      },
      "source": [
        "###Define NBeats Model"
      ]
    },
    {
      "cell_type": "code",
      "execution_count": null,
      "metadata": {
        "id": "KB6_jQdbMP7T"
      },
      "outputs": [],
      "source": [
        "class NBeatsInterpretableModel(keras.Model):\n",
        "  def __init__(self,\n",
        "               trend_params, seasonality_params):\n",
        "    super(NBeatsInterpretableModel,self).__init__()\n",
        "    self.trend_stack= TrendBlock(**trend_params)\n",
        "    self.seasonality_stack=SeasonalityBlock(**seasonality_params)\n",
        "\n",
        "  def call(self,inputs):\n",
        "    trend_forecast =self.trend_stack(inputs)\n",
        "    seasonality_forecast= self.seasonality_stack(inputs)\n",
        "    return trend_forecast + seasonality_forecast"
      ]
    },
    {
      "cell_type": "code",
      "execution_count": null,
      "metadata": {
        "colab": {
          "base_uri": "https://localhost:8080/"
        },
        "id": "WwI7EHCGN9aG",
        "outputId": "2f680674-28d8-4fbe-f644-bd2786e85170"
      },
      "outputs": [
        {
          "output_type": "stream",
          "name": "stdout",
          "text": [
            "\n",
            "Epoch 405: ReduceLROnPlateau reducing learning rate to 0.00010000000474974513.\n",
            "\n",
            "Epoch 586: ReduceLROnPlateau reducing learning rate to 1.0000000474974514e-05.\n",
            "\n",
            "Epoch 778: ReduceLROnPlateau reducing learning rate to 1.0000000656873453e-06.\n",
            "\n",
            "Epoch 878: ReduceLROnPlateau reducing learning rate to 1.0000001111620805e-07.\n"
          ]
        },
        {
          "output_type": "execute_result",
          "data": {
            "text/plain": [
              "<keras.src.callbacks.history.History at 0x788863f457d0>"
            ]
          },
          "metadata": {},
          "execution_count": 68
        }
      ],
      "source": [
        "model_i = NBeatsInterpretableModel(trend_params, seasonality_params)\n",
        "\n",
        "model_i.compile(loss=\"mae\",\n",
        "                optimizer=\"adam\")\n",
        "\n",
        "model_i.fit(train_dataset,\n",
        "            epochs=N_EPOCHS,\n",
        "            validation_data=test_dataset,\n",
        "            verbose=0,\n",
        "            callbacks=[tf.keras.callbacks.EarlyStopping(monitor=\"val_loss\",\n",
        "                                                        patience=200,\n",
        "                                                        restore_best_weights=True),\n",
        "                       tf.keras.callbacks.ReduceLROnPlateau(monitor=\"val_loss\",\n",
        "                                                            patience=100,\n",
        "                                                            verbose=1)])"
      ]
    },
    {
      "cell_type": "code",
      "execution_count": null,
      "metadata": {
        "colab": {
          "base_uri": "https://localhost:8080/"
        },
        "id": "M-itNJjyIM9Q",
        "outputId": "2b280dd4-289d-45ad-b378-07bd010f18e9"
      },
      "outputs": [
        {
          "output_type": "stream",
          "name": "stdout",
          "text": [
            "\u001b[1m2/2\u001b[0m \u001b[32m━━━━━━━━━━━━━━━━━━━━\u001b[0m\u001b[37m\u001b[0m \u001b[1m0s\u001b[0m 9ms/step - loss: 367.5486 \n"
          ]
        },
        {
          "output_type": "execute_result",
          "data": {
            "text/plain": [
              "377.3743591308594"
            ]
          },
          "metadata": {},
          "execution_count": 28
        }
      ],
      "source": [
        "model_i.evaluate(test_dataset)"
      ]
    },
    {
      "cell_type": "code",
      "execution_count": null,
      "metadata": {
        "colab": {
          "base_uri": "https://localhost:8080/"
        },
        "id": "f1b8gIYARQqY",
        "outputId": "49afe62f-6477-4363-c861-0cb2356008ce"
      },
      "outputs": [
        {
          "output_type": "stream",
          "name": "stdout",
          "text": [
            "\u001b[1m2/2\u001b[0m \u001b[32m━━━━━━━━━━━━━━━━━━━━\u001b[0m\u001b[37m\u001b[0m \u001b[1m2s\u001b[0m 882ms/step\n"
          ]
        },
        {
          "output_type": "execute_result",
          "data": {
            "text/plain": [
              "array([ 330.64093, 1098.0575 , 1165.5836 , ..., 1985.7333 , -134.77638,\n",
              "       1799.0635 ], dtype=float32)"
            ]
          },
          "metadata": {},
          "execution_count": 34
        }
      ],
      "source": [
        "model_i_preds=make_preds(model_i,test_dataset)\n",
        "model_i_preds"
      ]
    },
    {
      "cell_type": "code",
      "execution_count": null,
      "metadata": {
        "colab": {
          "base_uri": "https://localhost:8080/"
        },
        "id": "RtrkiJ88YQtm",
        "outputId": "ff37e1ff-4581-45fe-d8e3-3ac04664d072"
      },
      "outputs": [
        {
          "output_type": "execute_result",
          "data": {
            "text/plain": [
              "{'mae': 377.37442,\n",
              " 'mse': 2272264.5,\n",
              " 'rmse': 1507.4032,\n",
              " 'mape': 119.829575,\n",
              " 'mase': 1.0018103,\n",
              " 'smape': 74.0393}"
            ]
          },
          "metadata": {},
          "execution_count": 35
        }
      ],
      "source": [
        "model_i_results=evaluate_preds(y_test,tf.squeeze(model_i_preds))\n",
        "model_i_results"
      ]
    },
    {
      "cell_type": "markdown",
      "metadata": {
        "id": "YZq1vvTwg8yV"
      },
      "source": [
        "Ensemble_G"
      ]
    },
    {
      "cell_type": "code",
      "execution_count": null,
      "metadata": {
        "id": "WUgplQhXmtNm"
      },
      "outputs": [],
      "source": [
        "from tensorflow.keras import layers,Model"
      ]
    },
    {
      "cell_type": "code",
      "execution_count": null,
      "metadata": {
        "id": "AIk_LAk0QBjQ"
      },
      "outputs": [],
      "source": [
        "import tensorflow as tf\n",
        "from tensorflow.keras.losses import Loss\n",
        "\n",
        "class SMAPE(Loss):\n",
        "    def __init__(self, **kwargs):\n",
        "        super(SMAPE, self).__init__(**kwargs)\n",
        "\n",
        "    def call(self, y_true, y_pred):\n",
        "        epsilon = tf.keras.backend.epsilon()\n",
        "        numerator = tf.abs(y_true - y_pred)\n",
        "        denominator = tf.abs(y_true) + tf.abs(y_pred) + epsilon\n",
        "        smape = tf.reduce_mean(numerator / denominator)\n",
        "        return smape\n",
        "class MASE(Loss):\n",
        "    def __init__(self, seasonal_period=1, **kwargs):\n",
        "        super(MASE, self).__init__(**kwargs)\n",
        "        self.seasonal_period = seasonal_period\n",
        "\n",
        "    def call(self, y_true, y_pred):\n",
        "        epsilon = tf.keras.backend.epsilon()\n",
        "\n",
        "\n",
        "        naive_forecast = tf.roll(y_true, shift=self.seasonal_period, axis=0)\n",
        "        naive_errors = tf.abs(y_true - naive_forecast)\n",
        "        mae_naive = tf.reduce_mean(naive_errors)\n",
        "\n",
        "        errors = tf.abs(y_true - y_pred)\n",
        "        mae_model = tf.reduce_mean(errors)\n",
        "\n",
        "        mase = mae_model / (mae_naive + epsilon)\n",
        "        return mase\n"
      ]
    },
    {
      "cell_type": "code",
      "execution_count": null,
      "metadata": {
        "id": "P1acq-y9hfif"
      },
      "outputs": [],
      "source": [
        "def get_ensemble_models(horizon=HORIZON,\n",
        "                        train_data=train_dataset,\n",
        "                        test_data=test_dataset,\n",
        "                        num_iter=10,\n",
        "                        num_epochs=10,\n",
        "                        loss_fns=[MASE(), \"mape\",SMAPE()]):\n",
        "\n",
        "\n",
        "  ensemble_models = []\n",
        "\n",
        "\n",
        "  for i in range(num_iter):\n",
        "    for loss_function in loss_fns:\n",
        "      print(f\"Optimizing model by reducing: {loss_function} for {num_epochs} epochs, model number: {i}\")\n",
        "\n",
        "\n",
        "\n",
        "      model_g.compile(loss=loss_function,\n",
        "                    optimizer=tf.keras.optimizers.Adam(),\n",
        "                    metrics=[\"mae\", \"mse\"])\n",
        "\n",
        "\n",
        "      model_g.fit(train_data,\n",
        "                epochs=num_epochs,\n",
        "                verbose=0,\n",
        "                validation_data=test_data,\n",
        "                callbacks=[tf.keras.callbacks.EarlyStopping(monitor=\"val_loss\",\n",
        "                                                            patience=200,\n",
        "                                                            restore_best_weights=True),\n",
        "                           tf.keras.callbacks.ReduceLROnPlateau(monitor=\"val_loss\",\n",
        "                                                                patience=100,\n",
        "                                                                verbose=1)])\n",
        "\n",
        "\n",
        "      ensemble_models.append(model_g)\n",
        "\n",
        "  return ensemble_models"
      ]
    },
    {
      "cell_type": "code",
      "execution_count": null,
      "metadata": {
        "id": "FVXPtXsil9HW",
        "colab": {
          "base_uri": "https://localhost:8080/"
        },
        "outputId": "997c8c27-7361-425e-dfd2-ad8c7b3469ad"
      },
      "outputs": [
        {
          "output_type": "stream",
          "name": "stdout",
          "text": [
            "Optimizing model by reducing: <__main__.MASE object at 0x788a1f824210> for 10 epochs, model number: 0\n",
            "Optimizing model by reducing: mape for 10 epochs, model number: 0\n",
            "Optimizing model by reducing: <__main__.SMAPE object at 0x788a1f84f750> for 10 epochs, model number: 0\n",
            "Optimizing model by reducing: <__main__.MASE object at 0x788a1f824210> for 10 epochs, model number: 1\n",
            "Optimizing model by reducing: mape for 10 epochs, model number: 1\n",
            "Optimizing model by reducing: <__main__.SMAPE object at 0x788a1f84f750> for 10 epochs, model number: 1\n"
          ]
        }
      ],
      "source": [
        "ensemble_models=get_ensemble_models(num_iter=2,\n",
        "                                    num_epochs=10)"
      ]
    },
    {
      "cell_type": "code",
      "execution_count": null,
      "metadata": {
        "id": "L0QWVlZ-mpHM",
        "colab": {
          "base_uri": "https://localhost:8080/"
        },
        "outputId": "84c1cd66-d2a4-49e1-c6d0-0ca7f0884059"
      },
      "outputs": [
        {
          "output_type": "execute_result",
          "data": {
            "text/plain": [
              "6"
            ]
          },
          "metadata": {},
          "execution_count": 33
        }
      ],
      "source": [
        "len(ensemble_models)"
      ]
    },
    {
      "cell_type": "code",
      "execution_count": null,
      "metadata": {
        "id": "KtKpxbPKsQpC",
        "colab": {
          "base_uri": "https://localhost:8080/"
        },
        "outputId": "3dcc4b27-cbe3-4e36-edee-43a60a8e4b09"
      },
      "outputs": [
        {
          "output_type": "execute_result",
          "data": {
            "text/plain": [
              "[<Functional name=NBeatsModel, built=True>,\n",
              " <Functional name=NBeatsModel, built=True>,\n",
              " <Functional name=NBeatsModel, built=True>,\n",
              " <Functional name=NBeatsModel, built=True>,\n",
              " <Functional name=NBeatsModel, built=True>,\n",
              " <Functional name=NBeatsModel, built=True>]"
            ]
          },
          "metadata": {},
          "execution_count": 34
        }
      ],
      "source": [
        "ensemble_models"
      ]
    },
    {
      "cell_type": "code",
      "execution_count": null,
      "metadata": {
        "id": "60YmIAPAoZRA"
      },
      "outputs": [],
      "source": [
        "def make_ensemble_preds(ensemble_models,data):\n",
        "  ensemble_preds=[]\n",
        "  for  model in ensemble_models:\n",
        "    preds=model.predict(data)\n",
        "    ensemble_preds.append(preds)\n",
        "  return tf.constant(tf.squeeze(ensemble_preds))"
      ]
    },
    {
      "cell_type": "code",
      "execution_count": null,
      "metadata": {
        "id": "TNrpXwWxsoVs",
        "colab": {
          "base_uri": "https://localhost:8080/"
        },
        "outputId": "d2484f00-c991-49b6-8680-42cbeb45456e"
      },
      "outputs": [
        {
          "output_type": "stream",
          "name": "stdout",
          "text": [
            "\u001b[1m2/2\u001b[0m \u001b[32m━━━━━━━━━━━━━━━━━━━━\u001b[0m\u001b[37m\u001b[0m \u001b[1m6s\u001b[0m 3s/step\n",
            "\u001b[1m2/2\u001b[0m \u001b[32m━━━━━━━━━━━━━━━━━━━━\u001b[0m\u001b[37m\u001b[0m \u001b[1m0s\u001b[0m 28ms/step\n",
            "\u001b[1m2/2\u001b[0m \u001b[32m━━━━━━━━━━━━━━━━━━━━\u001b[0m\u001b[37m\u001b[0m \u001b[1m0s\u001b[0m 27ms/step\n",
            "\u001b[1m2/2\u001b[0m \u001b[32m━━━━━━━━━━━━━━━━━━━━\u001b[0m\u001b[37m\u001b[0m \u001b[1m0s\u001b[0m 28ms/step\n",
            "\u001b[1m2/2\u001b[0m \u001b[32m━━━━━━━━━━━━━━━━━━━━\u001b[0m\u001b[37m\u001b[0m \u001b[1m0s\u001b[0m 24ms/step\n",
            "\u001b[1m2/2\u001b[0m \u001b[32m━━━━━━━━━━━━━━━━━━━━\u001b[0m\u001b[37m\u001b[0m \u001b[1m0s\u001b[0m 25ms/step\n"
          ]
        },
        {
          "output_type": "execute_result",
          "data": {
            "text/plain": [
              "<tf.Tensor: shape=(6, 1060), dtype=float32, numpy=\n",
              "array([[474.7695 , 475.2003 , 476.158  , ..., 472.92468, 476.97528,\n",
              "        478.02728],\n",
              "       [474.7695 , 475.2003 , 476.158  , ..., 472.92468, 476.97528,\n",
              "        478.02728],\n",
              "       [474.7695 , 475.2003 , 476.158  , ..., 472.92468, 476.97528,\n",
              "        478.02728],\n",
              "       [474.7695 , 475.2003 , 476.158  , ..., 472.92468, 476.97528,\n",
              "        478.02728],\n",
              "       [474.7695 , 475.2003 , 476.158  , ..., 472.92468, 476.97528,\n",
              "        478.02728],\n",
              "       [474.7695 , 475.2003 , 476.158  , ..., 472.92468, 476.97528,\n",
              "        478.02728]], dtype=float32)>"
            ]
          },
          "metadata": {},
          "execution_count": 36
        }
      ],
      "source": [
        "ensemble_preds=make_ensemble_preds(ensemble_models=ensemble_models,\n",
        "                                   data=test_dataset)\n",
        "ensemble_preds"
      ]
    },
    {
      "cell_type": "code",
      "execution_count": null,
      "metadata": {
        "id": "NTc8Vjk5s7A7",
        "colab": {
          "base_uri": "https://localhost:8080/"
        },
        "outputId": "e2761a70-5cc0-445c-c073-f76baaff89fe"
      },
      "outputs": [
        {
          "output_type": "execute_result",
          "data": {
            "text/plain": [
              "6"
            ]
          },
          "metadata": {},
          "execution_count": 37
        }
      ],
      "source": [
        "len(ensemble_preds)"
      ]
    },
    {
      "cell_type": "code",
      "execution_count": null,
      "metadata": {
        "id": "oM08tiMLtShw",
        "colab": {
          "base_uri": "https://localhost:8080/"
        },
        "outputId": "260e38ee-d7f3-4e65-c9e8-74942abb4852"
      },
      "outputs": [
        {
          "output_type": "execute_result",
          "data": {
            "text/plain": [
              "<tf.Tensor: shape=(1060,), dtype=float32, numpy=\n",
              "array([474.7695, 475.2003, 476.158 , ..., 472.9247, 476.9753, 478.0273],\n",
              "      dtype=float32)>"
            ]
          },
          "metadata": {},
          "execution_count": 38
        }
      ],
      "source": [
        "ensemble_mean=tf.reduce_mean(ensemble_preds,axis=0)\n",
        "ensemble_mean"
      ]
    },
    {
      "cell_type": "code",
      "execution_count": null,
      "metadata": {
        "id": "ih-_LGDxuopK",
        "colab": {
          "base_uri": "https://localhost:8080/",
          "height": 489
        },
        "outputId": "2d0ef510-97b0-4366-acfd-7ffb0331febc"
      },
      "outputs": [
        {
          "output_type": "execute_result",
          "data": {
            "text/plain": [
              "Date\n",
              "2017-01-17    482.40\n",
              "2017-01-18    482.95\n",
              "2017-01-19    479.00\n",
              "2017-01-20    477.90\n",
              "2017-01-23    479.75\n",
              "               ...  \n",
              "2021-04-26    480.30\n",
              "2021-04-27    485.05\n",
              "2021-04-28    489.30\n",
              "2021-04-29    489.85\n",
              "2021-04-30    492.75\n",
              "Name: Closing Price, Length: 1060, dtype: float64"
            ],
            "text/html": [
              "<div>\n",
              "<style scoped>\n",
              "    .dataframe tbody tr th:only-of-type {\n",
              "        vertical-align: middle;\n",
              "    }\n",
              "\n",
              "    .dataframe tbody tr th {\n",
              "        vertical-align: top;\n",
              "    }\n",
              "\n",
              "    .dataframe thead th {\n",
              "        text-align: right;\n",
              "    }\n",
              "</style>\n",
              "<table border=\"1\" class=\"dataframe\">\n",
              "  <thead>\n",
              "    <tr style=\"text-align: right;\">\n",
              "      <th></th>\n",
              "      <th>Closing Price</th>\n",
              "    </tr>\n",
              "    <tr>\n",
              "      <th>Date</th>\n",
              "      <th></th>\n",
              "    </tr>\n",
              "  </thead>\n",
              "  <tbody>\n",
              "    <tr>\n",
              "      <th>2017-01-17</th>\n",
              "      <td>482.40</td>\n",
              "    </tr>\n",
              "    <tr>\n",
              "      <th>2017-01-18</th>\n",
              "      <td>482.95</td>\n",
              "    </tr>\n",
              "    <tr>\n",
              "      <th>2017-01-19</th>\n",
              "      <td>479.00</td>\n",
              "    </tr>\n",
              "    <tr>\n",
              "      <th>2017-01-20</th>\n",
              "      <td>477.90</td>\n",
              "    </tr>\n",
              "    <tr>\n",
              "      <th>2017-01-23</th>\n",
              "      <td>479.75</td>\n",
              "    </tr>\n",
              "    <tr>\n",
              "      <th>...</th>\n",
              "      <td>...</td>\n",
              "    </tr>\n",
              "    <tr>\n",
              "      <th>2021-04-26</th>\n",
              "      <td>480.30</td>\n",
              "    </tr>\n",
              "    <tr>\n",
              "      <th>2021-04-27</th>\n",
              "      <td>485.05</td>\n",
              "    </tr>\n",
              "    <tr>\n",
              "      <th>2021-04-28</th>\n",
              "      <td>489.30</td>\n",
              "    </tr>\n",
              "    <tr>\n",
              "      <th>2021-04-29</th>\n",
              "      <td>489.85</td>\n",
              "    </tr>\n",
              "    <tr>\n",
              "      <th>2021-04-30</th>\n",
              "      <td>492.75</td>\n",
              "    </tr>\n",
              "  </tbody>\n",
              "</table>\n",
              "<p>1060 rows × 1 columns</p>\n",
              "</div><br><label><b>dtype:</b> float64</label>"
            ]
          },
          "metadata": {},
          "execution_count": 39
        }
      ],
      "source": [
        "y_test"
      ]
    },
    {
      "cell_type": "code",
      "execution_count": null,
      "metadata": {
        "id": "BWKJAPeuvBrl"
      },
      "outputs": [],
      "source": [
        "ensemble_results=evaluate_preds(y_true=y_test,\n",
        "                                y_pred=ensemble_mean)"
      ]
    },
    {
      "cell_type": "code",
      "execution_count": null,
      "metadata": {
        "id": "Sla75c7RwlE7",
        "colab": {
          "base_uri": "https://localhost:8080/"
        },
        "outputId": "a481e91a-4feb-43d0-8dff-a74792ec03e3"
      },
      "outputs": [
        {
          "output_type": "execute_result",
          "data": {
            "text/plain": [
              "{'mae': 21.471119,\n",
              " 'mse': 667.9495,\n",
              " 'rmse': 25.844719,\n",
              " 'mape': 7.924661,\n",
              " 'mase': 0.97696507,\n",
              " 'smape': 7.468655}"
            ]
          },
          "metadata": {},
          "execution_count": 48
        }
      ],
      "source": [
        "ensemble_results"
      ]
    },
    {
      "cell_type": "code",
      "execution_count": null,
      "metadata": {
        "id": "Uf7uV1yExSCP"
      },
      "outputs": [],
      "source": [
        "import numpy as np"
      ]
    },
    {
      "cell_type": "code",
      "execution_count": null,
      "metadata": {
        "id": "r1JK8JQiwm8X",
        "colab": {
          "base_uri": "https://localhost:8080/"
        },
        "outputId": "4d3aa6aa-468f-44d8-f6d4-f78120738c7a"
      },
      "outputs": [
        {
          "output_type": "execute_result",
          "data": {
            "text/plain": [
              "(array([474.7695 , 475.2003 , 476.158  , ..., 472.92468, 476.97528,\n",
              "        478.02728], dtype=float32),\n",
              " 1060)"
            ]
          },
          "metadata": {},
          "execution_count": 50
        }
      ],
      "source": [
        "ensemble_median=np.median(ensemble_preds,axis=0)\n",
        "ensemble_median,len(ensemble_median)"
      ]
    },
    {
      "cell_type": "code",
      "execution_count": null,
      "metadata": {
        "id": "9gz25z9qxPj8"
      },
      "outputs": [],
      "source": [
        "ensemble_results=evaluate_preds(y_true=y_test,\n",
        "                                y_pred=ensemble_median)"
      ]
    },
    {
      "cell_type": "code",
      "execution_count": null,
      "metadata": {
        "id": "KocgdrsPxwWH",
        "colab": {
          "base_uri": "https://localhost:8080/"
        },
        "outputId": "8e4ce3f4-52c7-4221-ad90-44f2c17cf9c9"
      },
      "outputs": [
        {
          "output_type": "execute_result",
          "data": {
            "text/plain": [
              "{'mae': 21.471119,\n",
              " 'mse': 667.9495,\n",
              " 'rmse': 25.844719,\n",
              " 'mape': 7.924661,\n",
              " 'mase': 0.97696507,\n",
              " 'smape': 7.468655}"
            ]
          },
          "metadata": {},
          "execution_count": 52
        }
      ],
      "source": [
        "ensemble_results"
      ]
    },
    {
      "cell_type": "markdown",
      "metadata": {
        "id": "zwy4ts6dxyTm"
      },
      "source": [
        "#Test case 2\n"
      ]
    },
    {
      "cell_type": "code",
      "execution_count": null,
      "metadata": {
        "id": "Z4qxukRMkOoz"
      },
      "outputs": [],
      "source": [
        "%%time\n",
        "ensemble_models=get_ensemble_models(num_iter=3,\n",
        "                                    num_epochs=10)"
      ]
    },
    {
      "cell_type": "code",
      "execution_count": null,
      "metadata": {
        "id": "r1tnHepFkRdT"
      },
      "outputs": [],
      "source": [
        "len(ensemble_models)"
      ]
    },
    {
      "cell_type": "code",
      "execution_count": null,
      "metadata": {
        "id": "Q0OzPcnNm_3Y"
      },
      "outputs": [],
      "source": [
        "ensemble_models"
      ]
    },
    {
      "cell_type": "code",
      "execution_count": null,
      "metadata": {
        "id": "8Nh5H7AvnBvP"
      },
      "outputs": [],
      "source": [
        "%%time\n",
        "ensemble_preds=make_ensemble_preds(ensemble_models=ensemble_models,\n",
        "                                   data=test_dataset)\n",
        "ensemble_preds"
      ]
    },
    {
      "cell_type": "code",
      "execution_count": null,
      "metadata": {
        "id": "EsxCoYbDnHGN"
      },
      "outputs": [],
      "source": [
        "ensemble_mean=tf.reduce_mean(ensemble_preds,axis=0)\n",
        "ensemble_mean"
      ]
    },
    {
      "cell_type": "code",
      "execution_count": null,
      "metadata": {
        "id": "0GrdtyfwnVtm"
      },
      "outputs": [],
      "source": [
        "ensemble_results=evaluate_preds(y_true=y_test,\n",
        "                                y_pred=ensemble_mean)\n",
        "ensemble_results"
      ]
    },
    {
      "cell_type": "code",
      "execution_count": null,
      "metadata": {
        "id": "8IeyWydDncwX"
      },
      "outputs": [],
      "source": [
        "import numpy as np\n",
        "ensemble_median=np.median(ensemble_preds,axis=0)\n",
        "ensemble_median,len(ensemble_median)"
      ]
    },
    {
      "cell_type": "code",
      "execution_count": null,
      "metadata": {
        "id": "XXtuwVyHnq2Y"
      },
      "outputs": [],
      "source": [
        "ensemble_results=evaluate_preds(y_true=y_test,\n",
        "                                y_pred=ensemble_median)"
      ]
    },
    {
      "cell_type": "code",
      "execution_count": null,
      "metadata": {
        "id": "EYpPbY8kn24F"
      },
      "outputs": [],
      "source": [
        "ensemble_results"
      ]
    },
    {
      "cell_type": "markdown",
      "metadata": {
        "id": "qcuXJ7ibnp8q"
      },
      "source": [
        "Ensemble_I"
      ]
    },
    {
      "cell_type": "code",
      "execution_count": null,
      "metadata": {
        "id": "Dm1pBut-n5oU"
      },
      "outputs": [],
      "source": [
        "from tensorflow.keras import layers,Model"
      ]
    },
    {
      "cell_type": "code",
      "execution_count": null,
      "metadata": {
        "id": "t5vKTM_bn6Gu"
      },
      "outputs": [],
      "source": [
        "import tensorflow as tf\n",
        "from tensorflow.keras.losses import Loss\n",
        "\n",
        "class SMAPE(Loss):\n",
        "    def __init__(self, **kwargs):\n",
        "        super(SMAPE, self).__init__(**kwargs)\n",
        "\n",
        "    def call(self, y_true, y_pred):\n",
        "        epsilon = tf.keras.backend.epsilon()\n",
        "        numerator = tf.abs(y_true - y_pred)\n",
        "        denominator = tf.abs(y_true) + tf.abs(y_pred) + epsilon\n",
        "        smape = tf.reduce_mean(numerator / denominator)\n",
        "        return smape\n",
        "class MASE(Loss):\n",
        "    def __init__(self, seasonal_period=1, **kwargs):\n",
        "        super(MASE, self).__init__(**kwargs)\n",
        "        self.seasonal_period = seasonal_period\n",
        "\n",
        "    def call(self, y_true, y_pred):\n",
        "        epsilon = tf.keras.backend.epsilon()\n",
        "\n",
        "\n",
        "        naive_forecast = tf.roll(y_true, shift=self.seasonal_period, axis=0)\n",
        "        naive_errors = tf.abs(y_true - naive_forecast)\n",
        "        mae_naive = tf.reduce_mean(naive_errors)\n",
        "\n",
        "        errors = tf.abs(y_true - y_pred)\n",
        "        mae_model = tf.reduce_mean(errors)\n",
        "\n",
        "        mase = mae_model / (mae_naive + epsilon)\n",
        "        return mase\n"
      ]
    },
    {
      "cell_type": "code",
      "execution_count": null,
      "metadata": {
        "id": "lY6CD0rJn-4c"
      },
      "outputs": [],
      "source": [
        "def get_ensemble_models(horizon=HORIZON,\n",
        "                        train_data=train_dataset,\n",
        "                        test_data=test_dataset,\n",
        "                        num_iter=10,\n",
        "                        num_epochs=10,\n",
        "                        loss_fns=[MASE(), \"mape\",SMAPE()]):\n",
        "\n",
        "\n",
        "  ensemble_models = []\n",
        "\n",
        "\n",
        "  for i in range(num_iter):\n",
        "    for loss_function in loss_fns:\n",
        "      print(f\"Optimizing model by reducing: {loss_function} for {num_epochs} epochs, model number: {i}\")\n",
        "\n",
        "\n",
        "\n",
        "      model_i.compile(loss=loss_function,\n",
        "                    optimizer=tf.keras.optimizers.Adam(),\n",
        "                    metrics=[\"mae\", \"mse\"])\n",
        "\n",
        "\n",
        "      model_i.fit(train_data,\n",
        "                epochs=num_epochs,\n",
        "                verbose=0,\n",
        "                validation_data=test_data,\n",
        "                callbacks=[tf.keras.callbacks.EarlyStopping(monitor=\"val_loss\",\n",
        "                                                            patience=200,\n",
        "                                                            restore_best_weights=True),\n",
        "                           tf.keras.callbacks.ReduceLROnPlateau(monitor=\"val_loss\",\n",
        "                                                                patience=100,\n",
        "                                                                verbose=1)])\n",
        "\n",
        "\n",
        "      ensemble_models.append(model_i)\n",
        "\n",
        "  return ensemble_models"
      ]
    },
    {
      "cell_type": "code",
      "execution_count": null,
      "metadata": {
        "id": "57HkfvtOoQHZ",
        "colab": {
          "base_uri": "https://localhost:8080/"
        },
        "outputId": "a3f1b3aa-865b-43af-831c-3f57be6fc716"
      },
      "outputs": [
        {
          "output_type": "stream",
          "name": "stdout",
          "text": [
            "Optimizing model by reducing: <__main__.MASE object at 0x78883e4928d0> for 500 epochs, model number: 0\n",
            "\n",
            "Epoch 283: ReduceLROnPlateau reducing learning rate to 0.00010000000474974513.\n",
            "\n",
            "Epoch 482: ReduceLROnPlateau reducing learning rate to 1.0000000474974514e-05.\n",
            "Optimizing model by reducing: mape for 500 epochs, model number: 0\n",
            "\n",
            "Epoch 170: ReduceLROnPlateau reducing learning rate to 0.00010000000474974513.\n",
            "\n",
            "Epoch 302: ReduceLROnPlateau reducing learning rate to 1.0000000474974514e-05.\n",
            "Optimizing model by reducing: <__main__.SMAPE object at 0x788862135710> for 500 epochs, model number: 0\n",
            "\n",
            "Epoch 102: ReduceLROnPlateau reducing learning rate to 0.00010000000474974513.\n",
            "\n",
            "Epoch 202: ReduceLROnPlateau reducing learning rate to 1.0000000474974514e-05.\n",
            "Optimizing model by reducing: <__main__.MASE object at 0x78883e4928d0> for 500 epochs, model number: 1\n",
            "\n",
            "Epoch 105: ReduceLROnPlateau reducing learning rate to 0.00010000000474974513.\n",
            "\n",
            "Epoch 319: ReduceLROnPlateau reducing learning rate to 1.0000000474974514e-05.\n",
            "\n",
            "Epoch 419: ReduceLROnPlateau reducing learning rate to 1.0000000656873453e-06.\n",
            "Optimizing model by reducing: mape for 500 epochs, model number: 1\n",
            "\n",
            "Epoch 147: ReduceLROnPlateau reducing learning rate to 0.00010000000474974513.\n",
            "\n",
            "Epoch 374: ReduceLROnPlateau reducing learning rate to 1.0000000474974514e-05.\n",
            "Optimizing model by reducing: <__main__.SMAPE object at 0x788862135710> for 500 epochs, model number: 1\n",
            "\n",
            "Epoch 101: ReduceLROnPlateau reducing learning rate to 0.00010000000474974513.\n",
            "\n",
            "Epoch 201: ReduceLROnPlateau reducing learning rate to 1.0000000474974514e-05.\n",
            "Optimizing model by reducing: <__main__.MASE object at 0x78883e4928d0> for 500 epochs, model number: 2\n",
            "\n",
            "Epoch 102: ReduceLROnPlateau reducing learning rate to 0.00010000000474974513.\n",
            "\n",
            "Epoch 240: ReduceLROnPlateau reducing learning rate to 1.0000000474974514e-05.\n",
            "\n",
            "Epoch 340: ReduceLROnPlateau reducing learning rate to 1.0000000656873453e-06.\n",
            "Optimizing model by reducing: mape for 500 epochs, model number: 2\n",
            "\n",
            "Epoch 103: ReduceLROnPlateau reducing learning rate to 0.00010000000474974513.\n",
            "\n",
            "Epoch 218: ReduceLROnPlateau reducing learning rate to 1.0000000474974514e-05.\n",
            "\n",
            "Epoch 334: ReduceLROnPlateau reducing learning rate to 1.0000000656873453e-06.\n",
            "\n",
            "Epoch 434: ReduceLROnPlateau reducing learning rate to 1.0000001111620805e-07.\n",
            "Optimizing model by reducing: <__main__.SMAPE object at 0x788862135710> for 500 epochs, model number: 2\n",
            "\n",
            "Epoch 101: ReduceLROnPlateau reducing learning rate to 0.00010000000474974513.\n",
            "\n",
            "Epoch 201: ReduceLROnPlateau reducing learning rate to 1.0000000474974514e-05.\n",
            "Optimizing model by reducing: <__main__.MASE object at 0x78883e4928d0> for 500 epochs, model number: 3\n",
            "\n",
            "Epoch 108: ReduceLROnPlateau reducing learning rate to 0.00010000000474974513.\n",
            "Optimizing model by reducing: mape for 500 epochs, model number: 3\n",
            "\n",
            "Epoch 105: ReduceLROnPlateau reducing learning rate to 0.00010000000474974513.\n",
            "\n",
            "Epoch 235: ReduceLROnPlateau reducing learning rate to 1.0000000474974514e-05.\n",
            "\n",
            "Epoch 344: ReduceLROnPlateau reducing learning rate to 1.0000000656873453e-06.\n",
            "\n",
            "Epoch 444: ReduceLROnPlateau reducing learning rate to 1.0000001111620805e-07.\n",
            "Optimizing model by reducing: <__main__.SMAPE object at 0x788862135710> for 500 epochs, model number: 3\n",
            "\n",
            "Epoch 101: ReduceLROnPlateau reducing learning rate to 0.00010000000474974513.\n",
            "\n",
            "Epoch 201: ReduceLROnPlateau reducing learning rate to 1.0000000474974514e-05.\n",
            "Optimizing model by reducing: <__main__.MASE object at 0x78883e4928d0> for 500 epochs, model number: 4\n",
            "\n",
            "Epoch 106: ReduceLROnPlateau reducing learning rate to 0.00010000000474974513.\n",
            "Optimizing model by reducing: mape for 500 epochs, model number: 4\n",
            "\n",
            "Epoch 105: ReduceLROnPlateau reducing learning rate to 0.00010000000474974513.\n",
            "\n",
            "Epoch 234: ReduceLROnPlateau reducing learning rate to 1.0000000474974514e-05.\n",
            "\n",
            "Epoch 343: ReduceLROnPlateau reducing learning rate to 1.0000000656873453e-06.\n",
            "\n",
            "Epoch 443: ReduceLROnPlateau reducing learning rate to 1.0000001111620805e-07.\n",
            "Optimizing model by reducing: <__main__.SMAPE object at 0x788862135710> for 500 epochs, model number: 4\n",
            "\n",
            "Epoch 115: ReduceLROnPlateau reducing learning rate to 0.00010000000474974513.\n",
            "\n",
            "Epoch 215: ReduceLROnPlateau reducing learning rate to 1.0000000474974514e-05.\n"
          ]
        }
      ],
      "source": [
        "ensemble_models=get_ensemble_models(num_iter=5,\n",
        "                                    num_epochs=500)"
      ]
    },
    {
      "cell_type": "code",
      "execution_count": null,
      "metadata": {
        "id": "C3aqtGX-okNu"
      },
      "outputs": [],
      "source": [
        "def make_ensemble_preds(ensemble_models,data):\n",
        "  ensemble_preds=[]\n",
        "  for  model in ensemble_models:\n",
        "    preds=model.predict(data)\n",
        "    ensemble_preds.append(preds)\n",
        "  return tf.constant(tf.squeeze(ensemble_preds))"
      ]
    },
    {
      "cell_type": "code",
      "execution_count": null,
      "metadata": {
        "id": "GxNYdbl3vIK6",
        "colab": {
          "base_uri": "https://localhost:8080/"
        },
        "outputId": "fe721e3e-ff7c-4035-e667-3d3960a39873"
      },
      "outputs": [
        {
          "output_type": "stream",
          "name": "stdout",
          "text": [
            "\r\u001b[1m1/2\u001b[0m \u001b[32m━━━━━━━━━━\u001b[0m\u001b[37m━━━━━━━━━━\u001b[0m \u001b[1m1s\u001b[0m 1s/step"
          ]
        },
        {
          "output_type": "stream",
          "name": "stderr",
          "text": [
            "WARNING:tensorflow:5 out of the last 15 calls to <function TensorFlowTrainer.make_predict_function.<locals>.one_step_on_data_distributed at 0x78871c2722a0> triggered tf.function retracing. Tracing is expensive and the excessive number of tracings could be due to (1) creating @tf.function repeatedly in a loop, (2) passing tensors with different shapes, (3) passing Python objects instead of tensors. For (1), please define your @tf.function outside of the loop. For (2), @tf.function has reduce_retracing=True option that can avoid unnecessary retracing. For (3), please refer to https://www.tensorflow.org/guide/function#controlling_retracing and https://www.tensorflow.org/api_docs/python/tf/function for  more details.\n"
          ]
        },
        {
          "output_type": "stream",
          "name": "stdout",
          "text": [
            "\u001b[1m2/2\u001b[0m \u001b[32m━━━━━━━━━━━━━━━━━━━━\u001b[0m\u001b[37m\u001b[0m \u001b[1m2s\u001b[0m 911ms/step\n",
            "\u001b[1m2/2\u001b[0m \u001b[32m━━━━━━━━━━━━━━━━━━━━\u001b[0m\u001b[37m\u001b[0m \u001b[1m0s\u001b[0m 30ms/step\n",
            "\u001b[1m2/2\u001b[0m \u001b[32m━━━━━━━━━━━━━━━━━━━━\u001b[0m\u001b[37m\u001b[0m \u001b[1m0s\u001b[0m 30ms/step\n",
            "\u001b[1m2/2\u001b[0m \u001b[32m━━━━━━━━━━━━━━━━━━━━\u001b[0m\u001b[37m\u001b[0m \u001b[1m0s\u001b[0m 30ms/step\n",
            "\u001b[1m2/2\u001b[0m \u001b[32m━━━━━━━━━━━━━━━━━━━━\u001b[0m\u001b[37m\u001b[0m \u001b[1m0s\u001b[0m 31ms/step\n",
            "\u001b[1m2/2\u001b[0m \u001b[32m━━━━━━━━━━━━━━━━━━━━\u001b[0m\u001b[37m\u001b[0m \u001b[1m0s\u001b[0m 30ms/step\n",
            "\u001b[1m2/2\u001b[0m \u001b[32m━━━━━━━━━━━━━━━━━━━━\u001b[0m\u001b[37m\u001b[0m \u001b[1m0s\u001b[0m 19ms/step\n",
            "\u001b[1m2/2\u001b[0m \u001b[32m━━━━━━━━━━━━━━━━━━━━\u001b[0m\u001b[37m\u001b[0m \u001b[1m0s\u001b[0m 17ms/step\n",
            "\u001b[1m2/2\u001b[0m \u001b[32m━━━━━━━━━━━━━━━━━━━━\u001b[0m\u001b[37m\u001b[0m \u001b[1m0s\u001b[0m 17ms/step\n",
            "\u001b[1m2/2\u001b[0m \u001b[32m━━━━━━━━━━━━━━━━━━━━\u001b[0m\u001b[37m\u001b[0m \u001b[1m0s\u001b[0m 17ms/step\n",
            "\u001b[1m2/2\u001b[0m \u001b[32m━━━━━━━━━━━━━━━━━━━━\u001b[0m\u001b[37m\u001b[0m \u001b[1m0s\u001b[0m 17ms/step\n",
            "\u001b[1m2/2\u001b[0m \u001b[32m━━━━━━━━━━━━━━━━━━━━\u001b[0m\u001b[37m\u001b[0m \u001b[1m0s\u001b[0m 16ms/step\n",
            "\u001b[1m2/2\u001b[0m \u001b[32m━━━━━━━━━━━━━━━━━━━━\u001b[0m\u001b[37m\u001b[0m \u001b[1m0s\u001b[0m 16ms/step\n",
            "\u001b[1m2/2\u001b[0m \u001b[32m━━━━━━━━━━━━━━━━━━━━\u001b[0m\u001b[37m\u001b[0m \u001b[1m0s\u001b[0m 15ms/step\n",
            "\u001b[1m2/2\u001b[0m \u001b[32m━━━━━━━━━━━━━━━━━━━━\u001b[0m\u001b[37m\u001b[0m \u001b[1m0s\u001b[0m 15ms/step\n"
          ]
        },
        {
          "output_type": "execute_result",
          "data": {
            "text/plain": [
              "<tf.Tensor: shape=(15, 1060), dtype=float32, numpy=\n",
              "array([[431.7036 , 425.81808, 424.7329 , ..., 429.10565, 429.97772,\n",
              "        432.2069 ],\n",
              "       [431.7036 , 425.81808, 424.7329 , ..., 429.10565, 429.97772,\n",
              "        432.2069 ],\n",
              "       [431.7036 , 425.81808, 424.7329 , ..., 429.10565, 429.97772,\n",
              "        432.2069 ],\n",
              "       ...,\n",
              "       [431.7036 , 425.81808, 424.7329 , ..., 429.10565, 429.97772,\n",
              "        432.2069 ],\n",
              "       [431.7036 , 425.81808, 424.7329 , ..., 429.10565, 429.97772,\n",
              "        432.2069 ],\n",
              "       [431.7036 , 425.81808, 424.7329 , ..., 429.10565, 429.97772,\n",
              "        432.2069 ]], dtype=float32)>"
            ]
          },
          "metadata": {},
          "execution_count": 71
        }
      ],
      "source": [
        "ensemble_preds=make_ensemble_preds(ensemble_models=ensemble_models,\n",
        "                                   data=test_dataset)\n",
        "ensemble_preds"
      ]
    },
    {
      "cell_type": "code",
      "execution_count": null,
      "metadata": {
        "id": "Gh7pKZJfvNwp",
        "colab": {
          "base_uri": "https://localhost:8080/"
        },
        "outputId": "66229971-a6ed-47cc-e7dd-7c7195612b81"
      },
      "outputs": [
        {
          "output_type": "execute_result",
          "data": {
            "text/plain": [
              "<tf.Tensor: shape=(1060,), dtype=float32, numpy=\n",
              "array([431.7036 , 425.818  , 424.7329 , ..., 429.1056 , 429.97766,\n",
              "       432.207  ], dtype=float32)>"
            ]
          },
          "metadata": {},
          "execution_count": 72
        }
      ],
      "source": [
        "ensemble_mean=tf.reduce_mean(ensemble_preds,axis=0)\n",
        "ensemble_mean"
      ]
    },
    {
      "cell_type": "code",
      "execution_count": null,
      "metadata": {
        "id": "g_8tf_VmvTna",
        "colab": {
          "base_uri": "https://localhost:8080/"
        },
        "outputId": "28f5721f-c96d-4f02-c2f6-9dc6bb8a490a"
      },
      "outputs": [
        {
          "output_type": "execute_result",
          "data": {
            "text/plain": [
              "{'mae': 17.469902,\n",
              " 'mse': 745.68646,\n",
              " 'rmse': 27.307259,\n",
              " 'mape': 4.8559165,\n",
              " 'mase': 0.95504963,\n",
              " 'smape': 4.9559636}"
            ]
          },
          "metadata": {},
          "execution_count": 73
        }
      ],
      "source": [
        "ensemble_results=evaluate_preds(y_true=y_test,\n",
        "                                y_pred=ensemble_mean)\n",
        "ensemble_results"
      ]
    }
  ],
  "metadata": {
    "accelerator": "GPU",
    "colab": {
      "gpuType": "T4",
      "provenance": [],
      "include_colab_link": true
    },
    "kernelspec": {
      "display_name": "Python 3",
      "name": "python3"
    },
    "language_info": {
      "name": "python"
    }
  },
  "nbformat": 4,
  "nbformat_minor": 0
}